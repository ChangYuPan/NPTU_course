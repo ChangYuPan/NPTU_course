{
 "cells": [
  {
   "cell_type": "markdown",
   "metadata": {},
   "source": [
    "<font color='#77aaaa' face='monospace' size=40> 資料結構（Data Structure） </font>"
   ]
  },
  {
   "cell_type": "markdown",
   "metadata": {},
   "source": [
    "<font color='#ff7777' face='monospace'>Q: 什麼是資料結構（What）?</font><br>\n",
    "<font face='monospace'>\n",
    "    A: <br>\n",
    "    在電腦科學中，資料結構（英語：data structure）是電腦中儲存、組織資料的方式。<br>\n",
    "    資料結構意味著介面或封裝：一個資料結構可被視為兩個函式之間的介面，或者是由資料類型聯合組成的儲存內容的存取方法封裝。<br>\n",
    "</font>\n",
    "<font face='monospace' size=2>(取自[wikipedia](https://zh.wikipedia.org/wiki/%E6%95%B0%E6%8D%AE%E7%BB%93%E6%9E%84))</font><br>\n",
    "\n",
    "<font color='#ff7777' face='monospace'>Q: 為什麼需要資料結構（Why）?</font><br>\n",
    "<font face='monospace'>A: </font><br>\n",
    "當我們需要處理大量資料的時候，一個好的資料結構有助於在<font color='#77aaaa'>索引、傳遞、儲存</font>等等過程更有效率。<br>\n",
    "\n",
    "<font color='#ff7777' face='monospace'>Q: 什麼時候需要資料結構（When）?</font><br>\n",
    "<font face='monospace'>A: </font><br>\n",
    "當我們要儲存一堆<font color='#77aaaa'>具有相同意義、彼此之間有關連性</font>的資料，就可以選擇一個適合的資料結構來儲存<br>"
   ]
  },
  {
   "cell_type": "markdown",
   "metadata": {},
   "source": [
    "在 Python 中常見的資料結構分別有以下4種\n",
    "1. list (串列)\n",
    "2. tuple (元組)\n",
    "3. dictionary (字典)\n",
    "4. set (集合)\n",
    "\n",
    "其中 list, dictionary, set 都是可變動的(mutable)，而 tuple 則為不可變動(immutable)<br>"
   ]
  },
  {
   "cell_type": "markdown",
   "metadata": {},
   "source": [
    "---"
   ]
  },
  {
   "cell_type": "markdown",
   "metadata": {},
   "source": [
    "### List (串列)\n",
    "以__<font color='#ff7777'> 有序 </font>__的方式儲存資料，其中可包含不同類的資料型態  \n",
    "基本語法如下，用__<font color='#77aaaa'> 中括號 </font>__來表示，並且每個元素之間用__<font color='#77aaaa'> 逗點隔開 </font>__\n",
    "```python\n",
    "my_list = [100, 473.45, '綠毛蟲', ['Pokemon']]\n",
    "```\n",
    "從上述範例可以發現，我們甚至可以在 `list` 裡面儲存另一個 `list`  "
   ]
  },
  {
   "cell_type": "markdown",
   "metadata": {},
   "source": [
    "一般來說，我們會用 `list`儲存一串__<font color='#ff7777'> 具有相同意義 </font>__的資料  \n",
    "例如：我們想儲存六隻我們要用來打世界冠軍大吾的寶可夢\n",
    "\n",
    "<left>\n",
    "    <img src='images/大吾.png' width=250px/>\n",
    "</left>\n",
    "\n",
    "在還不懂 `list` 的使用方式前，你可能會這樣使用\n",
    "```python\n",
    "pokemon1 = '綠毛蟲'\n",
    "pokemon2 = '鐵甲蛹'\n",
    "pokemon3 = '拉魯拉斯'\n",
    "pokemon4 = '凱西'\n",
    "pokemon5 = '比比鳥'\n",
    "pokemon6 = '卡比獸'\n",
    "```\n",
    "\n",
    "而在使用 `list` 後，我們可以單單使用一個變數來儲存所有的六隻寶可夢\n",
    "```python\n",
    "my_pokemon = ['綠毛蟲', '鐵甲蛹', '拉魯拉斯', '凱西', '比比鳥', '卡比獸']\n",
    "```"
   ]
  },
  {
   "cell_type": "code",
   "execution_count": null,
   "metadata": {},
   "outputs": [],
   "source": [
    "my_list = [100, 473.45, '綠毛蟲', ['Pokemon']]\n",
    "my_pokemon = ['綠毛蟲', '鐵甲蛹', '拉魯拉斯', '凱西', '比比鳥', '卡比獸']"
   ]
  },
  {
   "cell_type": "markdown",
   "metadata": {},
   "source": [
    "> 使用 `len` 這個函數可以獲取 `list` 的元素個數（長度）"
   ]
  },
  {
   "cell_type": "code",
   "execution_count": null,
   "metadata": {},
   "outputs": [],
   "source": [
    "print(len(my_pokemon))"
   ]
  },
  {
   "cell_type": "markdown",
   "metadata": {},
   "source": [
    "##### Get element from a list\n",
    "從上面衍伸而來的問題就是，當我有 `my_pokemon` 這個 `list` 之後，我要怎麼一一取出我所選中的寶可夢來應對  \n",
    "在 Python 的語法中，我們一樣使用中括號來取出對應位置的元素\n",
    "> 如上述所提，`list` 以__<font color='#ff7777'> 有序 </font>__的方式儲存資料，故可以用數字來表示要取出的位置  \n",
    "且這個索引用的數字__<font color='#ff7777'> 從 0 開始 </font>__\n",
    "\n",
    "舉例來說，冠軍大吳使用了搖籃百合 \n",
    "![搖籃百合](images/搖籃百合.png)  \n",
    "根據屬性剋制關係，我們知道這邊應該叫出__<font color='#77ff77'> 綠毛蟲 </font>__來應戰  \n",
    "故這個時候就應該用以下表示式"
   ]
  },
  {
   "cell_type": "code",
   "execution_count": null,
   "metadata": {
    "scrolled": true
   },
   "outputs": [],
   "source": [
    "print(my_pokemon[0])"
   ]
  },
  {
   "cell_type": "markdown",
   "metadata": {},
   "source": [
    "> 在 Python 中，比較特別的是，我們可以用負數當作索引值，其會以倒序的順序來索引 `list` 中的元素。\n",
    "舉例來說，我們想要索引最後一隻寶可夢，則可以用 `-1` 當作索引值，`-2` 則為倒數第二隻，依此類推"
   ]
  },
  {
   "cell_type": "code",
   "execution_count": null,
   "metadata": {},
   "outputs": [],
   "source": [
    "print(my_pokemon[-1])"
   ]
  },
  {
   "cell_type": "markdown",
   "metadata": {},
   "source": [
    "##### Slice(切片): multiple index\n",
    "除了可以指定索引值獲取單一元素之外，Python提供「切片」的功能來索引多個元素\n",
    "基本語法如下\n",
    "```\n",
    "[起始index:結束index:步數]\n",
    "```\n",
    "- 起始 index: 取得元素的起始點\n",
    "- 結束 index: 取得元素的結束點的__<font color='#ff7777'>下一個 index </font>__，也就是說，取出的元素不包含該結束 index\n",
    "- 步數 (step): 從起始 index 到結束 index 的過程，每次要取的間隔，預設值是 1，也就是每個都取，當我們輸入 2 時，則代表每次都跳過一個來取\n",
    "> 若起始 index 為 0 或結束 index 為 `list` 最後一個元素則可以省略不寫\n",
    "\n",
    "以下分別舉三個例子來說明"
   ]
  },
  {
   "cell_type": "markdown",
   "metadata": {},
   "source": [
    "1. 取出前三隻寶可夢"
   ]
  },
  {
   "cell_type": "code",
   "execution_count": null,
   "metadata": {},
   "outputs": [],
   "source": [
    "print(my_pokemon[0:3])\n",
    "print(my_pokemon[:3])"
   ]
  },
  {
   "cell_type": "markdown",
   "metadata": {},
   "source": [
    "2. 取出後三隻寶可夢"
   ]
  },
  {
   "cell_type": "code",
   "execution_count": null,
   "metadata": {},
   "outputs": [],
   "source": [
    "print(my_pokemon[3:6])\n",
    "print(my_pokemon[3:])\n",
    "print(my_pokemon[-3:])"
   ]
  },
  {
   "cell_type": "markdown",
   "metadata": {},
   "source": [
    "3. 從第一隻寶可夢開始，每次間隔 1 隻取出"
   ]
  },
  {
   "cell_type": "code",
   "execution_count": null,
   "metadata": {},
   "outputs": [],
   "source": [
    "print(my_pokemon[0:6:2])\n",
    "print(my_pokemon[0::2])\n",
    "print(my_pokemon[:6:2])\n",
    "print(my_pokemon[::2])"
   ]
  },
  {
   "cell_type": "markdown",
   "metadata": {},
   "source": [
    "> 除了可以用索引值取的 `list` 中的元素之外，反過來我們也可以尋找一個元素在 `list` 中的索引值"
   ]
  },
  {
   "cell_type": "code",
   "execution_count": null,
   "metadata": {},
   "outputs": [],
   "source": [
    "print(my_pokemon.index('凱西'))"
   ]
  },
  {
   "cell_type": "markdown",
   "metadata": {},
   "source": [
    "##### Mutable\n",
    "在上述我們提到，串列是可變動的，意思就是當我們定義好一個 `list` 之後，可以更改其中的元素值，只要對索引的元素 assgin 新的值即可\n",
    "> 反之，不可變動的 `tuple` 即定義好之後不可變動其中的值"
   ]
  },
  {
   "cell_type": "code",
   "execution_count": null,
   "metadata": {},
   "outputs": [],
   "source": [
    "my_pokemon[1] = '巴大蝴'\n",
    "print(my_pokemon)"
   ]
  },
  {
   "cell_type": "markdown",
   "metadata": {},
   "source": [
    "##### 常見的串列操作方法 (method)\n",
    "針對 `list` 有以下幾個常用的方法，除了 `pop` 有回傳值以外，其餘皆無回傳值\n",
    "1. insert() : 插入元素在指定的索引值上\n",
    "2. remove() : 移除指定元素\n",
    "3. extend() : 在一個 `list` 上擴展另一個 `list`\n",
    "4. del : 移除指定索引值的元素\n",
    "5. append() : 插入元素在 `list` 的尾端\n",
    "6. pop() : 移除 `list` 中指定 index 的元素，__<font color='#ff7777'>並回傳該元素</font>__，預設是最尾端\n",
    "\n",
    "基本語法為\n",
    "```python\n",
    "list.method(args) # 根據不同方法放入不同的引數\n",
    "```"
   ]
  },
  {
   "cell_type": "code",
   "execution_count": null,
   "metadata": {},
   "outputs": [],
   "source": [
    "my_pokemon.insert(1, '烈空座')\n",
    "print(my_pokemon)"
   ]
  },
  {
   "cell_type": "code",
   "execution_count": null,
   "metadata": {},
   "outputs": [],
   "source": [
    "my_pokemon.remove('烈空座')\n",
    "print(my_pokemon)"
   ]
  },
  {
   "cell_type": "code",
   "execution_count": null,
   "metadata": {},
   "outputs": [],
   "source": [
    "my_pokemon.extend(['小火龍', '火恐龍', '噴火龍'])\n",
    "print(my_pokemon)"
   ]
  },
  {
   "cell_type": "markdown",
   "metadata": {},
   "source": [
    "> 也可以用 `+` 來連接兩個 `list` 達成同樣的效果，但不會改變元 `list` 的內容，\n",
    "若想要改變原 `list` 的內容，則需要 assign 給該變數"
   ]
  },
  {
   "cell_type": "code",
   "execution_count": null,
   "metadata": {},
   "outputs": [],
   "source": [
    "print(my_pokemon)\n",
    "print(my_pokemon + ['小火龍', '火恐龍', '噴火龍'])\n",
    "print(my_pokemon)\n",
    "my_pokemon_v2 = my_pokemon + ['小火龍', '火恐龍', '噴火龍']\n",
    "print(my_pokemon_v2)"
   ]
  },
  {
   "cell_type": "code",
   "execution_count": null,
   "metadata": {},
   "outputs": [],
   "source": [
    "del my_pokemon[-3:]\n",
    "print(my_pokemon)"
   ]
  },
  {
   "cell_type": "code",
   "execution_count": null,
   "metadata": {},
   "outputs": [],
   "source": [
    "my_pokemon.append('固拉多')\n",
    "print(my_pokemon)"
   ]
  },
  {
   "cell_type": "code",
   "execution_count": null,
   "metadata": {},
   "outputs": [],
   "source": [
    "print(my_pokemon.pop())\n",
    "print(my_pokemon)"
   ]
  },
  {
   "cell_type": "markdown",
   "metadata": {},
   "source": [
    "---"
   ]
  },
  {
   "cell_type": "markdown",
   "metadata": {},
   "source": [
    "### Tuple (元組)\n",
    "以__<font color='#ff7777'> 有序 </font>__的方式儲存資料，其中可包含不同類的資料型態  \n",
    "基本語法如下，用__<font color='#77aaaa'> 小括號 </font>__來表示，並且每個元素之間用__<font color='#77aaaa'> 逗點隔開 </font>__\n",
    "```python\n",
    "my_tuple = (100, 473.45, '綠毛蟲', ['Pokemon'], ('傑尼龜', '卡咪龜', '忍者龜'))\n",
    "```\n",
    "從上述範例可以發現，我們甚至可以在 `tuple` 裡面儲存另一個 `tuple` 或是一個 `list` "
   ]
  },
  {
   "cell_type": "code",
   "execution_count": null,
   "metadata": {},
   "outputs": [],
   "source": [
    "my_tuple = (100, 473.45, '綠毛蟲', ['Pokemon'], ('傑尼龜', '卡咪龜', '忍者龜'))"
   ]
  },
  {
   "cell_type": "markdown",
   "metadata": {},
   "source": [
    "> `tuple` 的所有屬性都跟 `list` 幾乎一樣，只差在 `tuple` 為不可變動的，故不會有 `append()`, `pop()` etc. 這類的操作方法"
   ]
  },
  {
   "cell_type": "code",
   "execution_count": null,
   "metadata": {},
   "outputs": [],
   "source": [
    "my_tuple[0] = '烈空座'"
   ]
  },
  {
   "cell_type": "code",
   "execution_count": null,
   "metadata": {},
   "outputs": [],
   "source": [
    "my_tuple.pop()"
   ]
  },
  {
   "cell_type": "markdown",
   "metadata": {},
   "source": [
    "---"
   ]
  },
  {
   "cell_type": "markdown",
   "metadata": {},
   "source": [
    "### Dictionary (字典)\n",
    "以__<font color='#ff7777'> 無序 </font>__的方式儲存資料，每一筆資料由一組__<font color='#ff7777'  face='monospace'> 鍵-值(key-value) </font>__來表示  \n",
    "基本語法如下，用__<font color='#77aaaa'> 大括號 </font>__來表示，並且每組鍵 - 值之間用__<font color='#77aaaa'> 冒號隔開 </font>__，不同鍵值之間則用__<font color='#77aaaa'> 逗點隔開 </font>__\n",
    "```python\n",
    "my_dict = {'level': 100, 'hp': 473.45, 'name': '綠毛蟲', 0: ['Pokemon'], 3.14: ('傑尼龜', '卡咪龜', '忍者龜')}\n",
    "```\n",
    "從上述範例可以發現，我們甚至可以在 `tuple` 裡面儲存另一個 `tuple` 或是一個 `list`，且 key 並沒有限制資料型態，可以是 `str`, `int` 或是 `float`\n",
    "\n",
    "舉例來說，我們有想要儲存一個御三家所有型態的 `dict`，則我們可以用以下的表示式\n",
    "```python\n",
    "rookie_pokemoon = {\n",
    "    '水': ['傑尼龜', '卡咪龜', '水箭龜'], \n",
    "    '火': ['小火龍', '火恐龍', '噴火龍'], \n",
    "    '草': ['妙蛙種子', '妙蛙草', '妙蛙花']\n",
    "}\n",
    "```"
   ]
  },
  {
   "cell_type": "code",
   "execution_count": null,
   "metadata": {},
   "outputs": [],
   "source": [
    "my_dict = {'level': 100, 'hp': 473.45, 'name': '綠毛蟲', 0: ['Pokemon'], 3.14: ('傑尼龜', '卡咪龜', '忍者龜')}\n",
    "rookie_pokemon = {\n",
    "    '水': ['傑尼龜', '卡咪龜', '水箭龜'], \n",
    "    '火': ['小火龍', '火恐龍', '噴火龍'], \n",
    "    '草': ['妙蛙種子', '妙蛙草', '妙蛙花']\n",
    "}\n",
    "print(rookie_pokemon)"
   ]
  },
  {
   "cell_type": "markdown",
   "metadata": {},
   "source": [
    "> 若想查看 `dict` 中所有的 key 或是 value，可以利用 `keys()` 及 `values()`"
   ]
  },
  {
   "cell_type": "code",
   "execution_count": null,
   "metadata": {},
   "outputs": [],
   "source": [
    "print(rookie_pokemon.keys())\n",
    "print(rookie_pokemon.values())"
   ]
  },
  {
   "cell_type": "markdown",
   "metadata": {},
   "source": [
    "##### Get element from a  dictionary\n",
    "在 Python 中我們用中括號來索引 `dict` 裡的元素，不同於 `list` 的地方是，因為 `dict` 以「無序」的方式儲存資料，故我們無法用數字來索引。  \n",
    "而是利用其__<font color='#ff7777' face='monospace'> 鍵(key) </font>__來取出對應的__<font color='#ff7777' face='monospace'> 值(value) </font>__  \n",
    "舉例來說，大木博士近期又收到一個從真新鎮來的菜鳥，菜鳥表示想要先看看草屬性的寶可夢，雖然很不推薦因為妙蛙種子真的滿爛的，但大木博士還是需要介紹他  \n",
    "![大木博士](images/大木博士.png)  \n",
    "這個時候就可以用以下表示式"
   ]
  },
  {
   "cell_type": "code",
   "execution_count": null,
   "metadata": {},
   "outputs": [],
   "source": [
    "print(rookie_pokemon['草'])"
   ]
  },
  {
   "cell_type": "markdown",
   "metadata": {},
   "source": [
    "##### Multiple item\n",
    "> 很遺憾的，`dict` 並不能如 `list` 那樣一次取出多個內容物"
   ]
  },
  {
   "cell_type": "markdown",
   "metadata": {},
   "source": [
    "##### Mutable\n",
    "如前面所述，`dict` 也是可以變動內容物的，其中又可以細分為變動 key 以及變動 value 兩部份"
   ]
  },
  {
   "cell_type": "markdown",
   "metadata": {},
   "source": [
    "##### 1. 新增 key-value\n",
    "只需要準備好要新增的一組 key-value 及要放置的 `dict`，基本語法如下\n",
    "```python\n",
    "my_dict[key] = value\n",
    "```\n",
    "舉例來說，大木博士最近覺得只有御三家有點無聊，想要新增一個幽靈系的選項，於是他選擇加入鬼斯這個幽靈系寶可夢\n",
    "![鬼斯](images/鬼斯.png)\n",
    "則可以用以下這個表示式"
   ]
  },
  {
   "cell_type": "code",
   "execution_count": null,
   "metadata": {},
   "outputs": [],
   "source": [
    "rookie_pokemon['幽靈'] = ['鬼斯', '鬼斯通', '耿鬼']\n",
    "print(rookie_pokemon)"
   ]
  },
  {
   "cell_type": "markdown",
   "metadata": {},
   "source": [
    "##### 2. 刪除 key-value\n",
    "常見的方法有以下兩種  \n",
    "a. 如同 `list` 的用法，利用 `del` 指令刪除指定的 key，基本語法如下\n",
    "```python    \n",
    "del my_dict[key]\n",
    "```\n",
    "b. `dict` 也具有 `pop()` 這個方法可以使用，可以利用 `pop()` 移除指定的 key __<font color='#ff7777' face='monospace'>並回傳該 value</font>__，基本語法如下\n",
    "```python\n",
    "my_dict.pop(key)\n",
    "```\n",
    "舉例來說，大木博士真的受不了妙蛙種子，實在是爛透了，故想把它移除御三家的選項  \n",
    "![妙蛙種子爛透了](images/妙蛙種子爛透了.png)\n",
    "則可以用以下表示式"
   ]
  },
  {
   "cell_type": "code",
   "execution_count": null,
   "metadata": {},
   "outputs": [],
   "source": [
    "print(rookie_pokemon.pop('草'))\n",
    "print(rookie_pokemon)"
   ]
  },
  {
   "cell_type": "markdown",
   "metadata": {},
   "source": [
    "##### 3. 更改某個 key 的 value\n",
    "利用 `update()` 這個方法可以對 `dict` 中既有的 key 更改其對應的 value，  \n",
    "其中，放入 `update` 方法中的欲更改的 key-value 也必須是一個 `dict` 的型態，基本語法如下\n",
    "```python\n",
    "my_dict.update({key: new_value})\n",
    "```\n",
    "當然，批次更改多個 key-value 也是沒有問題的\n",
    "```python\n",
    "my_dict.update({key1: new_value1, key2: new_value2})\n",
    "```\n",
    "> 若只是要改變其中一個 key-value，也可以用 assign value 的方式 assign 給 key 即可，基本語法如下\n",
    "```python\n",
    "my_dict[key] = value\n",
    "```\n",
    "\n",
    "舉例來說，大木博士最近發現水系的寶可夢使用墨海馬更為合適\n",
    "![墨海馬](images/墨海馬.png)\n",
    "則可以使用以下表示式"
   ]
  },
  {
   "cell_type": "code",
   "execution_count": null,
   "metadata": {},
   "outputs": [],
   "source": [
    "rookie_pokemon['水'] = ['墨海馬', '海刺龍', '刺龍王']\n",
    "print(rookie_pokemon)"
   ]
  },
  {
   "cell_type": "markdown",
   "metadata": {},
   "source": [
    "##### 更改某個 value 的 key\n",
    "![並沒有](images/並沒有.jpeg)  \n",
    "> Python 並沒有直接修改 `key` 的方法，若有這方面的需求，可以改為刪除該 `key-value`，再新增一組 `new_key-value`，間接達成修改 `key` 的目的"
   ]
  },
  {
   "cell_type": "markdown",
   "metadata": {},
   "source": [
    "---"
   ]
  },
  {
   "cell_type": "markdown",
   "metadata": {},
   "source": [
    "### Set (集合)\n",
    "同數學上的集合，故有以下特性\n",
    "- 不計次序\n",
    "- 不計重複\n",
    "- 集合之間可以做各項集合的操作：交集（intersection）、聯集（union）、差集（difference）\n",
    "\n",
    "基本語法如下，用__<font color='#77aaaa'> 大括號 </font>__來表示，不同資料之間用__<font color='#77aaaa'> 逗點隔開 </font>__\n",
    "```python\n",
    "my_set = {100, 473.45, '綠毛蟲',  (0, 1, 'a'), (0, 1, 'b')}\n",
    "```\n",
    "與其他資料結構不同的是，__<font color='#ff7777'>在 `set` 裡面不能儲存 `list`, `dict`, `set`，但 `tuple` 可以</font>__\n",
    "\n",
    "舉例來說，我們有想要儲存一個旅途中抓過的所有寶可夢種類，因為只在乎種類不在乎抓過幾隻，故可以用 `set`，則我們可以用以下的表示式\n",
    "```python\n",
    "all_pokemon = {'傑尼龜', '綠毛蟲', '綠毛蟲', '波波', '綠毛蟲', '凱西', '波波', '拉魯拉斯', '綠毛蟲', '固拉多', '蓋歐卡'}\n",
    "```"
   ]
  },
  {
   "cell_type": "code",
   "execution_count": null,
   "metadata": {},
   "outputs": [],
   "source": [
    "my_set = {100, 473.45, '綠毛蟲', (0, 1, 'a'), (0, 1, 'b')}\n",
    "all_pokemon = {'傑尼龜', '綠毛蟲', '綠毛蟲', '波波', '綠毛蟲', '凱西', '波波', '拉魯拉斯', '綠毛蟲', '固拉多', '蓋歐卡'}"
   ]
  },
  {
   "cell_type": "code",
   "execution_count": null,
   "metadata": {},
   "outputs": [],
   "source": [
    "print(my_set)\n",
    "print(all_pokemon)"
   ]
  },
  {
   "cell_type": "markdown",
   "metadata": {},
   "source": [
    "##### Get element from a set\n",
    "> __<font color='#ff7777'> 殘念！ </font>__在 Python 中我們無法直接索引 `set` 內的資料，必須要轉換為 `list` 或 `tuple`，才可以用用對應的方法取值，但因為 `set` 無序，`list` 與 `tuple` 有序，無法控制轉換過去之後的順序，故__<font color='#ff7777'> 若有索引需求要謹慎思考所使用的資料結構 </font>__"
   ]
  },
  {
   "cell_type": "code",
   "execution_count": null,
   "metadata": {},
   "outputs": [],
   "source": [
    "all_pokemon_list = list(all_pokemon)\n",
    "print(all_pokemon_list)\n",
    "print(all_pokemon_list[0])\n",
    "all_pokemon_tuple = tuple(all_pokemon)\n",
    "print(all_pokemon_tuple)\n",
    "print(all_pokemon_tuple[0])"
   ]
  },
  {
   "cell_type": "markdown",
   "metadata": {},
   "source": [
    "##### 常見的集合操作方法 (method) Part 1\n",
    "針對 `set` 有以下幾個常用的方法，除了 `pop` 有回傳值以外，其餘皆無回傳值\n",
    "1. add() : 插入元素\n",
    "2. remove() : 移除指定元素\n",
    "6. pop() : 移除 `set` 中__<font color='#ff7777'>隨機</font>__的元素，__<font color='#ff7777'>並回傳該元素</font>__\n",
    "\n",
    "基本語法為\n",
    "```python\n",
    "list.method(args) # 根據不同方法放入不同的引數\n",
    "```"
   ]
  },
  {
   "cell_type": "code",
   "execution_count": null,
   "metadata": {},
   "outputs": [],
   "source": [
    "all_pokemon.add('烈空座')\n",
    "print(all_pokemon)"
   ]
  },
  {
   "cell_type": "code",
   "execution_count": null,
   "metadata": {},
   "outputs": [],
   "source": [
    "all_pokemon.remove('烈空座')\n",
    "print(all_pokemon)"
   ]
  },
  {
   "cell_type": "code",
   "execution_count": null,
   "metadata": {},
   "outputs": [],
   "source": [
    "pop_pokemon = all_pokemon.pop()\n",
    "print(pop_pokemon)\n",
    "print(all_pokemon)"
   ]
  },
  {
   "cell_type": "markdown",
   "metadata": {},
   "source": [
    "##### 常見的集合操作方法 (method) Part 2\n",
    "如上述介紹，`set` 之間可以做集合運算\n",
    "1. intersection() : 交集\n",
    "2. union() : 聯集\n",
    "6. difference() : 差集\n",
    "\n",
    "基本語法為\n",
    "```python\n",
    "list.method(args) # 根據不同方法放入不同的引數\n",
    "```"
   ]
  },
  {
   "cell_type": "markdown",
   "metadata": {},
   "source": [
    "舉例來說，如果你在旅途中遇到小茂，你想跟他好好交流彼此抓過的寶可夢種類\n",
    "```python\n",
    "my_pokemons = {'傑尼龜', '綠毛蟲', '綠毛蟲', '波波', '綠毛蟲', '凱西', '波波', '拉魯拉斯', '綠毛蟲', '固拉多', '蓋歐卡'}\n",
    "his_pokemons = {'妙蛙種子', '鯉魚王', '鯉魚王', '波波', '鯉魚王', '波波', '拉魯拉斯', '綠毛蟲', '烈空座'}\n",
    "```\n",
    "![小茂](images/小茂.png)\n",
    "則你可以用以下表示式"
   ]
  },
  {
   "cell_type": "code",
   "execution_count": null,
   "metadata": {},
   "outputs": [],
   "source": [
    "my_pokemons_all = {'傑尼龜', '綠毛蟲', '綠毛蟲', '波波', '綠毛蟲', '凱西', '波波', '拉魯拉斯', '綠毛蟲', '固拉多', '蓋歐卡'}\n",
    "his_pokemons_all = {'妙蛙種子', '鯉魚王', '鯉魚王', '波波', '鯉魚王', '波波', '拉魯拉斯', '鯉魚王', '烈空座'}"
   ]
  },
  {
   "cell_type": "code",
   "execution_count": null,
   "metadata": {},
   "outputs": [],
   "source": [
    "interset_pokemon = my_pokemons_all.intersection(his_pokemons_all)\n",
    "print(interset_pokemon)"
   ]
  },
  {
   "cell_type": "code",
   "execution_count": null,
   "metadata": {},
   "outputs": [],
   "source": [
    "union_pokemon = my_pokemons_all.union(his_pokemons_all)\n",
    "print(union_pokemon)"
   ]
  },
  {
   "cell_type": "code",
   "execution_count": null,
   "metadata": {},
   "outputs": [],
   "source": [
    "# 我有他沒有\n",
    "difference_pokemon = my_pokemons_all.difference(his_pokemons_all)\n",
    "print(difference_pokemon)"
   ]
  },
  {
   "cell_type": "code",
   "execution_count": null,
   "metadata": {},
   "outputs": [],
   "source": [
    "# 他有我沒有\n",
    "difference_pokemon = his_pokemons_all.difference(my_pokemons_all)\n",
    "print(difference_pokemon)"
   ]
  },
  {
   "cell_type": "code",
   "execution_count": null,
   "metadata": {},
   "outputs": [],
   "source": []
  }
 ],
 "metadata": {
  "kernelspec": {
   "display_name": "Python 3",
   "language": "python",
   "name": "python3"
  },
  "language_info": {
   "codemirror_mode": {
    "name": "ipython",
    "version": 3
   },
   "file_extension": ".py",
   "mimetype": "text/x-python",
   "name": "python",
   "nbconvert_exporter": "python",
   "pygments_lexer": "ipython3",
   "version": "3.7.6"
  }
 },
 "nbformat": 4,
 "nbformat_minor": 4
}
