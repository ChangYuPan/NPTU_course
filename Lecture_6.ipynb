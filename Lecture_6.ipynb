{
 "cells": [
  {
   "cell_type": "markdown",
   "id": "614034d2",
   "metadata": {},
   "source": [
    "<a id='top'></a>\n",
    "<font color='#77aaaa' size=40> File handling(檔案處理) & Exception(例外處理)</font>"
   ]
  },
  {
   "cell_type": "markdown",
   "id": "e029e7ab",
   "metadata": {},
   "source": [
    "<a id='file_handling'></a>\n",
    "### File handling(檔案處理)\n",
    "很多時候我們會想以 python 作資料處理，或將 python 中的某些內容紀錄在某個檔案內，故這邊說明簡單的檔案處理概念及常見的用法。"
   ]
  },
  {
   "cell_type": "markdown",
   "id": "1c8450df",
   "metadata": {},
   "source": [
    "我們可以在 python 中打開一個檔案物件（file object），基本語法如下\n",
    "```python\n",
    "f = open(path, mode='r', encoding=None)\n",
    "```\n",
    "- <font color='#ffaa00' face='monospace'>__path__</font>: 放入要開啟的檔案路徑，可以是<font color='#77aaaa'>相對路徑</font>或<font color='#77aaaa'>絕對路徑</font>\n",
    "- <font color='#ffaa00' face='monospace'>__mode__</font>: 指定檔案要開啟的模式，詳見下表或查閱 `open` 的文件內容，預設為 `'r'`\n",
    "\n",
    "```\n",
    "========= ===============================================================\n",
    "Character Meaning\n",
    "--------- ---------------------------------------------------------------\n",
    "'r'       open for reading (default)\n",
    "'w'       open for writing, truncating the file first\n",
    "'x'       create a new file and open it for writing\n",
    "'a'       open for writing, appending to the end of the file if it exists\n",
    "'b'       binary mode\n",
    "'t'       text mode (default)\n",
    "'+'       open a disk file for updating (reading and writing)\n",
    "'U'       universal newline mode (deprecated)\n",
    "========= ===============================================================\n",
    "```\n",
    "- <font color='#ffaa00' face='monospace'>__encoding__</font>: 指定要開啟的編碼，預設為 `None`，會自動帶入系統使用的編碼，但基本上支援各式編碼，若想指定編碼但不知道該用什麼，問就是 `'utf-8'`\n",
    "\n",
    "> <font color='#ff7777'>[超級注意]</font> 若不需要使用該檔案需用<font color='#ff7777' face='monospace'> __f.close()__ </font>關閉，否則檔案有可能會發生不可預測的異常"
   ]
  },
  {
   "cell_type": "markdown",
   "id": "34a897d4",
   "metadata": {},
   "source": [
    "可以用 `f.closed` 檢測該檔案物件是否為關閉裝態，在開啟狀態下可以使用 `read`/`write` 等方法，根據物件的開啟方式決定"
   ]
  },
  {
   "cell_type": "markdown",
   "id": "30b068cf",
   "metadata": {},
   "source": [
    "- `read mode`\n",
    "\n",
    "1. <font face='monospace'>f.<font color='ffaa00'>__read__</font>(size=<font color='44aa44'>-1</font>)</font>\n",
    "    - 讀取 `size` 數量的字元(若物件是 binary mode 則計算 bytes)，預設為 `-1`，會讀取整份檔案\n",
    "    - 若檔案已經結束，則讀取會回傳空字串\n",
    "    \n",
    "2. <font face='monospace'>f.<font color='ffaa00'>__readline__</font>()</font>\n",
    "    - 會讀取一行，並且會把換行符號留在尾端\n",
    "    - 想讀取多行可以搭配 `for` 迴圈執行，如下範例\n",
    "    ```python\n",
    "    for line in f:\n",
    "        print(line)\n",
    "    ```\n",
    "    \n",
    "3. <font face='monospace'>f.<font color='ffaa00'>__readlines__</font>(hint=<font color='44aa44'>-1</font>)</font>\n",
    "    - 把每一行讀取之後放到一個 `list`，一樣會在尾端留下換行符號\n",
    "    - `hint` 預設為 `-1`，表示會讀取整份檔案。若指定數字，會讀取每一行直到字元數超過指定的數量為止\n",
    "    - 使用 `list(f)` 也可以達成一樣的效果\n",
    "\n",
    "\n",
    "> <font color='#ff7777'>[超級注意]</font> 讀取進來的每一行都會以字串的方式儲存。"
   ]
  },
  {
   "cell_type": "code",
   "execution_count": null,
   "id": "a187e5fb",
   "metadata": {},
   "outputs": [],
   "source": [
    "src = '/Users/cypan/Documents/NPTU_course/testFolder/poem.txt'\n",
    "# 以讀取方式開啟一個檔案物件\n",
    "f = open(src, 'r')"
   ]
  },
  {
   "cell_type": "code",
   "execution_count": null,
   "id": "ce0eee12",
   "metadata": {},
   "outputs": [],
   "source": [
    "f.readlines()"
   ]
  },
  {
   "cell_type": "markdown",
   "id": "9a64c7df",
   "metadata": {},
   "source": [
    "> 有以上這些了解之後，我們可以來做一些簡單的嘗試"
   ]
  },
  {
   "cell_type": "markdown",
   "id": "facb925c",
   "metadata": {},
   "source": [
    "#### 找到一份檔案內出現最多次的字元（換行字元除外）\n",
    "想要找到出現最多次的字元，我們會需要有一個 container 來存放我們的字元，並且要能記錄該字元出現的次數。<br>\n",
    "故這邊我們選用 `dict` 來儲存<br>\n",
    "\n",
    "我們的思路如下\n",
    "1. 用迴圈依序讀取，每次讀取一個字元\n",
    "2. 若該字元是換行符號則跳過，否則記錄至 `dict`\n",
    "3. 若讀取到空字串代表檔案已經結束（故迴圈我們選用 `while`）"
   ]
  },
  {
   "cell_type": "code",
   "execution_count": null,
   "id": "fa34bf80",
   "metadata": {},
   "outputs": [],
   "source": [
    "src = 'data/poem.txt'\n",
    "chars = {}   ### 儲存我們讀取到的字元，以字元為 key，出現次數為 value 儲存\n",
    "##### START Parctice #####\n",
    "pass\n",
    "#####  End  Parctice #####"
   ]
  },
  {
   "cell_type": "markdown",
   "id": "9c81112b",
   "metadata": {},
   "source": [
    "讀取完之後 <font color='#77aaaa'>chars</font> 應該會取得如下的值\n",
    "```\n",
    "{'黎': 2, '明': 3, '的': 11, ..., '道': 1, '路': 1, '。': 1}\n",
    "```\n",
    "想要知道出現最多次數的字元，我們必須找到 <font color='#77aaaa'>chars</font> 中 `value` 最大值所對應的 `key`<br>\n",
    "你可以用迴圈迭代去判定（D.I.Y.）<br>\n",
    "也可以用 <font color='#ffaa00' face='monospace'>__sorted__</font> 這個函數來取得排序之後的結過<br>"
   ]
  },
  {
   "cell_type": "code",
   "execution_count": null,
   "id": "85c26136",
   "metadata": {},
   "outputs": [],
   "source": [
    "sorted(chars)"
   ]
  },
  {
   "cell_type": "markdown",
   "id": "1b2ba6c4",
   "metadata": {},
   "source": [
    "不過你會發現對一個 `dict` 做 `sorted` 會使用他的 `key` 來做，但我們需要他的 `value` 來排序<br>\n",
    "這時候你可以帶入 sorted 的引數來指定你想要排序的目標，如下說明\n",
    "\n",
    "- <font face='monospace'><font color='ffaa00'>__sorted__</font>(iterable, key=<font color='44aa44'>None</font>, reverse=<font color='44aa44'>False</font>)</font>\n",
    "    - 可以排序任意一個可迭代物\n",
    "    - `key` 可以放入一個函數，會依照把可迭代物依序丟入函數後取得的值來排序\n",
    "    - `reverse` 預設為 `False`，由小到大排序，設為 `True` 則變為由大到小\n",
    "\n",
    "\n",
    "故我們改為排序 <font color='#ffaa00' face='monospace'>chars.items()</font>，並把 `key` 設為取出其 `value`，就可以讓他以 `value` 來排序，並且把 `reverse` 設為 `True`，則排序後的第一個元素即為出現次數最多的字元"
   ]
  },
  {
   "cell_type": "code",
   "execution_count": null,
   "id": "213e8798",
   "metadata": {},
   "outputs": [],
   "source": [
    "sorted(chars.items(), key=lambda item: item[1], reverse=True)"
   ]
  },
  {
   "cell_type": "markdown",
   "id": "a94f00d6",
   "metadata": {},
   "source": [
    "> <font color='#ff7777' face='monospace'>__lambda__</font>: <font color='#77aaaa'>lambda 運算式</font>：aka <font color='#77aaaa'>匿名函數（anonymous function）</font>，旨在建立小巧的函數，通常被用在功能簡單但需要一個函數來運作時，語法上限定只能做單一運算式\n",
    ">\n",
    "> 其定義方式跟數學上定義函數的長相非常相似，只是把 `=` 改寫成 `:`，如下範例是一個平方的 <font color='#ff7777' face='monospace'>__lambda__</font> 函數\n",
    ">\n",
    "> ```python\n",
    "> f = lambda x: x**2\n",
    "> ```\n",
    "> \n",
    "> 就像是數學上的 $f(x) = x^2$ 一樣\n",
    "> \n",
    "> 甚至可以不只一個變數，如下\n",
    ">\n",
    "> ```python\n",
    "> f = lambda x, y: (x**2 + y**2)**0.5\n",
    "> ```\n",
    "> \n",
    "> 就像是數學上的 $f(x, y) = \\sqrt{x^2 + y^2}$ 一樣\n",
    "> \n",
    "> 使用上，就如同一般函數使用即可"
   ]
  },
  {
   "cell_type": "markdown",
   "id": "c99bdae3",
   "metadata": {},
   "source": [
    "- `write mode`\n",
    "\n",
    "1. <font face='monospace'>f.<font color='ffaa00'>__write__</font>(text)</font>\n",
    "    - 把字串寫入檔案\n",
    "    - 會回傳一個整數，為寫入的字元數\n",
    "    - 換行需要自己寫入換行符號（`\\n`），否則連續寫入只會往後銜接\n",
    "    \n",
    "2. <font face='monospace'>f.<font color='ffaa00'>__writelines__</font>(lines)</font>\n",
    "    - 把 `list` 內的字串寫入檔案\n",
    "    - 一樣需要在需要換行的地方自行寫入換行符號（`\\n`）"
   ]
  },
  {
   "cell_type": "code",
   "execution_count": null,
   "id": "4fc2b6bf",
   "metadata": {},
   "outputs": [],
   "source": [
    "src = '/Users/cypan/Documents/NPTU_course/testFolder/test.txt'\n",
    "# 以寫入模式(w)開啟一個檔案物件，若檔案存在會開啟一個新的並覆蓋已存在的檔案\n",
    "f = open(src, 'w')"
   ]
  },
  {
   "cell_type": "code",
   "execution_count": null,
   "id": "587724e8",
   "metadata": {},
   "outputs": [],
   "source": [
    "# 寫入字串\n",
    "f.write('This is the first line.')\n",
    "f.write('This will be concatenated at the end.\\n')\n",
    "f.write('This is the second line.\\n')\n",
    "f.close()"
   ]
  },
  {
   "cell_type": "code",
   "execution_count": null,
   "id": "fd3ca5aa",
   "metadata": {},
   "outputs": [],
   "source": [
    "# 以 append 模式(a)開啟一個檔案物件，寫入的字串會銜接在後面\n",
    "f = open(src, 'a')"
   ]
  },
  {
   "cell_type": "code",
   "execution_count": null,
   "id": "9adff89d",
   "metadata": {},
   "outputs": [],
   "source": [
    "f.write('This is the third line.\\n')\n",
    "f.write('1 + 1 = 2.\\n')\n",
    "f.close()"
   ]
  },
  {
   "cell_type": "markdown",
   "id": "8478c835",
   "metadata": {},
   "source": [
    "> 有以上這些了解之後，我們可以來做一些簡單的嘗試\n",
    "\n",
    "```\n",
    "Random 十萬個 1 ~ 9999 的數字\n",
    "寫入一個檔案，檔名設定為 `numbers10w.txt`\n",
    "每個數字都各自獨立一行寫入\n",
    "```"
   ]
  },
  {
   "cell_type": "markdown",
   "id": "ff409b87",
   "metadata": {},
   "source": [
    "我們可以使用 `random` 模組搭配 `for` 迴圈來產生隨機的十萬個數字<br>\n",
    "\n",
    "寫入的方式有兩個選項<br>\n",
    "\n",
    "1. 用 `f.write()` 一個一個數字寫入\n",
    "2. 先把生成的數字存為一個 `list`，接著再用 `f.writelines()` 一次寫入"
   ]
  },
  {
   "cell_type": "code",
   "execution_count": null,
   "id": "8d0d97be",
   "metadata": {},
   "outputs": [],
   "source": [
    "src = 'data/numbers10w.txt'\n",
    "##### START Parctice #####\n",
    "pass\n",
    "#####  End  Parctice #####"
   ]
  },
  {
   "cell_type": "markdown",
   "id": "0dfe3678",
   "metadata": {},
   "source": [
    "##### 關閉檔案\n",
    "從上面的例子可以看到，我們在每次開啟檔案物件都必須要用 `f.close()` 關閉它<br>\n",
    "\n",
    "但會有一個問題是，若我們在還未關閉檔案前就出現 error，導致後續的 `f.close()` 沒有正常執行<br>\n",
    "\n",
    "則檔案就無法正常關閉，可能會有不可預期的問題發生<br>\n",
    "\n",
    "其中，我們可以用 `f.closed` 來確認該檔案是否已經被關閉，如下範例<br>"
   ]
  },
  {
   "cell_type": "code",
   "execution_count": null,
   "id": "c9532c10",
   "metadata": {},
   "outputs": [],
   "source": [
    "src = '/Users/cypan/Documents/NPTU_course/testFolder/test.txt'\n",
    "f = open(src, 'w')\n",
    "print(f'檔案是否被關閉：{f.closed}')\n",
    "\n",
    "# 產生 error\n",
    "a = 1 / 0\n",
    "\n",
    "f.close()"
   ]
  },
  {
   "cell_type": "code",
   "execution_count": null,
   "id": "d09fd612",
   "metadata": {},
   "outputs": [],
   "source": [
    "print(f'檔案是否被關閉：{f.closed}')\n",
    "f.close()\n",
    "print(f'檔案是否被關閉：{f.closed}')"
   ]
  },
  {
   "cell_type": "code",
   "execution_count": null,
   "id": "b370e0a1",
   "metadata": {},
   "outputs": [],
   "source": []
  },
  {
   "cell_type": "markdown",
   "id": "9aa773d4",
   "metadata": {},
   "source": [
    "針對這個問題，Python 提供一個相當好用的語法可以解決這個問題，那就是 <font color='#ff7777' face='monospace'>__with - as__</font> 語法<br>\n",
    "\n",
    "基本語法如下\n",
    "```python\n",
    "with open(src, 'r') as f:\n",
    "    '''\n",
    "    Do somthing to the file object `f`\n",
    "    '''\n",
    "```\n",
    "\n",
    "上述語法不管在什麼情況下離開該區塊，皆會正常關閉該檔案物件，如下範例"
   ]
  },
  {
   "cell_type": "code",
   "execution_count": null,
   "id": "bac92e24",
   "metadata": {},
   "outputs": [],
   "source": [
    "src = '/Users/cypan/Documents/NPTU_course/testFolder/test.txt'\n",
    "with open(src, 'w') as f:\n",
    "    print(f'檔案是否被關閉：{f.closed}')\n",
    "    a = 1 / 0"
   ]
  },
  {
   "cell_type": "code",
   "execution_count": null,
   "id": "baed8506",
   "metadata": {},
   "outputs": [],
   "source": [
    "print(f'檔案是否被關閉：{f.closed}')"
   ]
  },
  {
   "cell_type": "markdown",
   "id": "2141d64c",
   "metadata": {},
   "source": [
    "> 因此，使用上建議都習慣使用 <font color='#ff7777' face='monospace'>__with - as__</font> 的語法來使用\n",
    ">\n",
    "> 除了可以正確關閉檔案以外，也可以避免忘記寫上 `f.close()` 的狀況"
   ]
  },
  {
   "cell_type": "markdown",
   "id": "3046903d",
   "metadata": {},
   "source": [
    "---"
   ]
  },
  {
   "cell_type": "markdown",
   "id": "2b89926d",
   "metadata": {},
   "source": [
    "<a id='exception'></a>\n",
    "### Error & Exception (錯誤＆例外)\n",
    "在 Python 中，我們大致上可以把會出現的錯誤訊息分成兩種，<font color='#77aaaa' face='monospace'>語法錯誤（syntax error）</font> 和 <font color='#77aaaa' face='monospace'>例外（exception）</font><br>"
   ]
  },
  {
   "cell_type": "markdown",
   "id": "aada3dd4",
   "metadata": {},
   "source": [
    "##### 語法錯誤（syntax error）\n",
    "語法錯誤不外乎是你的程式不符合 python 的規範，常見的像是忘記加：、括號數量不對等等，如下範例"
   ]
  },
  {
   "cell_type": "code",
   "execution_count": null,
   "id": "aa5e5bd9",
   "metadata": {},
   "outputs": [],
   "source": [
    "if True\n",
    "    print('Hello World!')"
   ]
  },
  {
   "cell_type": "code",
   "execution_count": null,
   "id": "1217aa27",
   "metadata": {},
   "outputs": [],
   "source": [
    "print('Hello World!'"
   ]
  },
  {
   "cell_type": "markdown",
   "id": "298d4c0d",
   "metadata": {},
   "source": [
    "##### 例外（Exception）\n",
    "例外則不同於語法錯誤，語法雖然是正確的，但執行時還是可能導致錯誤發生，這些時候程式會拋出對應的錯誤就被稱之為例外"
   ]
  },
  {
   "cell_type": "markdown",
   "id": "34015810",
   "metadata": {},
   "source": [
    "例外處理顧名思義，主要是避免程式在執行中，因為可預測或不可預測的例外導致程式中斷，常常又被稱為 <font color='#ff7777' face='monospace'>try-catch</font>，<br>\n",
    "\n",
    "意思是我們嘗試去執行某一段程式（try），當程式發生錯誤時通常我們會說程式會「拋出（throw）」一個 `error/exception`，<br>\n",
    "\n",
    "而我們去接收（catch）那個 `error/exception` 並做出對應的處理。<br>"
   ]
  },
  {
   "cell_type": "markdown",
   "id": "8d266862",
   "metadata": {},
   "source": [
    "在 Python 中，我們可以使用 `try-except` 語法來做例外處理，基本語法如下\n",
    "```python\n",
    "try:\n",
    "   # code that may throw an exception\n",
    "except ExceptionType:\n",
    "   # code to handle the exception\n",
    "```"
   ]
  },
  {
   "cell_type": "markdown",
   "id": "b54e0ea5",
   "metadata": {},
   "source": [
    "如上範例可以看到，在 <font color='#ff7777' face='monospace'>try</font> 區塊中放置你原本要執行的程式碼，而在 <font color='#ff7777' face='monospace'>except</font> 區塊中則放置「當例外發生時要做的處理」，當例外正確被接收時程式就不會被中斷。<br>\n",
    "\n",
    "另外可以發現，在 <font color='#ff7777' face='monospace'>except</font> 語句後面有一個 <font color='#77aaaa' face='monospace'>ExceptionType</font>，即代表程式拋出的例外種類<br>"
   ]
  },
  {
   "cell_type": "markdown",
   "id": "04088305",
   "metadata": {},
   "source": [
    "Python 中已經有內建許多例外的類別，一部分的類別如下階層<font size=2>（完整詳見 [Python document](https://docs.python.org/zh-tw/3/library/exceptions.html#exception-hierarchy)）</font><br>\n",
    "\n",
    "```\n",
    "BaseException\n",
    " ├── KeyboardInterrupt                (使用者自行中斷，通常是 Ctrl + C)\n",
    " └── Exception                        (一般的例外類別)\n",
    "      ├── ArithmeticError\n",
    "      │    └── ZeroDivisionError      (除以 0 會引發的 error)\n",
    "      ├── ImportError\n",
    "      │    └── ModuleNotFoundError    (import 了不存在的 package 或 module)\n",
    "      ├── LookupError\n",
    "      │    ├── IndexError             (索引 index 發生錯誤，例如索引超出範圍的 index)\n",
    "      │    └── KeyError               (常見在對字典索引不存在的 key 值)\n",
    "      ├── NameError                   (使用了未定義的變數)\n",
    "      ├── OSError\n",
    "      │    ├── FileNotFoundError      (檔案不存在)\n",
    "      ├── TypeError                   (因為類型引發的錯誤，例如用整數加字串)\n",
    "      ├── ValueError                  (類型正確但值不正確會引發的錯誤)\n",
    "```\n",
    "\n",
    "比較需要注意的主要是 <font color='#77aaaa' face='monospace'>Exception</font> 和 <font color='#77aaaa' face='monospace'>KeyboardInterrupt</font><br>\n",
    "\n",
    "與一般的例外不同， <font color='#77aaaa' face='monospace'>KeyboardInterrupt</font> 由使用者引發，所以可能會出現在任何地方<br>\n",
    "\n",
    "為了不讓他與其他 <font color='#77aaaa' face='monospace'>Exception</font> 互相影響，故兩者歸類在同一個 level<br>\n",
    "\n",
    "所以當我們只有 catch <font color='#77aaaa' face='monospace'>Exception</font> 時，並不會 catch 到 <font color='#77aaaa' face='monospace'>KeyboardInterrupt</font>"
   ]
  },
  {
   "cell_type": "markdown",
   "id": "57434432",
   "metadata": {},
   "source": [
    "如下語法只可接收所有 <font color='#77aaaa' face='monospace'>Exception</font> 及其以下階層的所有例外\n",
    "```python\n",
    "try:\n",
    "    # code that may throw an exception\n",
    "except Exception:\n",
    "    # 注意！這裡的 Exception 是 python 內建的類別，如上看到的階層中的每一個例外也都是\n",
    "    # code to handle the Exception level\n",
    "```\n",
    "<br>\n",
    "\n",
    "如下語法只可接收對應的 `ExceptionType`，及其以下階層的所有例外，若出現同階層或上一個階層的例外則會正常拋出 error\n",
    "```python\n",
    "try:\n",
    "    # code that may throw an exception\n",
    "except TypeError:\n",
    "    # code to handle the Exception level\n",
    "    # 這邊只負責接收 TypeError，舉例來說，若發生 ZeroDivisionError 則不會進入這個 block\n",
    "```"
   ]
  },
  {
   "cell_type": "code",
   "execution_count": null,
   "id": "f3874971",
   "metadata": {},
   "outputs": [],
   "source": [
    "try:\n",
    "    1 + '1'\n",
    "except TypeError:\n",
    "    print('整數與字串無法相加')"
   ]
  },
  {
   "cell_type": "code",
   "execution_count": null,
   "id": "90d67c55",
   "metadata": {},
   "outputs": [],
   "source": [
    "try:\n",
    "    1 / 0\n",
    "except TypeError:\n",
    "    print('整數與字串無法相加')"
   ]
  },
  {
   "cell_type": "code",
   "execution_count": null,
   "id": "df242c33",
   "metadata": {},
   "outputs": [],
   "source": [
    "try:\n",
    "    while True:\n",
    "        pass\n",
    "except Exception:\n",
    "    print('停止無限迴圈')"
   ]
  },
  {
   "cell_type": "code",
   "execution_count": null,
   "id": "ce27e3e7",
   "metadata": {},
   "outputs": [],
   "source": [
    "try:\n",
    "    while True:\n",
    "        pass\n",
    "except KeyboardInterrupt:\n",
    "    print('停止無限迴圈')"
   ]
  },
  {
   "cell_type": "markdown",
   "id": "f7d30ec9",
   "metadata": {},
   "source": [
    "除了像上述例子以外，我們也可以同時接收多種 `ExceptionType`，並且對不同的例外做不同的處理，基本語法如下\n",
    "```python\n",
    "try:\n",
    "   # code that may throw an exception\n",
    "except ExceptionType1:\n",
    "   # code to handle ExceptionType1\n",
    "except ExceptionType2:\n",
    "   # code to handle ExceptionType2\n",
    "```"
   ]
  },
  {
   "cell_type": "code",
   "execution_count": null,
   "id": "1df7a955",
   "metadata": {},
   "outputs": [],
   "source": [
    "try:\n",
    "    1 + '1'\n",
    "except TypeError:\n",
    "    print('整數與字串無法相加')\n",
    "except ZeroDivisionError:\n",
    "    print('數字無法除以 0')"
   ]
  },
  {
   "cell_type": "code",
   "execution_count": null,
   "id": "54a701b4",
   "metadata": {},
   "outputs": [],
   "source": [
    "try:\n",
    "    1 / 0\n",
    "except TypeError:\n",
    "    print('整數與字串無法相加')\n",
    "except ZeroDivisionError:\n",
    "    print('數字無法除以 0')"
   ]
  },
  {
   "cell_type": "markdown",
   "id": "b29b4f79",
   "metadata": {},
   "source": [
    "當然，我們也不一定要指定 `ExceptionType`，直接接收所有例外，基本語法如下\n",
    "```python\n",
    "try:\n",
    "   # code that may throw an exception\n",
    "except:\n",
    "   # code to handle all exceptions\n",
    "```"
   ]
  },
  {
   "cell_type": "code",
   "execution_count": null,
   "id": "94a88143",
   "metadata": {},
   "outputs": [],
   "source": [
    "try:\n",
    "    while True:\n",
    "        pass\n",
    "except:\n",
    "    print('反正就是有例外')"
   ]
  },
  {
   "cell_type": "markdown",
   "id": "45d9d14f",
   "metadata": {},
   "source": [
    "最後，例外處理的語法還有兩個可以配合使用的關鍵字，分別是 <font color='#77aaaa' face='monospace'>else</font> 跟 <font color='#77aaaa' face='monospace'>finally</font><br>\n",
    "\n",
    "1. <font color='#77aaaa' face='monospace'>else</font>: 當 <font color='#ff7777' face='monospace'>try</font> 的區塊沒有引發任何例外時，則會進入 <font color='#77aaaa' face='monospace'>else</font> 的區塊\n",
    "2. <font color='#77aaaa' face='monospace'>finally</font>: 整個 `try-catch` 的過程不論有沒有引發例外，或是進入哪一個區塊，在整個結束時都會執行 <font color='#77aaaa' face='monospace'>finally</font> 的區塊\n",
    "\n",
    "如下範例"
   ]
  },
  {
   "cell_type": "code",
   "execution_count": null,
   "id": "227dcdd1",
   "metadata": {},
   "outputs": [],
   "source": [
    "try:\n",
    "    num = int(input('輸入一個整數： '))\n",
    "except:\n",
    "    print('請輸入整數')\n",
    "else:\n",
    "    print(f'你輸入的整數為：{num}')\n",
    "finally:\n",
    "    print('try-catch 結束')"
   ]
  },
  {
   "cell_type": "markdown",
   "id": "0ce11936",
   "metadata": {},
   "source": [
    "### 引發例外\n",
    "除了程式碼自己因為錯誤而引發的例外以外，我們也可以手動引發例外，基本語法如下\n",
    "```python\n",
    "# 單純引發 excpetion\n",
    "raise\n",
    "# 引發特定類型的 exception，並且可以客製化引發時的 error message\n",
    "raise ExceptionType('Exception message')\n",
    "```\n",
    "如下範例"
   ]
  },
  {
   "cell_type": "code",
   "execution_count": null,
   "id": "a25b6085",
   "metadata": {},
   "outputs": [],
   "source": [
    "raise"
   ]
  },
  {
   "cell_type": "code",
   "execution_count": null,
   "id": "954dfa1e",
   "metadata": {},
   "outputs": [],
   "source": [
    "raise ValueError('這是一個 ValueError')"
   ]
  },
  {
   "cell_type": "markdown",
   "id": "5fa2458f",
   "metadata": {},
   "source": [
    "### 自定義例外\n",
    "除了內建的例外，我們也可以自定義例外的類別，尤其當我們在處理較大的專案時，適時的去客製化例外類別，也可以較有效率的去做例外處理<br>\n",
    "\n",
    "自定義例外類別需要用到 <font color='#ff7777' face='monospace'>class</font> 這個關鍵字，這個關鍵字被拿來自定義各種資料型態（詳見 `Lecture_7`），在這邊我們可以先依照以下方式使用\n",
    "```python\n",
    "class CustomError(Exception):\n",
    "    pass\n",
    "```\n",
    "如上語法使用，即可定義一個名為 `CustomError` 的例外，且這個例外被歸類在 `Exception` 這個階層之下，如下範例"
   ]
  },
  {
   "cell_type": "code",
   "execution_count": null,
   "id": "5d89993f",
   "metadata": {},
   "outputs": [],
   "source": [
    "class CustomError(Exception):\n",
    "    pass"
   ]
  },
  {
   "cell_type": "code",
   "execution_count": null,
   "id": "08a91cc0",
   "metadata": {},
   "outputs": [],
   "source": [
    "try:\n",
    "    raise CustomError('這是一個 error')\n",
    "except Exception:\n",
    "    print('接收到一個 error')"
   ]
  },
  {
   "cell_type": "markdown",
   "id": "5d28b2a3",
   "metadata": {},
   "source": [
    "### 進階用法\n",
    "就如同上述說的，例外處理是非常重要且很常見的做法，這邊分享我個人喜歡且常用的做法<br>\n",
    "\n",
    "一般若我們不做例外處理，我們可以看到 python 引發例外之後會顯示該<font color='#77aaaa' face='monospace'>例外類別</font>及<font color='#77aaaa' face='monospace'>例外訊息</font><br>\n",
    "\n",
    "我們這邊要做得即是把原本可以看到的訊息以 `print` 的方式顯示出來<br>\n",
    "<br>\n",
    "\n",
    "程式碼如下：\n",
    "```python\n",
    "try:\n",
    "    # code that may throw an exception\n",
    "except Exception as e:\n",
    "    # code to handle the Exception level\n",
    "    err_class = e.__class__.__name__\n",
    "    err_msg = e.args[0]\n",
    "    msg = f'[{err_class}] {err_msg}'\n",
    "    print(msg)\n",
    "```"
   ]
  },
  {
   "cell_type": "code",
   "execution_count": null,
   "id": "d1d03148",
   "metadata": {},
   "outputs": [],
   "source": [
    "try:\n",
    "    raise CustomError('這是一個 error')\n",
    "except Exception as e:\n",
    "    err_class = e.__class__.__name__\n",
    "    err_msg = e.args[0]\n",
    "    msg = f'[{err_class}] {err_msg}'\n",
    "    print(msg)"
   ]
  },
  {
   "cell_type": "markdown",
   "id": "faf85ba2",
   "metadata": {},
   "source": [
    "並且可以把這個 `try-catch` 寫成一個 `decorator` 加在各函數上，如下範例\n",
    "```python\n",
    "def logger(func):\n",
    "    def wrap(*args, **kwargs):\n",
    "        try:\n",
    "            result = func(*args, **kwargs)\n",
    "            return result\n",
    "        except Exception as e:\n",
    "            err_class = e.__class__.__name__\n",
    "            err_msg = e.args[0]\n",
    "            msg = f'[{err_class}] {err_msg}'\n",
    "            print(msg)\n",
    "    return wrap\n",
    "```"
   ]
  },
  {
   "cell_type": "code",
   "execution_count": null,
   "id": "c8f0dd9c",
   "metadata": {},
   "outputs": [],
   "source": [
    "def logger(func):\n",
    "    def wrap(*args, **kwargs):\n",
    "        try:\n",
    "            result = func(*args, **kwargs)\n",
    "            return result\n",
    "        except Exception as e:\n",
    "            err_class = e.__class__.__name__\n",
    "            err_msg = e.args[0]\n",
    "            msg = f'[{err_class}] {err_msg}'\n",
    "            print(msg)\n",
    "    return wrap"
   ]
  },
  {
   "cell_type": "code",
   "execution_count": null,
   "id": "3ed6624c",
   "metadata": {},
   "outputs": [],
   "source": [
    "@logger\n",
    "def division(a, b):\n",
    "    return a / b"
   ]
  },
  {
   "cell_type": "code",
   "execution_count": null,
   "id": "1e6ab71d",
   "metadata": {},
   "outputs": [],
   "source": [
    "division(3, 5)"
   ]
  },
  {
   "cell_type": "code",
   "execution_count": null,
   "id": "80614f3d",
   "metadata": {},
   "outputs": [],
   "source": [
    "division(3, 0)"
   ]
  },
  {
   "cell_type": "markdown",
   "id": "82283a54",
   "metadata": {},
   "source": [
    "### Exercise 6-1\n",
    "請讀取由上方程式產生出的 `numbers10w.txt`，其中包含了 10 萬個 1 ~ 9999 的隨機數字<br>\n",
    "\n",
    "計算該 10 萬個數字的\n",
    "1. 最小值\n",
    "2. 最大值\n",
    "3. 平均值\n",
    "4. 中位數\n",
    "5. 標準差"
   ]
  },
  {
   "cell_type": "code",
   "execution_count": null,
   "id": "d9b261dc",
   "metadata": {},
   "outputs": [],
   "source": []
  }
 ],
 "metadata": {
  "kernelspec": {
   "display_name": "Python 3 (ipykernel)",
   "language": "python",
   "name": "python3"
  },
  "language_info": {
   "codemirror_mode": {
    "name": "ipython",
    "version": 3
   },
   "file_extension": ".py",
   "mimetype": "text/x-python",
   "name": "python",
   "nbconvert_exporter": "python",
   "pygments_lexer": "ipython3",
   "version": "3.10.6"
  }
 },
 "nbformat": 4,
 "nbformat_minor": 5
}
