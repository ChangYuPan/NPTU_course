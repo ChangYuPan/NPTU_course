{
 "cells": [
  {
   "cell_type": "markdown",
   "metadata": {},
   "source": [
    "<font color='#77aaaa' size=40> Function (函數) </font>"
   ]
  },
  {
   "cell_type": "markdown",
   "metadata": {},
   "source": [
    "<font color='#ff7777' face='monospace'>Q: 什麼是函數（What）?</font><br>\n",
    "<font face='monospace'>\n",
    "    A: <br>\n",
    "    In computer programming, a function object is a construct allowing an object to be invoked or called as if it were an ordinary function, usually with the same syntax (a function parameter that can also be a function). Function objects are often called functors.\n",
    "</font>\n",
    "<font face='monospace' size=2>(取自[wikipedia Function Object](https://en.wikipedia.org/wiki/Function_object))</font><br>\n",
    "\n",
    "<font color='#ff7777' face='monospace'>Q: 為什麼需要函數（Why）?</font><br>\n",
    "<font face='monospace'>A: </font><br>\n",
    "當我們需要<font color='#77aaaa'>重複執行一段程式</font>的時候，若沒有適當地進行封裝，將會降低程式的可讀性(readability)，因此我們會將需重複被執行的段落以函數的方式進行封裝，並重複<font color='#77aaaa'>調用/呼叫</font>該函數，以增加程式的可讀性，以更容易維護程式碼。<br>\n",
    "\n",
    "<font color='#ff7777' face='monospace'>Q: 什麼時候需要函數（When）?</font><br>\n",
    "<font face='monospace'>A: </font><br>\n",
    "Trivial<br>"
   ]
  },
  {
   "cell_type": "markdown",
   "metadata": {},
   "source": [
    "我們會就以下部分來介紹函數的組成\n",
    "<font face='monospace'>\n",
    "1. [基本語法](#function_basic)\n",
    "2. [參數(parameter) & 引數(argument)](#function_param)\n",
    "3. [變數範圍(scope)](#function_scope)\n",
    "4. [回傳值(return)](#function_return)\n",
    "5. [遞迴函數(Recursive function)](#function_recursive)\n",
    "6. [裝飾器(Decorator)](#function_decorator)\n",
    "</font>"
   ]
  },
  {
   "cell_type": "markdown",
   "metadata": {},
   "source": [
    "---"
   ]
  },
  {
   "cell_type": "markdown",
   "metadata": {},
   "source": [
    "<a id='function_basic'></a>\n",
    "### 1. 基本語法"
   ]
  },
  {
   "cell_type": "markdown",
   "metadata": {},
   "source": [
    "##### 定義函數\n",
    "```python\n",
    "def name_of_function(parameters):\n",
    "    <statement>\n",
    "    return return_value\n",
    "```\n",
    "1. <b><font color='#77aaaa'>def</font></b>: 意即 definition/define，為宣告函數的關鍵字\n",
    "2. <b><font color='#77aaaa'>name_of_function</font></b>: 函數的名稱，常見命名方式與變數相同，由小寫單字與底線組成\n",
    "3. <b><font color='#77aaaa'>parameters</font></b>: 函數的參數，詳見 [參數(parameter) & 引數(argument)](#function_2)\n",
    "4. <b><font color='#77aaaa'>statement</font></b>: 當函數被 調用/呼叫 時，需要執行的敘述\n",
    "5. <b><font color='#77aaaa'>return</font></b>: 函數執行結束時的回傳值，詳見 [回傳值(return)](#function_3)\n",
    "\n",
    "如下範例"
   ]
  },
  {
   "cell_type": "code",
   "execution_count": null,
   "metadata": {},
   "outputs": [],
   "source": [
    "def add2num(num1, num2):\n",
    "    s = num1 + num2\n",
    "    return s"
   ]
  },
  {
   "cell_type": "markdown",
   "metadata": {},
   "source": [
    "##### 呼叫函數\n",
    "```python\n",
    "name_of_function(arguments)\n",
    "```\n",
    "1. <b><font color='#77aaaa'>arguments</font></b>: 呼叫函數要帶入的引數，詳見 [參數(parameter) & 引數(argument)](#function_param)<br><br>\n",
    "2. 呼叫函數須於函數後方加上小括號，<font color='#ff7777' size=6>就算沒有引數要帶入也要加</font><br>\n",
    "\n",
    "如下範例"
   ]
  },
  {
   "cell_type": "code",
   "execution_count": null,
   "metadata": {},
   "outputs": [],
   "source": [
    "x = 3\n",
    "y = 5\n",
    "s = add2num(x, y)\n",
    "print(f'{x} + {y} = {s}')"
   ]
  },
  {
   "cell_type": "markdown",
   "metadata": {},
   "source": [
    "<a id='function_param'></a>\n",
    "### 2. 參數(parameter) & 引數(argument)\n",
    "Q: 參數與引數的差別？<br>\n",
    "A: <font face='monospace' size=2>(取自[stack overflow](https://stackoverflow.com/questions/1788923/parameter-vs-argument/1788926#1788926))</font><br>\n",
    "- An argument is an expression used when calling the method.<br>\n",
    "- A parameter is the variable which is part of the method’s signature (method declaration).<br>\n",
    "\n",
    "如下範例說明\n",
    "```python\n",
    "def add2num(num1, num2):\n",
    "    s = num1 + num2\n",
    "    return s\n",
    "```\n",
    "這邊定義的 `num1, num2` 即函數的參數\n",
    "```python\n",
    "x = 3\n",
    "y = 5\n",
    "s = add2sum(x, y)\n",
    "```\n",
    "這邊傳入的 `x, y` 即傳入函數的引數"
   ]
  },
  {
   "cell_type": "markdown",
   "metadata": {},
   "source": [
    "##### 傳入引數的方式\n",
    "1. 依照順序給定引數：也就是如上範例那樣，依序把<font color='#77aaaa'>引數 x</font> 傳入給<font color='#ff7777'>參數 num1</font>，<font color='#77aaaa'>引數 y</font> 傳入給<font color='#ff7777'>參數 num2</font>\n",
    "2. 依關鍵字傳入引數：直接指定<font color='#ff7777'>參數 num1</font>要接收的引數與<font color='#ff7777'>參數 num2</font>要接收的引數，如下範例<br>\n",
    "\n",
    "```python\n",
    "x = 3\n",
    "y = 5\n",
    "s = add2num(num1=x, num2=y)\n",
    "```\n",
    "> 若不使用關鍵字，則必須依照順序給定。<br>\n",
    "> 若使用關鍵字，則可以不依照原本參數的順序。例如我們可以先指定 `y` 要接收的引數，再指定 `x` 要接收的引數，如下範例\n",
    "\n",
    "```python\n",
    "x = 3\n",
    "y = 5\n",
    "s = add2num(num2=y, num1=x)\n",
    "```"
   ]
  },
  {
   "cell_type": "markdown",
   "metadata": {},
   "source": [
    "有了以上的基礎，我們已經可以把函數的概念引用到先前的例子中<br>\n",
    "舉例來說，我們可以把打冠軍的檢查系統封裝成一個函數，畢竟在每個挑戰者登入時我們都必須有這個檢查流程，如下為先前定義的檢查系統<br>\n",
    "```python\n",
    "if len(my_pokemon) > 6:\n",
    "    print('攜帶寶可夢數量超標，作弊仔？')\n",
    "elif '烈空座' in my_pokemon or '蓋歐卡' in my_pokemon or '固拉多' in my_pokemon:\n",
    "    print('還敢偷用神獸啊？')\n",
    "else:\n",
    "    print('登入寶可夢如下：')\n",
    "    print('-----------------------')\n",
    "    for i in range(6):\n",
    "        print(f'第 {i+1} 隻: {my_pokemon[i]}')\n",
    "    print('-----------------------')\n",
    "    print('檢驗合格，等著被冠軍暴打一頓吧')\n",
    "```\n",
    "在這個範例中，我們定義若檢驗合格則回傳 `True`，否則回傳 `False`"
   ]
  },
  {
   "cell_type": "code",
   "execution_count": null,
   "metadata": {},
   "outputs": [],
   "source": [
    "def check_pokemon(my_pokemon):\n",
    "    if len(my_pokemon) > 6:\n",
    "        print('攜帶寶可夢數量超標，作弊仔？')\n",
    "        return False\n",
    "    elif '烈空座' in my_pokemon or '蓋歐卡' in my_pokemon or '固拉多' in my_pokemon:\n",
    "        print('還敢偷用神獸啊？')\n",
    "        return False\n",
    "    else:\n",
    "        print('登入寶可夢如下：')\n",
    "        print('-----------------------')\n",
    "        for i in range(6):\n",
    "            print(f'第 {i+1} 隻: {my_pokemon[i]}')\n",
    "        print('-----------------------')\n",
    "        print('檢驗合格，等著被冠軍暴打一頓吧')\n",
    "        return True"
   ]
  },
  {
   "cell_type": "markdown",
   "metadata": {},
   "source": [
    "> 由上述例子可以發現，函數的<font color='#ff7777'> 回傳值(return) </font>可以不止一個，但無論有幾個，函數只要執行了<font color='#ff7777'> return </font>便會結束，剩餘的敘述將不會再繼續執行"
   ]
  },
  {
   "cell_type": "markdown",
   "metadata": {},
   "source": [
    "此時若小茂跟我們都同時要登入檢查系統，就可以調用此函數來確認攜帶寶可夢是否合格"
   ]
  },
  {
   "cell_type": "code",
   "execution_count": null,
   "metadata": {},
   "outputs": [],
   "source": [
    "my_pokemon = ['綠毛蟲', '鐵甲蛹', '拉魯拉斯', '凱西', '比比鳥', '卡比獸']\n",
    "XiaoMao_pokemon = ['妙蛙種子', '鯉魚王', '波波', '拉魯拉斯', '綠毛蟲', '烈空座']"
   ]
  },
  {
   "cell_type": "code",
   "execution_count": null,
   "metadata": {},
   "outputs": [],
   "source": [
    "check_pokemon(my_pokemon)"
   ]
  },
  {
   "cell_type": "code",
   "execution_count": null,
   "metadata": {},
   "outputs": [],
   "source": [
    "check_pokemon(XiaoMao_pokemon)"
   ]
  },
  {
   "cell_type": "markdown",
   "metadata": {},
   "source": [
    "##### 參數預設值 (Default value)\n",
    "很多時候，函數的某些參數很常會固定不變，只在某些特定情況才做變動，此時我們可以給參數一個<font color='#ff7777'>預設值</font>，當使用者調用函數時若沒有傳入對應的引數，則該參數會帶入預設值。<br>\n",
    "\n",
    "舉例來說，我們可以把秀出對戰組合的功能也封裝成一個函數，如下為先前定義的對戰組合\n",
    "```python\n",
    "for i, (my_, dawu_) in enumerate(zip(my_pokemon, DaWu_pokemon)):\n",
    "    print(f'第 {i+1} 戰 - {my_} vs. {dawu_}')\n",
    "```\n",
    "我們在這邊將它改寫為秀出任兩個玩家的對戰組合，這時候我們除了可以秀出每個玩家跟世界冠軍大吾的對戰組合，也可以秀出玩家之間的對戰組合，如下\n",
    "```python\n",
    "def show_battle(player1, player2):\n",
    "    for i, (pokemon_1, pokemon_2) in enumerate(zip(player1, player2)):\n",
    "        print(f'第 {i+1} 戰 - {pokemon_1} vs. {pokemon_2}')\n",
    "```\n",
    "> 從上面範例可以發現，函數<font color='#ff7777'>不一定要定義回傳值</font>，當函數沒有定義回傳值的時候，函數會回傳<font color='#ff7777'>None</font>\n",
    "\n",
    "而因為這個是挑戰世界冠軍的登入系統會使用的功能，通常對戰組合會是挑戰者對上世界冠軍大吾<br>\n",
    "故我們可以將 `player2` 預設值設定為大吾的寶可夢，如下範例"
   ]
  },
  {
   "cell_type": "code",
   "execution_count": null,
   "metadata": {},
   "outputs": [],
   "source": [
    "DaWu_pokemon = ['盔甲鳥', '搖籃百合', '念力土偶', '太古盔甲', '波士可多拉', '巨金怪']\n",
    "def show_battle(player1, player2=['盔甲鳥', '搖籃百合', '念力土偶', '太古盔甲', '波士可多拉', '巨金怪']):\n",
    "    for i, (pokemon_1, pokemon_2) in enumerate(zip(player1, player2)):\n",
    "        print(f'第 {i+1} 戰 - {pokemon_1} vs. {pokemon_2}')"
   ]
  },
  {
   "cell_type": "markdown",
   "metadata": {},
   "source": [
    "當我們不傳入引數給 `player2` 時，`player2` 就會用大吾的寶可夢帶入，如下範例"
   ]
  },
  {
   "cell_type": "code",
   "execution_count": null,
   "metadata": {},
   "outputs": [],
   "source": [
    "# 我們跟大吾的對戰組合\n",
    "show_battle(my_pokemon)"
   ]
  },
  {
   "cell_type": "code",
   "execution_count": null,
   "metadata": {},
   "outputs": [],
   "source": [
    "# 小茂跟大吾的對戰組合\n",
    "show_battle(XiaoMao_pokemon)"
   ]
  },
  {
   "cell_type": "markdown",
   "metadata": {},
   "source": [
    "當我們有傳入引數給 player2 時，player2 就會用帶入我們傳入的引數<br>\n",
    "舉例來說，要秀出我們跟小茂的對戰組合，如下範例"
   ]
  },
  {
   "cell_type": "code",
   "execution_count": null,
   "metadata": {},
   "outputs": [],
   "source": [
    "# 我們跟小茂的對戰組合\n",
    "show_battle(my_pokemon, XiaoMao_pokemon)"
   ]
  },
  {
   "cell_type": "markdown",
   "metadata": {},
   "source": [
    "##### 不定數量引數\n",
    "有些時候我們會希望函數可以引入不定數量的引數，在 Python 中，我們可以透過 `*` 與 `**` 來完成\n",
    "1. 當使用 1 個 `*` 時，不定數量的引數會以 <font color='#77aaaa'>tuple</font> 的方式傳入函數。<br>\n",
    "2. 當使用 2 個 `*` 時，不定數量的引數會以 <font color='#77aaaa'>dict</font> 的方式傳入函數。<br>\n",
    "\n",
    "範例如下\n",
    "```python\n",
    "def function_name(*args):\n",
    "    # 通常我們習慣把接受不定數量引數的參數名稱定為 args，意即 arguments。\n",
    "    # 在函數內，args 及為一個 tuple，其會包含所有你傳入的引數\n",
    "    <statement>\n",
    "    \n",
    "def function_name(**kwargs):\n",
    "    # 通常我們習慣把接受不定數量引數的參數名稱定為 args，意即 keyword arguments。\n",
    "    # 在函數內，kwargs 及為一個 dict，其會包含所有你傳入的引數\n",
    "    <statement>\n",
    "```\n",
    "先舉一個簡單的例子如下<br>\n",
    "若今天我們希望函數可以傳入不定數量的數字，之後印出其平均值"
   ]
  },
  {
   "cell_type": "code",
   "execution_count": null,
   "metadata": {},
   "outputs": [],
   "source": [
    "def get_average_args(*args):\n",
    "    # 可以在這邊檢視其資料型態\n",
    "    print(type(args))\n",
    "    n = len(args)\n",
    "    sums = 0\n",
    "    for num in args:\n",
    "        sums += num\n",
    "    avg = sums / n\n",
    "    print(f'共 {n} 個分數，平均 = {avg:.2f}')"
   ]
  },
  {
   "cell_type": "code",
   "execution_count": null,
   "metadata": {},
   "outputs": [],
   "source": [
    "get_average_args(60, 65, 70, 80, 88)"
   ]
  },
  {
   "cell_type": "markdown",
   "metadata": {},
   "source": [
    "> 當然，其實以這個範例來說，我們不一定要以這種形式讓函數吃進不定個數的引數，我們也可以將函數定義成如下，及讓參數為一個 `list` 或 `tuple`"
   ]
  },
  {
   "cell_type": "code",
   "execution_count": null,
   "metadata": {},
   "outputs": [],
   "source": [
    "def get_average(scores):\n",
    "    '''\n",
    "    scores: list\n",
    "    '''\n",
    "    total = 0\n",
    "    n = len(scores)\n",
    "    for score in scores:\n",
    "        total += score\n",
    "    avg_score = total / n\n",
    "    print(f'共 {n} 個分數，平均 = {avg_score:.2f}')"
   ]
  },
  {
   "cell_type": "code",
   "execution_count": null,
   "metadata": {},
   "outputs": [],
   "source": [
    "scores = [60, 65, 70, 80, 88]\n",
    "get_average(scores)"
   ]
  },
  {
   "cell_type": "markdown",
   "metadata": {},
   "source": [
    "<a id='function_scope'></a>\n",
    "### 變數範圍(scope)\n",
    "<font color='#ff7777'>scope</font> 是在使用函數時需要特別注意的事，每個變數有屬於他自己的範圍 (scope)，我們只能在變數所在的 scope 使用它，一但離開該 scope 後就會變為未定義，一般來說我們可以把變數簡單拆解成 <font color='#77aaaa'>區域變數</font> 跟 <font color='#77aaaa'>全域變數</font>。<br>\n",
    "<font color='#77aaaa'>全域變數</font>: 身在最外層的 scope，通常指整份檔案，也就是說在這份檔案內不論在何處皆可調用該變數。<br>\n",
    "<font color='#77aaaa'>區域變數</font>: 專屬於某個範圍內可使用，通常常見於函數內。<br>\n",
    "> 也就是說，<font color='#ff7777'>定義於函數內的變數，在函數執行結束後即會消失</font>。\n",
    "\n",
    "舉例來說，如下是一個計算 BMI 的函數，輸入為身高(cm) ＆ 體重(kg)，會顯示對應之 BMI，無回傳值"
   ]
  },
  {
   "cell_type": "code",
   "execution_count": null,
   "metadata": {},
   "outputs": [],
   "source": [
    "def get_BMI(height, weight):\n",
    "    bmi = weight / ((height / 100) ** 2)\n",
    "    print(f'身高:{height:.1f} cm，體重:{weight:.1f} kg --> BMI = {bmi:.2f}')"
   ]
  },
  {
   "cell_type": "code",
   "execution_count": null,
   "metadata": {},
   "outputs": [],
   "source": [
    "get_BMI(height=183.5, weight=73.5)"
   ]
  },
  {
   "cell_type": "code",
   "execution_count": null,
   "metadata": {},
   "outputs": [],
   "source": [
    "bmi"
   ]
  },
  {
   "cell_type": "markdown",
   "metadata": {},
   "source": [
    "> 從上述例子可以發現，我們在 `get_BMI` 函數裡面定義了 `bmi` 這個變數，並且可以在函數裡面使用它 (print 調用該變數)\n",
    "> 但函數執行結束之後，會發現其實並不存在 `bmi` 這個變數，就是因為我們是在函數內定義這個變數，一但離開了該函數之後即會消失"
   ]
  },
  {
   "cell_type": "code",
   "execution_count": null,
   "metadata": {},
   "outputs": [],
   "source": [
    "def get_average(scores):\n",
    "    '''\n",
    "    scores: list\n",
    "    '''\n",
    "    total = 0\n",
    "    n = len(scores)\n",
    "    for score in scores:\n",
    "        total += score\n",
    "    avg_score = total / n\n",
    "    print(f'共 {n} 個分數，平均 = {avg_score:.2f}')"
   ]
  },
  {
   "cell_type": "code",
   "execution_count": null,
   "metadata": {},
   "outputs": [],
   "source": [
    "avg_score = 0\n",
    "scores = [60, 65, 70, 80, 88]\n",
    "get_average(scores)"
   ]
  },
  {
   "cell_type": "code",
   "execution_count": null,
   "metadata": {},
   "outputs": [],
   "source": [
    "print(avg_score)"
   ]
  },
  {
   "cell_type": "markdown",
   "metadata": {},
   "source": [
    "> 由上述例子可以看到，在函數外的 scope 我們有定義一個 `avg_score`，但在函數內的 scope 我們仍然有額外定義另一個 `avg_score`，雖然變數名稱相同，但其不互相影響。"
   ]
  },
  {
   "cell_type": "markdown",
   "metadata": {},
   "source": [
    "<a id='function_return'></a>\n",
    "### 回傳值(return)\n",
    "- 函數的回傳值可以用變數「接下來」，也就是把回傳值 assign 給該變數\n",
    "- 如前些例子看到的，函數回傳值可以是任意資料型態，Ex: 字串、數字、布林值、list、tuple、dictionary等等<br>\n",
    "甚至也可以回傳另一個函數，經典的範例及為 [遞迴函數(Recursive function)](#function_recursive) 與 [裝飾器(Decorator)](#function_decorator)<br>\n",
    "- 函數<font color='#ff7777'>不一定要定義回傳值</font>，當函數沒有定義回傳值的時候，函數會回傳<font color='#ff7777'>None</font>\n",
    "- 函數<font color='#ff7777'>可以有多個回傳值</font>，函數回傳多個值時，會以 `tuple` 的形式包裝起來"
   ]
  },
  {
   "cell_type": "markdown",
   "metadata": {},
   "source": [
    "##### 多個回傳值\n",
    "舉例來說，以下我們定義一個函數可以計算一個 `list` 的最大值及最小值的函數<br>\n",
    "函數的 input 即一個 `list`，其 output 有二：分別為最大及最小值，如下<br>"
   ]
  },
  {
   "cell_type": "code",
   "execution_count": null,
   "metadata": {},
   "outputs": [],
   "source": [
    "def find_bound(numbers):\n",
    "    m = numbers[0]\n",
    "    M = numbers[0]\n",
    "    for num in numbers[1:]:\n",
    "        if num < m:\n",
    "            m = num\n",
    "        if num > M:\n",
    "            M = num\n",
    "    return m, M"
   ]
  },
  {
   "cell_type": "code",
   "execution_count": null,
   "metadata": {},
   "outputs": [],
   "source": [
    "l = [43, 5, 1, -2, 0, 49, -53, 33, 24]"
   ]
  },
  {
   "cell_type": "code",
   "execution_count": null,
   "metadata": {},
   "outputs": [],
   "source": [
    "bound = find_bound(l)\n",
    "print(bound)\n",
    "print(type(bound))"
   ]
  },
  {
   "cell_type": "markdown",
   "metadata": {},
   "source": [
    "> 如上可以看到，多個回傳值被一個變數接下來時，會以 `tuple` 的形式包裝後傳遞給該變數<br>\n",
    ">\n",
    "> 若我們不希望以 `tuple` 的形式接收，也可以以 <font color='#ff7777'>等數量的變數</font> 來接收回傳值"
   ]
  },
  {
   "cell_type": "code",
   "execution_count": null,
   "metadata": {},
   "outputs": [],
   "source": [
    "m, M = find_bound(l)\n",
    "print(f'min = {m}')\n",
    "print(f'max = {M}')"
   ]
  },
  {
   "cell_type": "markdown",
   "metadata": {},
   "source": [
    "<a id='function_recursive'></a>\n",
    "### 遞迴函數(Recursive function)\n",
    "在解決問題時，我們有時候會遇到無法輕鬆使用 `loop` 或是 `if statement` 來處理的問題，像是經典的河內塔問題、費氏數列問題，此時就會引入遞迴的概念來解決。<br>\n",
    "\n",
    "有時候我們在解決問題的過程，會把原本的大問題拆分成許多小問題，再用同一個 function 來解決小問題，之後把小問題的結論整合成大問題的解，這種方法被稱為<font color='#77aaaa'>「Divide and Conquer」（分治法）</font>，遞迴的概念及由此而來。<br>\n",
    "\n",
    "在計算機科學中，只要一個函數在執行過程中反覆呼叫自己本身，我們就認為它具有遞迴的概念。當然，為了避免他無窮無盡的呼叫，我們還會為他設置一個停止條件，因此設計遞迴函數的兩大關鍵及為 <font color='#ff7777'>1. 自我呼叫、2. 終止條件</font>。<br>\n",
    "\n",
    "以下我們會討論兩個計算機科學中的經典遞迴函數: <br>\n",
    "1. 階乘函數\n",
    "2. 費氏數列級數"
   ]
  },
  {
   "cell_type": "markdown",
   "metadata": {},
   "source": [
    "##### 1. 階乘函數\n",
    "試寫一個函數，其 input 為 n，output 為 n 階乘"
   ]
  },
  {
   "cell_type": "markdown",
   "metadata": {},
   "source": [
    "> 若今天我們要用遞迴函數來做，我們就必須把它拆分成小問題逐一解決<br>\n",
    "> 我們已知 `n! = n * (n-1)!`，計算 `n!` 之前，我們必須先計算 `(n-1)!`<br>\n",
    "> 因此我們可以透過取得 `(n-1)!` 的結果再乘以 `n` 來得到 `n!`<br>\n",
    "> 同理，`(n-1)!` 可以透過先計算 `(n-2)!` 的結果再乘以 `(n-1)` 來獲得<br>\n",
    "> 如此依序向前推進，最後會得到 `0!`，此時不能再繼續往下延伸，故函數必須在此停止 (亦可以在 `1!` 停止)<br>"
   ]
  },
  {
   "cell_type": "code",
   "execution_count": null,
   "metadata": {},
   "outputs": [],
   "source": [
    "def factorial_rec(n):\n",
    "    # 若 n > 1 則繼續尋找 (n-1)!，故回傳 n * (n-1)!\n",
    "    if n > 1:\n",
    "        return n * factorial_rec(n-1)\n",
    "    # 若 n = 1，及求解 1!，則回傳 1\n",
    "    else:\n",
    "        return 1"
   ]
  },
  {
   "cell_type": "code",
   "execution_count": null,
   "metadata": {},
   "outputs": [],
   "source": [
    "factorial_rec(7)"
   ]
  },
  {
   "cell_type": "markdown",
   "metadata": {},
   "source": [
    "> 其實這個問題本身可以簡單地用 for 迴圈來完成，如下"
   ]
  },
  {
   "cell_type": "code",
   "execution_count": null,
   "metadata": {},
   "outputs": [],
   "source": [
    "def factorial(n):\n",
    "    ##### START CODE #####\n",
    "    pass\n",
    "    #####  End  CODE #####"
   ]
  },
  {
   "cell_type": "code",
   "execution_count": null,
   "metadata": {},
   "outputs": [],
   "source": [
    "factorial(7)"
   ]
  },
  {
   "cell_type": "markdown",
   "metadata": {},
   "source": [
    "##### 1. 費氏數列級數\n",
    "試寫一個函數，其 `input` 為 n，`output` 為費氏數列的第 n 項<br>\n",
    "費氏數列：$\\{a_n\\}, \\text{where } a_1 = 1, a_2 = 1, a_n = a_{n-1} + a_{n-2} \\ for\\  n \\geq 3$<br>"
   ]
  },
  {
   "cell_type": "markdown",
   "metadata": {},
   "source": [
    "> 有了上面階乘的例子，我們不難想像費氏數列用遞迴的形式來寫，仿照其方式即可"
   ]
  },
  {
   "cell_type": "code",
   "execution_count": null,
   "metadata": {},
   "outputs": [],
   "source": [
    "def fibonacci_rec(n):\n",
    "    if n == 1:\n",
    "        return 1\n",
    "    elif n == 2:\n",
    "        return 1\n",
    "    else:\n",
    "        return fibonacci_rec(n-1) + fibonacci_rec(n-2)"
   ]
  },
  {
   "cell_type": "code",
   "execution_count": null,
   "metadata": {},
   "outputs": [],
   "source": [
    "# 列出費氏數列前10項\n",
    "for i in range(1, 11):\n",
    "    print(fibonacci_rec(i), end=', ')"
   ]
  },
  {
   "cell_type": "markdown",
   "metadata": {},
   "source": [
    "> 反倒是用非遞回的方式比較難寫，我把這放在習題，大家可以思考看看"
   ]
  },
  {
   "cell_type": "code",
   "execution_count": null,
   "metadata": {},
   "outputs": [],
   "source": [
    "# 列出費氏數列前10項\n",
    "for i in range(1, 11):\n",
    "    print(fibonacci(i), end=', ')"
   ]
  },
  {
   "cell_type": "markdown",
   "metadata": {},
   "source": [
    "> 遞迴函數有時候看起來可以非常簡短，但是在沒有好好安排記憶體的情況下，有時候會有大量的計算量是重複的，進而減少其效率<br>\n",
    ">\n",
    "> 舉例來說，在計算費氏數列第 `n-1` 項時，其實就會先計算第 `n-2` 項，但因為我們沒有特別安排，程式不知道<br>\n",
    ">\n",
    "> 所以會重複計算第 `n-2` 項，一直一直往下到第 `2` 項，也就是說當 `n` 越大的時候，被重複計算的項目就會越多，效能就會越低<br>\n",
    ">\n",
    "> 以下我們可以比較有無遞迴的時間<br>\n",
    ">\n",
    "> 在 `Jpuyter` 中，我們可以在每個 cell 的最上面輸入 `%%timeit`，程式會重複執行該 cell 來計算整個 cell 執行所花費的平均時間<br>\n",
    ">\n",
    "> 這種以 `%%` 開頭的函數，稱為 `magic function`"
   ]
  },
  {
   "cell_type": "markdown",
   "metadata": {},
   "source": [
    "<a id='function_decorator'></a>\n",
    "### 裝飾器(Decorator)\n",
    "<font color='#77aaaa'> Decorator </font> 本身亦是一個函數，其 `input`及 `output` 皆是一個函數<br>\n",
    "其可以在函數呼叫前後額外執行其他動作，若我們有多個函數皆需要該前置/後續動作，我們可以定義一個<font color='#77aaaa'> Decorator </font>來減少重複的程式碼，並增加程式可讀性<br>\n",
    "基本語法如下\n",
    "```python\n",
    "def my_decorator(func):\n",
    "    def warp(*args, **kwargs):\n",
    "        '''\n",
    "        Do something before calling `func`.\n",
    "        '''\n",
    "        result = func(*args, **kwargs)\n",
    "        '''\n",
    "        Do something after calling `func`.\n",
    "        '''\n",
    "        return result\n",
    "    return warp\n",
    "```\n",
    "由上程式碼不難看出 `decorator` 的作用，當我們呼叫了帶有 `decorator` 的函數時，其依如下順序執行\n",
    "1. 執行裝飾器前綴\n",
    "2. 呼叫函數 `func`\n",
    "3. 執行裝飾器後綴\n",
    "4. 回傳函數 `func` 的回傳值\n",
    "\n",
    "> 通常 `warp` 這個接收函數的 `input` 會定義為 <font color='#ff7777'>(\\*args, \\*\\*kwargs)</font>，如此一來，不論我們輸入的函數 `func` 的 `input` 為何，皆可以被完整接收進來"
   ]
  },
  {
   "cell_type": "markdown",
   "metadata": {},
   "source": [
    "##### 使用 Decorator\n",
    "要使用 `decorator` 只需要簡單的在已經定義好的函數前面加上 `@my_decorator` 的語法即可，如下\n",
    "```python\n",
    "@my_decorator\n",
    "def my_func():\n",
    "    pass\n",
    "```"
   ]
  },
  {
   "cell_type": "markdown",
   "metadata": {},
   "source": [
    "舉例來說，我們希望每個函數執行時我們都可以看到該函數執行時間，我們可以定義一個 `decorator` 來幫助我們量測時間，就不需要每次定義函數時都加上量測時間的程式碼。<br>\n",
    "其中，量測時間我們會需要<font color='#ff7777'>匯入（import）</font>一個<font color='#ff7777'>模組（package）</font>叫做 `time`<br>\n",
    "> <font color='#44aa44'>關於 import package 會在後面的章節有詳細的說明，各位可以先照著使用即可</font>\n",
    "\n",
    "其語法如下，我們會需要使用 `time.time()` 這個函數<br>\n",
    "該函數可以記錄當下的時間點，故我們只需在函數執行前後都紀錄一次，相減即為執行時間（單位：秒）\n",
    "```python\n",
    "import time\n",
    "st = time.time() # 開始前紀錄時間點\n",
    "'''\n",
    "Do domething\n",
    "'''\n",
    "ed = time.time() # 結束時紀錄時間點\n",
    "elapsed_time = ed - st # 函數執行經過時間\n",
    "```"
   ]
  },
  {
   "cell_type": "code",
   "execution_count": null,
   "metadata": {},
   "outputs": [],
   "source": [
    "# 匯入時間函數\n",
    "import time\n",
    "# 定義我們要的時間測量裝飾器函數，並 print 出執行時間（單位：us）\n",
    "def timer(func):\n",
    "    ##### START CODE #####\n",
    "    pass\n",
    "    #####  End  CODE #####"
   ]
  },
  {
   "cell_type": "code",
   "execution_count": null,
   "metadata": {},
   "outputs": [],
   "source": [
    "# 為函數加上 decorator\n",
    "@timer\n",
    "def factorial(n):\n",
    "    out = 1\n",
    "    for i in range(1, n+1):\n",
    "        out *= i\n",
    "    return out"
   ]
  },
  {
   "cell_type": "code",
   "execution_count": null,
   "metadata": {},
   "outputs": [],
   "source": [
    "# 呼叫函數，找出 20 階乘\n",
    "factorial(20)"
   ]
  },
  {
   "cell_type": "markdown",
   "metadata": {},
   "source": [
    "### Exercise 4-1\n",
    "試定義一<font color='#ff7777'>非遞回函數</font>，其 `input` 為 n，`output` 為費氏數列的第 n 項<br>\n",
    "費氏數列：$\\{a_n\\}, \\text{where } a_1 = 1, a_2 = 1, a_n = a_{n-1} + a_{n-2} \\ for\\  n \\geq 3$<br>"
   ]
  },
  {
   "cell_type": "markdown",
   "metadata": {},
   "source": [
    "### Exercise 4-2\n",
    "試定義一函數，`input` 為兩個矩陣（二維陣列）$A$, $B$，`output` 為該矩陣相加的結果 ($A + B$)\n",
    "\n",
    "範例輸入\n",
    "```python\n",
    "A = [[1, 0, 0],\n",
    "     [1, 2, 0],\n",
    "     [0, 1, 3]]\n",
    "B = [[3, 1, 1],\n",
    "     [3, 0, 2],\n",
    "     [0, 1, 0]]\n",
    "```\n",
    "範例輸出\n",
    "```python\n",
    "[[4, 1, 1],\n",
    " [4, 2, 2],\n",
    " [0, 2, 3]]\n",
    "```"
   ]
  },
  {
   "cell_type": "markdown",
   "metadata": {},
   "source": [
    "### Exercise 4-3\n",
    "試定義一函數，`input` 為兩個矩陣（二維陣列）$A$, $B$，`output` 為該矩陣相乘的結果 ($A \\times B$)\n",
    "\n",
    "範例輸入\n",
    "```python\n",
    "A = [[1, 0, 0],\n",
    "     [1, 2, 0],\n",
    "     [0, 1, 3]]\n",
    "B = [[3, 1, 1],\n",
    "     [3, 0, 2],\n",
    "     [0, 1, 0]]\n",
    "```\n",
    "範例輸出\n",
    "```python\n",
    "[[3, 1, 1], \n",
    " [9, 1, 5], \n",
    " [3, 3, 2]]\n",
    "```"
   ]
  },
  {
   "cell_type": "code",
   "execution_count": null,
   "metadata": {},
   "outputs": [],
   "source": []
  }
 ],
 "metadata": {
  "kernelspec": {
   "display_name": "Python 3 (ipykernel)",
   "language": "python",
   "name": "python3"
  },
  "language_info": {
   "codemirror_mode": {
    "name": "ipython",
    "version": 3
   },
   "file_extension": ".py",
   "mimetype": "text/x-python",
   "name": "python",
   "nbconvert_exporter": "python",
   "pygments_lexer": "ipython3",
   "version": "3.10.6"
  }
 },
 "nbformat": 4,
 "nbformat_minor": 4
}
