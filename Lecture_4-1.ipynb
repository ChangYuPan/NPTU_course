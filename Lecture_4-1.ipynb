{
 "cells": [
  {
   "cell_type": "markdown",
   "id": "85d975be",
   "metadata": {},
   "source": [
    "有了前面所學，我們已經可以實作出大部分的問題及算法\n",
    "\n",
    "身為一個專業的數學系學生，把常見的數學定義寫成函數也是一件合情合理的事情\n",
    "\n",
    "在進入下一個章節之前，我們要實作以下幾個問題\n",
    "\n",
    "---\n",
    "#### 以 2-d list 當作矩陣定義以下函數\n",
    "0. `is_mtx`: 檢驗 `input` 是否為一個 2-d list，是則回傳 `True`，否則回傳 `False`\n",
    "1. `get_size`: 回傳一個矩陣的 size `(m, n)`\n",
    "2. `get_min`: 回傳一個矩陣的最小值\n",
    "3. `get_max`: 回傳一個矩陣的最大值\n",
    "4. `mtx_transpose`: 回傳一個矩陣的轉置矩陣\n",
    "6. `mtx_add`: 回傳兩個矩陣相加\n",
    "7. `mtx_mul`: 回傳兩個矩陣相乘"
   ]
  },
  {
   "cell_type": "code",
   "execution_count": 29,
   "id": "37a48180",
   "metadata": {},
   "outputs": [],
   "source": [
    "def is_mtx(func):\n",
    "    ##### START CODE #####\n",
    "    pass\n",
    "    #####  End  CODE #####"
   ]
  },
  {
   "cell_type": "code",
   "execution_count": 30,
   "id": "89944e58",
   "metadata": {},
   "outputs": [],
   "source": [
    "def get_size(mtx):\n",
    "    ##### START CODE #####\n",
    "    pass\n",
    "    #####  End  CODE #####"
   ]
  },
  {
   "cell_type": "code",
   "execution_count": 31,
   "id": "b50a0b74",
   "metadata": {},
   "outputs": [],
   "source": [
    "def get_min(mtx):\n",
    "    ##### START CODE #####\n",
    "    pass\n",
    "    #####  End  CODE #####"
   ]
  },
  {
   "cell_type": "code",
   "execution_count": 32,
   "id": "7fc42e15",
   "metadata": {},
   "outputs": [],
   "source": [
    "def get_max(mtx):\n",
    "    ##### START CODE #####\n",
    "    pass\n",
    "    #####  End  CODE #####"
   ]
  },
  {
   "cell_type": "code",
   "execution_count": 33,
   "id": "55d935df",
   "metadata": {},
   "outputs": [],
   "source": [
    "def mtx_transpose(mtx):\n",
    "    ##### START CODE #####\n",
    "    pass\n",
    "    #####  End  CODE #####"
   ]
  },
  {
   "cell_type": "code",
   "execution_count": 43,
   "id": "14116a74",
   "metadata": {},
   "outputs": [],
   "source": [
    "def mtx_add(mtx1, mtx2):\n",
    "    ##### START CODE #####\n",
    "    pass\n",
    "    #####  End  CODE #####"
   ]
  },
  {
   "cell_type": "code",
   "execution_count": 35,
   "id": "8fc7da46",
   "metadata": {},
   "outputs": [],
   "source": [
    "def mtx_mul(mtx1, mtx2):\n",
    "    ##### START CODE #####\n",
    "    pass\n",
    "    #####  End  CODE #####"
   ]
  },
  {
   "cell_type": "code",
   "execution_count": 111,
   "id": "5e7bc45c",
   "metadata": {},
   "outputs": [],
   "source": [
    "A = [\n",
    "    [1, 2],\n",
    "    [3, 4],\n",
    "    [5, 6]\n",
    "]"
   ]
  },
  {
   "cell_type": "code",
   "execution_count": null,
   "id": "48ba5e9f",
   "metadata": {},
   "outputs": [],
   "source": []
  }
 ],
 "metadata": {
  "kernelspec": {
   "display_name": "Python 3 (ipykernel)",
   "language": "python",
   "name": "python3"
  },
  "language_info": {
   "codemirror_mode": {
    "name": "ipython",
    "version": 3
   },
   "file_extension": ".py",
   "mimetype": "text/x-python",
   "name": "python",
   "nbconvert_exporter": "python",
   "pygments_lexer": "ipython3",
   "version": "3.10.6"
  }
 },
 "nbformat": 4,
 "nbformat_minor": 5
}
