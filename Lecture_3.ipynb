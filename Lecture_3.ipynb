{
 "cells": [
  {
   "cell_type": "markdown",
   "metadata": {},
   "source": [
    "<font color='#77aaaa' size=40> Conditional Experssions & Loop </font>"
   ]
  },
  {
   "cell_type": "markdown",
   "metadata": {},
   "source": [
    "### Conditional expressions (條件判斷式)\n",
    "即是很多人熟知的 `if - else` 敘述，根據滿足的條件來執行對應的區塊，基本語法如下\n",
    "```python\n",
    "if condition_1: ### necessary\n",
    "    execute somthing\n",
    "elif condition_2: ### optional\n",
    "    execute something\n",
    "...\n",
    "\n",
    "else: ### optional\n",
    "    execute something\n",
    "```\n",
    "如上表示，以下幾點說明\n",
    "1. 當 condition 的結果為 `True` 則會執行該 block，否則繼續檢驗下一個 condition\n",
    "2. `elif` 表示 `else if` 的意思\n",
    "3. 條件判斷存在順序性，必定會<font color='#ff7777'>由上至下</font>依序判斷\n",
    "4. 倘若滿足某一個條件並執行對應的區塊後，會直接跳出整個 `if - else` 敘述，底下的條件判斷式不會進行判斷\n",
    "5. 只有 `if` 為必需的敘述，剩餘的兩個皆為可有可無\n",
    "6. 每一個條件式最後一定要加上<font color='#ff7777'>冒號</font>\n",
    "7. 每一個對應的執行區塊必須要相對條件敘述<font color='#ff7777'>縮排（空一個 tab）</font>\n",
    "> Python 在所有有 \"block\" 概念的地方，都是利用<font color='#ff7777'>縮排</font>來判定\n",
    "\n",
    "舉例來說，今天我們要去挑戰世界冠軍，我們知道只能攜帶至多 6 隻寶可夢<br>\n",
    "因此，在我們登入系統的時候就可以做以下檢測<br>\n",
    "「若攜帶寶可夢數量超過 6 隻，則顯示違規訊息」"
   ]
  },
  {
   "cell_type": "code",
   "execution_count": null,
   "metadata": {},
   "outputs": [],
   "source": [
    "my_pokemon = ['綠毛蟲', '鐵甲蛹', '拉魯拉斯', '凱西', '比比鳥', '卡比獸']"
   ]
  },
  {
   "cell_type": "code",
   "execution_count": null,
   "metadata": {},
   "outputs": [],
   "source": [
    "if len(my_pokemon) > 6:\n",
    "    print('攜帶寶可夢數量超標，作弊仔？')\n",
    "else:\n",
    "    print('檢驗合格，等著被冠軍暴打一頓吧')"
   ]
  },
  {
   "cell_type": "code",
   "execution_count": null,
   "metadata": {},
   "outputs": [],
   "source": [
    "my_pokemon.append('烈空座')\n",
    "if len(my_pokemon) > 6:\n",
    "    print('攜帶寶可夢數量超標，作弊仔？')\n",
    "else:\n",
    "    print('檢驗合格，等著被冠軍暴打一頓吧')"
   ]
  },
  {
   "cell_type": "markdown",
   "metadata": {},
   "source": [
    "##### 常見取得 boolean 值的方式\n",
    "除了 `Lecture_1` 提到的 Comparison operator（比較運算子）之外，Membership operator (`in`, `not in`) 也是常見的方式<br>\n",
    "被用來判斷某個物件是否存在於一個 sequence like (string, list, tuple, dictionary, set) 的資料結構裡<br>"
   ]
  },
  {
   "cell_type": "markdown",
   "metadata": {},
   "source": [
    "1. 字串的判斷：判斷某個字串是否存在一個字串中，如下例子說明"
   ]
  },
  {
   "cell_type": "code",
   "execution_count": null,
   "metadata": {},
   "outputs": [],
   "source": [
    "print('a' in 'apple')\n",
    "print('cat' in 'banana')"
   ]
  },
  {
   "cell_type": "markdown",
   "metadata": {},
   "source": [
    "2. 其餘資料結構的判斷，以 `list` 為例，判斷某個項目是否存在 `list` 中，如下例子說明"
   ]
  },
  {
   "cell_type": "code",
   "execution_count": null,
   "metadata": {},
   "outputs": [],
   "source": [
    "print('烈空座' in my_pokemon)\n",
    "my_pokemon.remove('烈空座')\n",
    "print('烈空座' in my_pokemon)"
   ]
  },
  {
   "cell_type": "markdown",
   "metadata": {},
   "source": [
    "> 若判定對象為 dictionary，只針對 `key` 值來判斷"
   ]
  },
  {
   "cell_type": "markdown",
   "metadata": {},
   "source": [
    "有了以上的說明，我們甚至可以定下打冠軍不可以使用傳說寶可夢的規定。<br>\n",
    "例如檢查以下規定<br>\n",
    "1. 攜帶寶可夢數量不可超過 6 隻\n",
    "2. 攜帶寶可夢不可包含（烈空座、蓋歐卡、固拉多）\n",
    "\n",
    "否則顯示違規訊息\n",
    "<img src='images/傳說寶可夢.jpeg' alt=\"傳說寶可夢\" style=\"width:400px;\"/>"
   ]
  },
  {
   "cell_type": "code",
   "execution_count": null,
   "metadata": {},
   "outputs": [],
   "source": [
    "my_pokemon.append('烈空座')\n",
    "if len(my_pokemon) > 6 or '烈空座' in my_pokemon or '蓋歐卡' in my_pokemon or '固拉多' in my_pokemon:\n",
    "    print('作弊仔？')\n",
    "else:\n",
    "    print('檢驗合格，等著被冠軍暴打一頓吧')"
   ]
  },
  {
   "cell_type": "code",
   "execution_count": null,
   "metadata": {},
   "outputs": [],
   "source": [
    "if len(my_pokemon) > 6:\n",
    "    print('攜帶寶可夢數量超標，作弊仔？')\n",
    "elif '烈空座' in my_pokemon or '蓋歐卡' in my_pokemon or '固拉多' in my_pokemon:\n",
    "    print('還敢偷用神獸啊？')\n",
    "else:\n",
    "    print('檢驗合格，等著被冠軍暴打一頓吧')"
   ]
  },
  {
   "cell_type": "markdown",
   "metadata": {},
   "source": [
    "> 如上範例，因為我們用 `if - elif - else`，所以當判定超過 6 隻寶可夢就會跳出 if 敘述，不會做後續判斷<br>\n",
    "若 `if` 敘述不成立，才會繼續判定剩餘敘述，如下範例"
   ]
  },
  {
   "cell_type": "code",
   "execution_count": null,
   "metadata": {},
   "outputs": [],
   "source": [
    "my_pokemon.remove('綠毛蟲')\n",
    "if len(my_pokemon) > 6:\n",
    "    print('攜帶寶可夢數量超標，作弊仔？')\n",
    "elif '烈空座' in my_pokemon or '蓋歐卡' in my_pokemon or '固拉多' in my_pokemon:\n",
    "    print('還敢偷用神獸啊？')\n",
    "else:\n",
    "    print('檢驗合格，等著被冠軍暴打一頓吧')"
   ]
  },
  {
   "cell_type": "markdown",
   "metadata": {},
   "source": [
    "<a id='loop'></a>\n",
    "### Loop (迴圈)\n",
    "又分為以下兩種形式\n",
    "1. [<font color='#77aaaa' face='monospace'>For loop</font>](#forloop): 循環<font color='#ff7777'>固定</font>次數，重複執行 loop block 內的敘述\n",
    "    - 從一個<font color='#77aaaa'>「可迭代物（iterable）」</font><font color='#ff7777'>依序</font>取出每一個元素，並執行 block 內的敘述，直到「可迭代物」取盡為止\n",
    "    - 基本語法如下，在該迴圈的 block 底下，`element` 會持續變更為每一次從「可迭代物」取出的元素\n",
    "    \n",
    "```python\n",
    "for element in iterable_object:\n",
    "    <statement>\n",
    "```\n",
    "2. [<font color='#77aaaa' face='monospace'>While loop</font>](#whileloop): 循環<font color='#ff7777'>不固定</font>次數，重複執行 loop block 內的敘述\n",
    "    - 不需要「可迭代物」，單純重複執行 block 內的敘述，直到<font color='#ff7777'>滿足（不滿足）條件</font>為止\n",
    "    - 基本語法如下，在每次進入迴圈之前，都會檢查一次條件，<font color='#ff7777'>滿足</font>條件才會進入迴圈 block\n",
    "    \n",
    "```python\n",
    "while check_condition:\n",
    "    <statement>\n",
    "```\n",
    "> 通常在 `while` 迴圈內會有可以改變 `check_condition` 的敘述，否則 while 迴圈無法停止，則會變成「無限迴圈」"
   ]
  },
  {
   "cell_type": "markdown",
   "metadata": {},
   "source": [
    "<a id='forloop'></a>\n",
    "### For loop\n",
    "##### 可迭代物（iterable）\n",
    "常見的可迭代物分為以下兩類<br>\n",
    "1. Function: `range()`, `enumerate()`, `zip()`\n",
    "2. Data: `string`, `list`, `tuple`, `dictionary`"
   ]
  },
  {
   "cell_type": "markdown",
   "metadata": {},
   "source": [
    "##### range()\n",
    "可以生成指定長度的數字列，基本語法如下\n",
    "```python\n",
    "range(start<default=0>, end, step<default=1>)\n",
    "```\n",
    "其中`start`, `end`, `step`都必須為<font color='#ff7777'>整數</font><br>\n",
    "生成的內容物會由 `start` 開始，每次間隔 `step`，直到<font color='#ff7777'>end-1</font>為止，如下範例"
   ]
  },
  {
   "cell_type": "code",
   "execution_count": null,
   "metadata": {},
   "outputs": [],
   "source": [
    "# 只有一個數字預設為 end\n",
    "for i in range(5):\n",
    "    print(i, end=', ')\n",
    "print('\\n--------------------')\n",
    "# 只有兩個數字預設為 start, end\n",
    "for i in range(0, 5):\n",
    "    print(i, end=', ')\n",
    "# 加入 step\n",
    "print('\\n--------------------')\n",
    "for i in range(0, 5, 1):\n",
    "    print(i, end=', ')\n",
    "# step 不是 1 的例子\n",
    "print('\\n--------------------')\n",
    "for i in range(0, 10, 2):\n",
    "    print(i, end=', ')\n",
    "# range 只能放入整數，不能放入浮點數\n",
    "print('\\n--------------------')\n",
    "for i in range(0, 10, 2.5):\n",
    "    print(i, end=', ')"
   ]
  },
  {
   "cell_type": "markdown",
   "metadata": {},
   "source": [
    "舉例來說，我們可以用迴圈依序輸出每一隻攜帶的寶可夢"
   ]
  },
  {
   "cell_type": "code",
   "execution_count": null,
   "metadata": {},
   "outputs": [],
   "source": [
    "my_pokemon = ['綠毛蟲', '鐵甲蛹', '拉魯拉斯', '凱西', '比比鳥', '卡比獸']"
   ]
  },
  {
   "cell_type": "code",
   "execution_count": null,
   "metadata": {},
   "outputs": [],
   "source": [
    "print('登入寶可夢如下')\n",
    "print('-------------------')\n",
    "for i in range(6):\n",
    "    print(f'第 {i+1} 隻： {my_pokemon[i]}')\n",
    "print('-------------------')\n",
    "print('檢驗合格，等著被冠軍暴打一頓吧')"
   ]
  },
  {
   "cell_type": "markdown",
   "metadata": {},
   "source": [
    "有了上述的例子之後，我們可以改寫我們的打冠軍的檢察系統，設計如下：\n",
    "每次檢驗時依序做以下的動作\n",
    "1. 檢查是否攜帶超出 6 隻寶可夢，若超過則輸出「攜帶寶可夢數量超標，作弊仔？」\n",
    "2. 檢查是否攜帶任何神獸，若偷偷攜帶則輸出「還敢偷用神獸啊？」\n",
    "3. 以上檢查皆通過後，會依序輸出攜帶寶可夢的順序與名字"
   ]
  },
  {
   "cell_type": "code",
   "execution_count": null,
   "metadata": {},
   "outputs": [],
   "source": [
    "##### START CODE #####\n",
    "pass\n",
    "#####  End  CODE #####"
   ]
  },
  {
   "cell_type": "markdown",
   "metadata": {},
   "source": [
    "---"
   ]
  },
  {
   "cell_type": "markdown",
   "metadata": {},
   "source": [
    "有了 `range` 函數，我們可以簡單利用 `range` 來生成某些 `list` 或 `dictionary`<br>\n",
    "舉例來說，我們可以創建一個 `list` 依序包含從 0 ~ 9 的平方數，常見的作法如下範例"
   ]
  },
  {
   "cell_type": "code",
   "execution_count": null,
   "metadata": {},
   "outputs": [],
   "source": [
    "# 先令一個空 list\n",
    "squares = []\n",
    "# 用 for 迴圈搭配 range 產生 0 ~ 9\n",
    "for i in range(10):\n",
    "    # 把對應數字的平方透過 list.append() 方法塞入 list 內\n",
    "    squares.append(i**2)\n",
    "print(squares)"
   ]
  },
  {
   "cell_type": "markdown",
   "metadata": {},
   "source": [
    "或是創建一個 `dict` 其 `key` 為 0 ~ 9，而 `value` 對應其平方數，常見的作法如下範例"
   ]
  },
  {
   "cell_type": "code",
   "execution_count": null,
   "metadata": {},
   "outputs": [],
   "source": [
    "# 先令一個空 dict\n",
    "squares = {}\n",
    "# 用 for 迴圈 搭配 range 產生 0 ~ 9\n",
    "for i in range(10):\n",
    "    # 把對應數字的平方透過 dict[key] = value 的方式塞入 dict 內\n",
    "    squares[i] = i**2\n",
    "print(squares)"
   ]
  },
  {
   "cell_type": "markdown",
   "metadata": {},
   "source": [
    "> 在 Python 中還有一種方法可以簡化上面的做法，稱為 <b><font color='#44aa44' size='5'>List comprehension</font></b>，\n",
    "> \n",
    "> 這些簡化的方式又被稱為是 `Pythonic` 的寫法，通常有別於以往 C-like 的語言，更簡潔、可讀性更高\n",
    ">\n",
    "> 並且其效率也比起單純使用 `for` 迴圈來得更好\n",
    "\n",
    "上述建立 `list` 及 `dict` 的方法可以簡化成如下形式"
   ]
  },
  {
   "cell_type": "markdown",
   "metadata": {},
   "source": [
    "##### List comprehension\n",
    "基本語法如下\n",
    "<p>\n",
    "    <div style=\"font-family:monospace\">\n",
    "        List = [ <font color='#ff7777'>expression(item)</font> <font color='#77aaaa'>for item in iterable_object</font> <font color='#44aa44'>if condition</font> ] \n",
    "    </div>\n",
    "</p>\n",
    "<p>其等價於如下的 <font face='monospace'>for loop</font></p>\n",
    "<p>\n",
    "    <div style=\"font-family:monospace\">\n",
    "        List = []<br>\n",
    "        <font color='#77aaaa'>for item in iterable_object</font><font color='#ffaa00'>:</font><br>\n",
    "        &nbsp;&nbsp;&nbsp;&nbsp;<font color='#44aa44'>if condition</font><font color='#ffaa00'>:</font><br>\n",
    "        &nbsp;&nbsp;&nbsp;&nbsp;&nbsp;&nbsp;&nbsp;&nbsp;exp_item = <font color='#ff7777'>expression(item)</font><br>\n",
    "        &nbsp;&nbsp;&nbsp;&nbsp;&nbsp;&nbsp;&nbsp;&nbsp;List.append(exp_item)\n",
    "    </div>\n",
    "</p>"
   ]
  },
  {
   "cell_type": "markdown",
   "metadata": {},
   "source": [
    "> List comprehension 內的 `for` 跟 `if` 都<font color='#ff7777'> 沒有分號</font>"
   ]
  },
  {
   "cell_type": "code",
   "execution_count": null,
   "metadata": {},
   "outputs": [],
   "source": [
    "# list\n",
    "squares = [i**2 for i in range(10)]\n",
    "print(squares)"
   ]
  },
  {
   "cell_type": "markdown",
   "metadata": {},
   "source": [
    "同理，其實 `dict` 也是可以用同樣的寫法\n",
    "<p>\n",
    "    <div style=\"font-family:monospace\">\n",
    "        Dict = { <font color='#ff7777'>expression_for_key(item): expression_for_value(item)</font> <font color='#77aaaa'>for item in iterable_object</font> <font color='#44aa44'>if condition</font> }\n",
    "    </div>\n",
    "</p>\n",
    "<p>其等價於如下的 <font face='monospace'>for loop</font></p>\n",
    "<p>\n",
    "    <div style=\"font-family:monospace\">\n",
    "        Dict = []<br>\n",
    "        <font color='#77aaaa'>for item in iterable_object</font><font color='#ffaa00'>:</font><br>\n",
    "        &nbsp;&nbsp;&nbsp;&nbsp;<font color='#44aa44'>if condition</font><font color='#ffaa00'>:</font><br>\n",
    "        &nbsp;&nbsp;&nbsp;&nbsp;&nbsp;&nbsp;&nbsp;&nbsp;key = <font color='#ff7777'>expression_for_key(item)</font><br>\n",
    "        &nbsp;&nbsp;&nbsp;&nbsp;&nbsp;&nbsp;&nbsp;&nbsp;value = <font color='#ff7777'>expression_for_value(item)</font><br>\n",
    "        &nbsp;&nbsp;&nbsp;&nbsp;&nbsp;&nbsp;&nbsp;&nbsp;Dict[key] = value\n",
    "    </div>\n",
    "</p>"
   ]
  },
  {
   "cell_type": "code",
   "execution_count": null,
   "metadata": {},
   "outputs": [],
   "source": [
    "# dict\n",
    "squares = {i: i**2 for i in range(10)}\n",
    "print(squares)"
   ]
  },
  {
   "cell_type": "markdown",
   "metadata": {},
   "source": [
    "---"
   ]
  },
  {
   "cell_type": "markdown",
   "metadata": {},
   "source": [
    "##### string\n",
    "`String` 可以被迭代，每次迭代都會<font color='#77aaaa'>依序</font>取出每一個字元，如下範例"
   ]
  },
  {
   "cell_type": "code",
   "execution_count": null,
   "metadata": {},
   "outputs": [],
   "source": [
    "s = 'Hello World!'\n",
    "for c in s:\n",
    "    print(f'[{c}]', end=', ')"
   ]
  },
  {
   "cell_type": "markdown",
   "metadata": {},
   "source": [
    "##### list / tuple\n",
    "`list` 與 `tuple` 本身就是一個可迭代物，每次迭代都會<font color='#77aaaa'>依序</font>取出裡面的內容物，如下範例"
   ]
  },
  {
   "cell_type": "code",
   "execution_count": null,
   "metadata": {},
   "outputs": [],
   "source": [
    "for pokemon in my_pokemon:\n",
    "    print(pokemon)"
   ]
  },
  {
   "cell_type": "markdown",
   "metadata": {},
   "source": [
    "由上述例子就可以看出，若我們需要依序獲取一個 `list` 的內容物，可以直接迭代該 `list`，<br>\n",
    "而不是迭代一個 `range`，再根據該 `range` 裡的每一個數字當作 `index` 去取出 `list` 的內容物<br>\n",
    "- <font color='#77ff77'>推薦寫法</font>\n",
    "```python\n",
    "for pokemon in my_pokemon:\n",
    "    print(pokemon)\n",
    "```\n",
    "- <font color='#ff7777'>不推薦寫法</font>\n",
    "```python\n",
    "for i in range(len(my_pokemon)): # 先用 len 獲取 list 的長度，再放入 range 內迭代出對應長度的數字\n",
    "    print(my_pokemon[i]) # 再用該迭代出的數字去索引 list \n",
    "```\n",
    "\n",
    "因此我們可以對我們的檢察系統做修改，但會發現一個問題<br>\n",
    "我們不只需要迭代每一隻寶可夢，我們還是需要數字來顯示出是第幾隻寶可夢（<font color='#ff7777'>第 1 隻</font>: 綠毛蟲）<br>\n",
    "於是 Python 提供另一個函數可以滿足這個需求：<font color='#ff7777'>enumerate()</font>"
   ]
  },
  {
   "cell_type": "markdown",
   "metadata": {},
   "source": [
    "---"
   ]
  },
  {
   "cell_type": "markdown",
   "metadata": {},
   "source": [
    "##### enumerate()\n",
    "`enumerate` 的輸入為一個可迭代物，輸出亦為一個可迭代物<br>\n",
    "不同的是，當我們迭代 `enumerate` 生成的可迭代物時，每次迭代的內容物為一個 `tuple`<br>\n",
    "其內容包含原本輸入的迭代物內容，以及其對應順序的數字<br>\n",
    "基本語法如下\n",
    "```python\n",
    "for item in enumerate(<iterable>):\n",
    "    <statement>\n",
    "```\n",
    "如下範例"
   ]
  },
  {
   "cell_type": "code",
   "execution_count": null,
   "metadata": {},
   "outputs": [],
   "source": [
    "for item in enumerate(my_pokemon):\n",
    "    print(item)"
   ]
  },
  {
   "cell_type": "markdown",
   "metadata": {},
   "source": [
    "> 可以看到每一個 `item` 皆為一個 `tuple`，若我們必須還要用 <font color='#77aaaa'>item[0]</font>, <font color='#77aaaa'>itme[1]</font>，才能取出對應位置的內容物\n",
    "> 而 `Python` 提供了另一個寫法，可以更直觀取得內容物，基本語法如下\n",
    "```python\n",
    "for i, polemon in enumerate(my_pokemon):\n",
    "    <statement>\n",
    "```\n",
    "> 也就是說，我們可以把 `tuple` 展開在 `for` 迴圈迭代的回傳值，省去 index 出 `tuple` 內容物的步驟"
   ]
  },
  {
   "cell_type": "markdown",
   "metadata": {},
   "source": [
    "有了 `enumerate`，打冠軍檢察系統中「依序輸出寶可夢」的部分就可以改寫為 `enumerate` 的形式"
   ]
  },
  {
   "cell_type": "code",
   "execution_count": null,
   "metadata": {
    "scrolled": true
   },
   "outputs": [],
   "source": [
    "##### START CODE #####\n",
    "pass\n",
    "#####  End  CODE #####"
   ]
  },
  {
   "cell_type": "markdown",
   "metadata": {},
   "source": [
    "---"
   ]
  },
  {
   "cell_type": "markdown",
   "metadata": {},
   "source": [
    "##### dictionary()\n",
    "`dict` 本身也是一個可迭代物，但若直接迭代 `dict` 本身，只會針對 <font color='#ff7777'>key值</font> 迭代，如下範例"
   ]
  },
  {
   "cell_type": "code",
   "execution_count": null,
   "metadata": {},
   "outputs": [],
   "source": [
    "rookie_pokemoon = {\n",
    "    '水': ['傑尼龜', '卡咪龜', '水箭龜'], \n",
    "    '火': ['小火龍', '火恐龍', '噴火龍'], \n",
    "    '草': ['妙蛙種子', '妙蛙草', '妙蛙花']\n",
    "}"
   ]
  },
  {
   "cell_type": "code",
   "execution_count": null,
   "metadata": {},
   "outputs": [],
   "source": [
    "for pokemon_type in rookie_pokemoon:\n",
    "    print(pokemon_type)"
   ]
  },
  {
   "cell_type": "markdown",
   "metadata": {},
   "source": [
    "##### dict.items()\n",
    "若我們今天想在迭代的過程同時取出 <font color='#ff7777'>key - value</font>，則必須調用 <font color='#77aaaa'>items</font> 這個 method<br>\n",
    "`my_dict.items()` 也是一個可迭代物，每次迭代皆會回傳一個 `tuple`，並以 <font color='#ff7777'>(key, value)</font> 的形式呈現，如下範例"
   ]
  },
  {
   "cell_type": "code",
   "execution_count": null,
   "metadata": {},
   "outputs": [],
   "source": [
    "for item in rookie_pokemoon.items():\n",
    "    print(item)"
   ]
  },
  {
   "cell_type": "markdown",
   "metadata": {},
   "source": [
    "> 除了直接用一個變數接收 for 迴圈的回傳值以外，在已知每一次的 `item` 都會是 <font color='#ff7777'>(key, value)</font> 這種 `tuple` 的形式<br>\n",
    "> 我們也可以直接用兩個變數去接，就如同用兩個變數接收 `enumerate` 的回傳值一樣，例如以 `key, value` 這樣的方式去接收"
   ]
  },
  {
   "cell_type": "code",
   "execution_count": null,
   "metadata": {},
   "outputs": [],
   "source": [
    "for key, value in rookie_pokemoon.items():\n",
    "    print(f'key = {key} : value = {value}')"
   ]
  },
  {
   "cell_type": "markdown",
   "metadata": {},
   "source": [
    "> `my_dict.items()` 也可以結合前面提到的 `enumerate` 來使用，在每次回傳每一個 `item` 時<br>\n",
    "> 用一個 `counter` 與一組 `key, value` 來接收，如下範例"
   ]
  },
  {
   "cell_type": "code",
   "execution_count": null,
   "metadata": {},
   "outputs": [],
   "source": [
    "for i, (key, value) in enumerate(rookie_pokemoon.items()):\n",
    "    print(f'第 {i+1} 類 - key = {key} : value = {value}')"
   ]
  },
  {
   "cell_type": "markdown",
   "metadata": {},
   "source": [
    "> <font color='#ff7777'>[注意]</font><br>\n",
    "> 因為 `my_dict.items()` 會回傳一個 `tuple`，而 `enumerate` 也會回傳一個 `tuple`<br>\n",
    "> 故整段的回傳值為一個 `tuple` 包含另一個 `tuple`，所以必須用 `i, (key, value)`，而不能用 `i, key, value`"
   ]
  },
  {
   "cell_type": "markdown",
   "metadata": {},
   "source": [
    "##### zip()\n",
    "可以透過在 jupyter notebook 執行 `zip??` 查看說明，說明如下\n",
    "```\n",
    "Return a zip object whose .__next__() method returns a tuple where\n",
    "the i-th element comes from the i-th iterable argument.  The .__next__()\n",
    "method continues until the shortest iterable in the argument sequence\n",
    "is exhausted and then it raises StopIteration.\n",
    "```\n",
    "簡而言之就是，`zip` 可以把兩個以上的 <font color='#77aaaa'>iterable object (可迭代物)</font> <font color='#ff7777'>一一配對後</font>回傳<br>\n",
    "如下範例，若想要查看 `zip` 的內容，必須要轉成 `list`"
   ]
  },
  {
   "cell_type": "code",
   "execution_count": null,
   "metadata": {},
   "outputs": [],
   "source": [
    "x = [1, 2, 3]\n",
    "y = ['a', 'b', 'c']\n",
    "print(list(zip(x, y)))"
   ]
  },
  {
   "cell_type": "markdown",
   "metadata": {},
   "source": [
    "舉裡來說，現在有兩個 `list` 分別紀錄了你打世界冠軍大吾的寶可夢預設陣容 `my_pokemon`，以及世界冠軍大吾的預設陣容 `DaWu_pokemon`\n",
    "```python\n",
    "DaWu_pokemon = ['盔甲鳥', '搖籃百合', '念力土偶', '太古盔甲', '波士可多拉', '巨金怪']\n",
    "```\n",
    "![大吾陣容](images/大吾陣容.png)"
   ]
  },
  {
   "cell_type": "code",
   "execution_count": null,
   "metadata": {},
   "outputs": [],
   "source": [
    "my_pokemon = ['綠毛蟲', '鐵甲蛹', '拉魯拉斯', '凱西', '比比鳥', '卡比獸']\n",
    "DaWu_pokemon = ['盔甲鳥', '搖籃百合', '念力土偶', '太古盔甲', '波士可多拉', '巨金怪']"
   ]
  },
  {
   "cell_type": "markdown",
   "metadata": {},
   "source": [
    "若我們想要秀出預設陣容的對戰組合，在前面學習到的方法中，我們可能會想採用以下兩種做法<br>\n",
    "1. 用 `range(6)` 迭代出 6 個數字，再分別取出兩者預設陣容中對應的寶可夢，如下範例"
   ]
  },
  {
   "cell_type": "code",
   "execution_count": null,
   "metadata": {},
   "outputs": [],
   "source": [
    "for i in range(6):\n",
    "    print(f'第 {i+1} 戰 - {my_pokemon[i]} vs. {DaWu_pokemon[i]}')"
   ]
  },
  {
   "cell_type": "markdown",
   "metadata": {},
   "source": [
    "2. 用 `enumerate` 先迭代出我們的寶可夢，再用 `enumerate` 給出的 index 來索引大吾的寶可夢，如下範例"
   ]
  },
  {
   "cell_type": "code",
   "execution_count": null,
   "metadata": {},
   "outputs": [],
   "source": [
    "for i, my_ in enumerate(my_pokemon):\n",
    "    print(f'第 {i+1} 戰 - {my_} vs. {DaWu_pokemon[i]}')"
   ]
  },
  {
   "cell_type": "markdown",
   "metadata": {},
   "source": [
    "3. 現在，我們可以改用 `zip` 給出一一配對的對戰組合的 `tuple`，再搭配 `enumerate` 來使用，如下範例"
   ]
  },
  {
   "cell_type": "code",
   "execution_count": null,
   "metadata": {},
   "outputs": [],
   "source": [
    "for i, (my_, dawu_) in enumerate(zip(my_pokemon, DaWu_pokemon)):\n",
    "    print(f'第 {i+1} 戰 - {my_} vs. {dawu_}')"
   ]
  },
  {
   "cell_type": "markdown",
   "metadata": {},
   "source": [
    "### Continue & Break\n",
    "當我們使用 For 迴圈時，每次迴圈都會完整執行該 block 內的所有敘述，當我們需要提早停止迴圈或是提早執行下一個迴圈時<br>\n",
    "就會需要 <font color='#ff7777'>continue</font> 與 <font color='#ff7777'>break</font> (兩者皆屬於關鍵字)，通常會搭配<font color='#77aaaa'> 條件判斷 (if-else) </font>的敘述，當某個條件達成時提早結束，基本語法如下<br>\n",
    "```python\n",
    "for i in <iterator>:\n",
    "    <statement>\n",
    "    if <some condition>:\n",
    "        continue / break\n",
    "    <statement>\n",
    "```"
   ]
  },
  {
   "cell_type": "markdown",
   "metadata": {},
   "source": [
    "##### continue\n",
    "當執行到 `continue` 時， For 迴圈會忽略後面的敘述，直接<font color='#77aaaa'>執行下一個迭代</font>，如下範例"
   ]
  },
  {
   "cell_type": "code",
   "execution_count": null,
   "metadata": {},
   "outputs": [],
   "source": [
    "for i in range(1, 11):\n",
    "    if i % 3 == 0: ### 若為 3 的倍數則跳過此圈\n",
    "        continue\n",
    "    print(i, end=', ')"
   ]
  },
  {
   "cell_type": "markdown",
   "metadata": {},
   "source": [
    "##### break\n",
    "當執行到 `break` 時， For 迴圈會忽略後面的敘述，直接<font color='#77aaaa'> 跳出</font><font color='#ff7777'>該層</font><font color='#77aaaa'> for 迴圈 </font>，如下範例"
   ]
  },
  {
   "cell_type": "code",
   "execution_count": null,
   "metadata": {},
   "outputs": [],
   "source": [
    "for i in range(1, 11):\n",
    "    if i % 3 == 0: ### 若為 3 的倍數則跳出 for 迴圈\n",
    "        break\n",
    "    print(i, end=', ')"
   ]
  },
  {
   "cell_type": "markdown",
   "metadata": {},
   "source": [
    "> <font color='#ff7777'>[Remark]</font><br>\n",
    "> <font color='#ff7777'>break</font> 需特別注意只會跳出該層 for 迴圈，意思是若 <font color='#ff7777'>break</font> 放在<font color='#77aaaa'> 巢狀迴圈 </font>中，只會跳出一層 for 迴圈，更外層的 for 迴圈會正常執行"
   ]
  },
  {
   "cell_type": "markdown",
   "metadata": {},
   "source": [
    "##### 巢狀迴圈 ( Nested loop)\n",
    "意即迴圈之中包裹著另一個迴圈，數量不僅限於 2 層，當資料具有巢狀結構且需要使用其中的元素時，時常會需要巢狀迴圈來迭代該巢狀結構<br>\n",
    "舉例來說，一個矩陣的取值，當我們用一個<font color='#77aaaa'> 二維陣列 </font>儲存一個矩陣的元素時，就可以用一個巢狀結構來迭代，如下範例<br>"
   ]
  },
  {
   "cell_type": "code",
   "execution_count": null,
   "metadata": {},
   "outputs": [],
   "source": [
    "# 首先定義該矩陣\n",
    "mat = [\n",
    "    [4, 9, 2],\n",
    "    [3, 5, 7],\n",
    "    [8, 1, 6]\n",
    "]"
   ]
  },
  {
   "cell_type": "code",
   "execution_count": null,
   "metadata": {},
   "outputs": [],
   "source": [
    "# 先舉一個巢狀迴圈的例子\n",
    "# for 迴圈迭代\n",
    "# 第一層 for 迴圈迭代每一列\n",
    "for i in range(3):\n",
    "    # 第二層 for 迴圈迭代第 i 列的每一行\n",
    "    for j in range(3):\n",
    "        # 顯示對應元素值\n",
    "        print(f'第 {i} 列，第 {j} 行：元素值 = {mat[i][j]}')"
   ]
  },
  {
   "cell_type": "markdown",
   "metadata": {},
   "source": [
    "##### 巢狀迴圈 continue 例子\n",
    "```\n",
    "在上一次的練習中，我們用索引直接取出對應元素，並計算其對角線和（trace）\n",
    "當我們可以利用巢狀迴圈迭代整個矩陣元素時\n",
    "我們可以進一步求出該矩陣的最小元素及最大元素\n",
    "如下範例\n",
    "```\n",
    "$\n",
    "\\begin{bmatrix}\n",
    "    4 & 9 & 2\\\\\n",
    "    3 & 5 & 7\\\\\n",
    "    8 & 1 & 6\n",
    "\\end{bmatrix}\n",
    "$"
   ]
  },
  {
   "cell_type": "code",
   "execution_count": null,
   "metadata": {},
   "outputs": [],
   "source": [
    "# 取出元素最大值與最小值\n",
    "# 首先定義目前最小值與最大值供後續比較用\n",
    "m = mat[0][0]\n",
    "M = mat[0][0]\n",
    "for i in range(3):\n",
    "    for j in range(3):\n",
    "        # 取出元素值\n",
    "        ##### START CODE #####\n",
    "        pass\n",
    "        #####  End  CODE #####\n",
    "        \n",
    "        # 判定是否為目前最小，是則更新目前最小值，並利用 continue 跳過後續判定最大值\n",
    "        # 因為若更新為最小值，則不需要再更新最大值\n",
    "        ##### START CODE #####\n",
    "        pass\n",
    "        #####  End  CODE #####\n",
    "        \n",
    "        # 判定是否為目前最大，是則更新目前最大值\n",
    "        ##### START CODE #####\n",
    "        pass\n",
    "        #####  End  CODE #####\n",
    "print(f'min = {m}, max = {M}')"
   ]
  },
  {
   "cell_type": "markdown",
   "metadata": {},
   "source": [
    "##### 巢狀迴圈 break 例子\n",
    "```\n",
    "試輸出如下矩陣每一列中第一個不為 0 的元素及其對應的行數\n",
    "```\n",
    "$\n",
    "\\begin{bmatrix}\n",
    "    0 & 1 & 1 & 1 & 1\\\\\n",
    "    0 & 0 & 1 & 1 & 1\\\\\n",
    "    0 & 0 & 0 & 0 & 1\n",
    "\\end{bmatrix}\n",
    "$\n",
    "\n",
    "範例輸出如下\n",
    "```\n",
    "##### 第 0 列 #####\n",
    "第 0 行，元素 = 0\n",
    "第 1 行，元素 = 1\n",
    "##### 第 1 列 #####\n",
    "第 0 行，元素 = 0\n",
    "第 1 行，元素 = 0\n",
    "第 2 行，元素 = 4\n",
    "##### 第 2 列 #####\n",
    "第 0 行，元素 = 0\n",
    "第 1 行，元素 = 0\n",
    "第 2 行，元素 = 0\n",
    "第 3 行，元素 = 0\n",
    "第 4 行，元素 = 2\n",
    "```"
   ]
  },
  {
   "cell_type": "code",
   "execution_count": null,
   "metadata": {},
   "outputs": [],
   "source": [
    "# 首先定義該矩陣\n",
    "mat = [\n",
    "    [0, 1, 2, 4, 7],\n",
    "    [0, 0, 4, 3, 3],\n",
    "    [0, 0, 0, 0, 2]\n",
    "]"
   ]
  },
  {
   "cell_type": "code",
   "execution_count": null,
   "metadata": {},
   "outputs": [],
   "source": [
    "for i in range(3):\n",
    "    print(f'##### 第 {i} 列 #####')\n",
    "    for j in range(5):\n",
    "        # 取出元素值\n",
    "        ##### START CODE #####\n",
    "        pass\n",
    "        #####  End  CODE #####\n",
    "        \n",
    "        # 依序輸出該元素值及行列位置\n",
    "        ##### START CODE #####\n",
    "        pass\n",
    "        #####  End  CODE #####\n",
    "        \n",
    "        # 若該列找到第一個不為 0 的元素之後，後面的元素不需要再判斷，break 跳出該層迴圈，意即跳出該列\n",
    "        ##### START CODE #####\n",
    "        pass\n",
    "        #####  End  CODE #####"
   ]
  },
  {
   "cell_type": "markdown",
   "metadata": {},
   "source": [
    "[Back to loop introduction](#loop)\n",
    "\n",
    "---"
   ]
  },
  {
   "cell_type": "markdown",
   "metadata": {},
   "source": [
    "<a id='whileloop'></a>\n",
    "### While Loop\n",
    "需指定一判斷條件供迴圈判斷是否繼續執行，<font color='#ff7777'>最一開始必須滿足該條件，否則無法進入迴圈 block</font>，如下範例"
   ]
  },
  {
   "cell_type": "code",
   "execution_count": null,
   "metadata": {},
   "outputs": [],
   "source": [
    "# 從 0 開始搜集 3 或 5 的倍數，直到搜集 10 個為止\n",
    "# 首先定義搜集用的容器，這邊用 list，故先定義一空 list\n",
    "l = []\n",
    "# 因為沒有如 range 的迭代物可以一一給出數字，所以需要一個 index 使每一次回圈都可以給出數字，並在每次回圈都持續增加 1\n",
    "i = 0\n",
    "while len(l) != 10: # 若 list 內的個數不到 10 個就繼續搜集\n",
    "    if i % 3 == 0:\n",
    "        l.append(i)\n",
    "    elif i % 5 == 0:\n",
    "        l.append(i)\n",
    "    else:\n",
    "        i += 1\n",
    "        continue\n",
    "    print(f'新增 {i}，目前的 list = {l}')\n",
    "    i += 1"
   ]
  },
  {
   "cell_type": "markdown",
   "metadata": {},
   "source": [
    "> 上述範例中，若沒有<font color='#ff7777'> i += 1 </font>，則 `while` 下一次迴圈的 `i` 還會是同一個數字，又必然會是同一個結果\n",
    "> 若該結果對於停止條件沒有幫助，則會陷入<font color='#ff7777'> 無限迴圈 (infinite loop) </font>中，如下範例<br>\n",
    "> <font color='#77aaaa'> 電腦不好的請勿輕易嘗試，進入無限迴圈請按上方工具列停止鍵或按 ctrl + c</font>"
   ]
  },
  {
   "cell_type": "code",
   "execution_count": null,
   "metadata": {
    "scrolled": true
   },
   "outputs": [],
   "source": [
    "i = 0\n",
    "while i < 3: # 若 i 小於 10 就繼續\n",
    "    print(i)"
   ]
  },
  {
   "cell_type": "markdown",
   "metadata": {},
   "source": [
    "> 有了以上的迴圈及條件判斷之後，已經可以完成大部分的邏輯問題，下一堂課我們會介紹如何定義函數，屆時就已經具備可以完成超過 90% 的題目了！"
   ]
  },
  {
   "cell_type": "markdown",
   "metadata": {},
   "source": [
    "### Exercise 3-1\n",
    "設計說明\n",
    "```\n",
    "試設計一程式，讓使用者連續輸入一連串 0 ~ 100 的整數，若輸入 -1 則停止並計算其所有輸入的數字之\n",
    "1. 最小值\n",
    "2. 最大值\n",
    "3. 平均值\n",
    "```\n",
    "範例輸入\n",
    "```\n",
    "60\n",
    "70\n",
    "100\n",
    "80\n",
    "90\n",
    "```\n",
    "範例輸出\n",
    "```\n",
    "min = 60\n",
    "max = 100\n",
    "avg = 80.0\n",
    "```"
   ]
  },
  {
   "cell_type": "markdown",
   "metadata": {},
   "source": [
    "### Exercise 3-2\n",
    "設計說明\n",
    "```\n",
    "試定義如下的二維陣列（mxn 矩陣）\n",
    "```\n",
    "$\n",
    "A = [a_{ij}]_{mxn}\\quad \\text{where }  a_{ij} = i + j \\text{ and } 1 \\leq i \\leq m, 1 \\leq j \\leq n\n",
    "$<br>\n",
    "\n",
    "範例輸入\n",
    "```\n",
    "m = 3\n",
    "n = 4\n",
    "```\n",
    "範例輸出<br>\n",
    "\n",
    "$\n",
    "\\begin{bmatrix}\n",
    "    2 & 3 & 4 & 5\\\\\n",
    "    3 & 4 & 5 & 6\\\\\n",
    "    4 & 5 & 6 & 7\n",
    "\\end{bmatrix}\n",
    "$"
   ]
  },
  {
   "cell_type": "markdown",
   "metadata": {},
   "source": [
    "### Exercise 3-3\n",
    "設計說明\n",
    "```\n",
    "試計算如下兩矩陣的乘積\n",
    "```\n",
    "$\n",
    "\\begin{bmatrix}\n",
    "    4 & 9 & 2\\\\\n",
    "    3 & 5 & 7\\\\\n",
    "    8 & 1 & 6\n",
    "\\end{bmatrix}\n",
    "$\n",
    "$\n",
    "\\begin{bmatrix}\n",
    "    1 & 2 & 0\\\\\n",
    "    0 & 2 & 1\\\\\n",
    "    1 & 3 & 2\n",
    "\\end{bmatrix}\n",
    "$<br>\n",
    "<br>\n",
    "範例輸入\n",
    "```\n",
    "無\n",
    "```\n",
    "範例輸出<br>\n",
    "\n",
    "$\n",
    "\\begin{bmatrix}\n",
    "    6 & 32 & 13\\\\\n",
    "    10 & 37 & 19\\\\\n",
    "    14 & 36 & 13\n",
    "\\end{bmatrix}\n",
    "$"
   ]
  },
  {
   "cell_type": "markdown",
   "metadata": {},
   "source": [
    "### Exercise 3-4\n",
    "設計說明\n",
    "```python\n",
    "試撰寫一「終極密碼」的小遊戲，其謎底的數字介於 1 ~ 99，並且由程式自己隨機產生\n",
    "每次由使用者輸入一數字，並由程式判定是否猜對謎底並給予對應提示\n",
    "\n",
    "[Hint] \n",
    "隨機產生謎底需要用到以下程式，其中關於 import 的詳細說明可參考 \"Lecture_5.ipynb\"\n",
    "import random\n",
    "answer = random.randint(1, 99)\n",
    "```\n",
    "範例輸入\n",
    "```\n",
    "無\n",
    "```\n",
    "範例輸出（假設謎底為 35）\n",
    "```\n",
    "遊戲開始，請輸入一個數字(0 ~ 100):   # 程式輸出\n",
    "50                               # 使用者輸入\n",
    "超過了！請輸入一個數字(0 ~ 50):      # 程式輸出\n",
    "25                               # 使用者輸入\n",
    "太低了！請輸入一個數字(25 ~ 50):     # 程式輸出\n",
    "35                               # 使用者輸入\n",
    "答對了！謎底是 35！                 # 程式輸出\n",
    "```"
   ]
  },
  {
   "cell_type": "code",
   "execution_count": null,
   "metadata": {},
   "outputs": [],
   "source": []
  }
 ],
 "metadata": {
  "kernelspec": {
   "display_name": "Python 3 (ipykernel)",
   "language": "python",
   "name": "python3"
  },
  "language_info": {
   "codemirror_mode": {
    "name": "ipython",
    "version": 3
   },
   "file_extension": ".py",
   "mimetype": "text/x-python",
   "name": "python",
   "nbconvert_exporter": "python",
   "pygments_lexer": "ipython3",
   "version": "3.10.6"
  }
 },
 "nbformat": 4,
 "nbformat_minor": 4
}
