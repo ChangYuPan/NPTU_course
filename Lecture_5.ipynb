{
 "cells": [
  {
   "cell_type": "markdown",
   "id": "0905897a",
   "metadata": {},
   "source": [
    "<a id='top'></a>\n",
    "<font color='#77aaaa' size=40> Module (模組) & Package (套件) </font>"
   ]
  },
  {
   "cell_type": "markdown",
   "id": "f5714b66",
   "metadata": {},
   "source": [
    "<a id='module'></a>\n",
    "### Module (模組)\n",
    "<font color='#ff7777' face='monospace'>Q: 什麼是 Module（What）?</font><br>\n",
    "<font face='monospace'>\n",
    "    A: <br>\n",
    "    模組是指包含 Python 定義和語句的檔案，檔案名稱是模組名稱加上 `.py`。在模組中，模組的名稱（作為字串）會是全域變數 `__name__` 的值。\n",
    "</font><br>\n",
    "<font face='monospace' size=2>(取自[Python documentation](https://docs.python.org/zh-tw/3/tutorial/modules.html))</font><br>\n",
    "\n",
    "<font color='#ff7777' face='monospace'>Q: 為什麼需要 Module（Why）?</font><br>\n",
    "<font face='monospace'>\n",
    "    A: <br>\n",
    "    如果從 Python 直譯器離開後又再次進入，之前（幫函式或變數）做的定義都會消失。因此，想要寫一些比較長的程式時，你最好使用編輯器來準備要輸入給直譯器的內容，並且用該檔案來運行它。這就是一個腳本 (script)。隨著你的程式越變越長，你可能會想要把它分開成幾個檔案，讓它比較好維護。你可能也會想用一個你之前已經在其他程式寫好的函式，但不想要複製該函式的原始定義到所有使用它的程式裡。\n",
    "</font><br>\n",
    "<font face='monospace' size=2>(取自[Python documentation](https://docs.python.org/zh-tw/3/tutorial/modules.html))</font><br>\n",
    "\n",
    "<font color='#ff7777' face='monospace'>Q: 什麼時候需要 Module（When）?</font><br>\n",
    "<font face='monospace'>\n",
    "    A:<br>\n",
    "    當你定義了多個需<font color='#77aaaa'>「重複使用」</font>的函數時，就可以把它儲存成一個 `modele`，並在其他檔案內呼叫他\n",
    "</font><br>"
   ]
  },
  {
   "cell_type": "markdown",
   "id": "f4117bfb",
   "metadata": {},
   "source": [
    "<a id='package'></a>\n",
    "### Package (套件)\n",
    "<font color='#ff7777' face='monospace'>Q: 什麼是 Package（What）?</font><br>\n",
    "<font face='monospace'>\n",
    "    A: <br>\n",
    "    套件是一種使用「點分隔模組名稱」組織 Python 模組命名空間的方法。例如，模組名稱 `A.B` 表示套件 `A` 中名為 `B` 的子模組。正如模組使用時，不同模組的作者不需擔心與其他模組的全域變數名稱重複，點分隔模組名稱的使用，也讓多模組套件（像 `NumPy` 或 `Pillow`）的作者們不須擔心其他套件的模組名稱。\n",
    "</font><br>\n",
    "<font face='monospace' size=2>(取自[Python documentation](https://docs.python.org/zh-tw/3/tutorial/modules.html#packages))</font><br>\n",
    "\n",
    "<font color='#ff7777' face='monospace'>Q: 為什麼需要 Package（Why）?</font><br>\n",
    "<font face='monospace'>\n",
    "    A: <br>\n",
    "    同 `Module`\n",
    "</font><br>\n",
    "\n",
    "<font color='#ff7777' face='monospace'>Q: 什麼時候需要 Package（When）?</font><br>\n",
    "<font face='monospace'>\n",
    "    A:<br>\n",
    "    同 `Module`\n",
    "</font><br>"
   ]
  },
  {
   "cell_type": "markdown",
   "id": "22abb2e7",
   "metadata": {},
   "source": []
  },
  {
   "cell_type": "code",
   "execution_count": null,
   "id": "8dd14181",
   "metadata": {},
   "outputs": [],
   "source": []
  },
  {
   "cell_type": "code",
   "execution_count": null,
   "id": "592a251d",
   "metadata": {},
   "outputs": [],
   "source": []
  },
  {
   "cell_type": "code",
   "execution_count": null,
   "id": "91d391c7",
   "metadata": {},
   "outputs": [],
   "source": []
  },
  {
   "cell_type": "code",
   "execution_count": null,
   "id": "10d4b788",
   "metadata": {},
   "outputs": [],
   "source": []
  },
  {
   "cell_type": "markdown",
   "id": "4305e6ff",
   "metadata": {},
   "source": [
    "1. Module\n",
    "2. Package\n",
    "    1. build-in package\n",
    "    2. site-package (Installed in the system default path)\n",
    "    3. self-defined package (on the local path)\n",
    "3. How to import package"
   ]
  },
  {
   "cell_type": "code",
   "execution_count": null,
   "id": "912799f1",
   "metadata": {},
   "outputs": [],
   "source": []
  }
 ],
 "metadata": {
  "kernelspec": {
   "display_name": "Python 3 (ipykernel)",
   "language": "python",
   "name": "python3"
  },
  "language_info": {
   "codemirror_mode": {
    "name": "ipython",
    "version": 3
   },
   "file_extension": ".py",
   "mimetype": "text/x-python",
   "name": "python",
   "nbconvert_exporter": "python",
   "pygments_lexer": "ipython3",
   "version": "3.10.6"
  }
 },
 "nbformat": 4,
 "nbformat_minor": 5
}
