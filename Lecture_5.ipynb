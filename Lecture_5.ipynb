{
 "cells": [
  {
   "cell_type": "markdown",
   "id": "0905897a",
   "metadata": {},
   "source": [
    "<a id='top'></a>\n",
    "<font color='#77aaaa' size=40> Module (模組) & Package (套件) </font>"
   ]
  },
  {
   "cell_type": "markdown",
   "id": "f5714b66",
   "metadata": {},
   "source": [
    "<a id='module'></a>\n",
    "### Module (模組)\n",
    "<font color='#ff7777' face='monospace'>Q: 什麼是 Module（What）?</font><br>\n",
    "<font face='monospace'>\n",
    "    A: <br>\n",
    "    模組是指包含 Python 定義和語句的檔案，檔案名稱是模組名稱加上 `.py`。在模組中，模組的名稱（作為字串）會是全域變數 `__name__` 的值。\n",
    "</font><br>\n",
    "<font face='monospace' size=2>(取自[Python documentation](https://docs.python.org/zh-tw/3/tutorial/modules.html))</font><br>\n",
    "\n",
    "<font color='#ff7777' face='monospace'>Q: 為什麼需要 Module（Why）?</font><br>\n",
    "<font face='monospace'>\n",
    "    A: <br>\n",
    "    如果從 Python 直譯器離開後又再次進入，之前（幫函式或變數）做的定義都會消失。因此，想要寫一些比較長的程式時，你最好使用編輯器來準備要輸入給直譯器的內容，並且用該檔案來運行它。這就是一個腳本 (script)。隨著你的程式越變越長，你可能會想要把它分開成幾個檔案，讓它比較好維護。你可能也會想用一個你之前已經在其他程式寫好的函式，但不想要複製該函式的原始定義到所有使用它的程式裡。\n",
    "</font><br>\n",
    "<font face='monospace' size=2>(取自[Python documentation](https://docs.python.org/zh-tw/3/tutorial/modules.html))</font><br>\n",
    "\n",
    "<font color='#ff7777' face='monospace'>Q: 什麼時候需要 Module（When）?</font><br>\n",
    "<font face='monospace'>\n",
    "    A:<br>\n",
    "    當你定義了多個需<font color='#77aaaa'>「重複使用」</font>的函數時，就可以把它儲存成一個 `modele`，並在其他檔案內呼叫他\n",
    "</font><br>"
   ]
  },
  {
   "cell_type": "markdown",
   "id": "f4117bfb",
   "metadata": {},
   "source": [
    "<a id='package'></a>\n",
    "### Package (套件)\n",
    "<font color='#ff7777' face='monospace'>Q: 什麼是 Package（What）?</font><br>\n",
    "<font face='monospace'>\n",
    "    A: <br>\n",
    "    套件是一種使用「點分隔模組名稱」組織 Python 模組命名空間的方法。例如，模組名稱 `A.B` 表示套件 `A` 中名為 `B` 的子模組。正如模組使用時，不同模組的作者不需擔心與其他模組的全域變數名稱重複，點分隔模組名稱的使用，也讓多模組套件（像 `NumPy` 或 `Pillow`）的作者們不須擔心其他套件的模組名稱。\n",
    "</font><br>\n",
    "<font face='monospace' size=2>(取自[Python documentation](https://docs.python.org/zh-tw/3/tutorial/modules.html#packages))</font><br>\n",
    "\n",
    "<font color='#ff7777' face='monospace'>Q: 為什麼需要 Package（Why）?</font><br>\n",
    "<font face='monospace'>\n",
    "    A: <br>\n",
    "    同 `Module`\n",
    "</font><br>\n",
    "\n",
    "<font color='#ff7777' face='monospace'>Q: 什麼時候需要 Package（When）?</font><br>\n",
    "<font face='monospace'>\n",
    "    A:<br>\n",
    "    同 `Module`\n",
    "</font><br>"
   ]
  },
  {
   "cell_type": "markdown",
   "id": "ce3f3f95",
   "metadata": {},
   "source": [
    "---"
   ]
  },
  {
   "cell_type": "markdown",
   "id": "3b2d74a0",
   "metadata": {},
   "source": [
    "通常 package 的檔案放置架構如下\n",
    "```\n",
    "mathtool/\n",
    "    matrix.py\n",
    "    calculate.py\n",
    "    ...\n",
    "```\n",
    "其中每一個 module 裡面可能會有定義函數、變數、甚至其他物件等等，舉例來說 `calculate.py` 的檔案內容如下\n",
    "```python\n",
    "PI = 3.1415926\n",
    "\n",
    "def add(x, y):\n",
    "    return x + y\n",
    "\n",
    "def mul(x, y):\n",
    "    return x * y\n",
    "```\n",
    "引用該模組時，我們便可以在該程式中調用他們。而引用套件的方式有很多種，以下我們一一介紹"
   ]
  },
  {
   "cell_type": "markdown",
   "id": "59870fd4",
   "metadata": {},
   "source": [
    "---"
   ]
  },
  {
   "cell_type": "markdown",
   "id": "4613859a",
   "metadata": {},
   "source": [
    "1. 直接 import 該 package，並且可以為這個 package 取一個暱稱 (也可不取)，基本語法如下\n",
    "\n",
    "```python\n",
    "import package (as nickname)\n",
    "```"
   ]
  },
  {
   "cell_type": "code",
   "execution_count": null,
   "id": "711725bf",
   "metadata": {},
   "outputs": [],
   "source": [
    "import mathtool as mt"
   ]
  },
  {
   "cell_type": "markdown",
   "id": "37320434",
   "metadata": {},
   "source": [
    "此時你可以利用之前提到的「點分隔模組名稱」的方式來使用該套件內的模組或方法，基本語法如下\n",
    "```python\n",
    "package.module.method\n",
    "```\n",
    "例如我們要使用 `calculate` 內的 `add` 方法"
   ]
  },
  {
   "cell_type": "code",
   "execution_count": null,
   "id": "41f190fa",
   "metadata": {},
   "outputs": [],
   "source": [
    "mt.calculate.add(x=3, y=5)"
   ]
  },
  {
   "cell_type": "markdown",
   "id": "641d409f",
   "metadata": {},
   "source": [
    "2. 如果覺得每次使用都要打套件名稱覺得很麻煩，也可以使用以下的方式 import 該 package 內的所有 module (使用 `*`)，或單一 module\n",
    "以這種方式 import 進來，便可以直接使用該函數/模組的名稱，而不用在最前面加上 package 名稱\n",
    "\n",
    "```python\n",
    "from package import *\n",
    "from package import module (as nickname)\n",
    "import package.module (as nickname) # 此方式若沒有取暱稱，則還是必須要打 package.module 才可以使用\n",
    "```"
   ]
  },
  {
   "cell_type": "markdown",
   "id": "bf011af6",
   "metadata": {},
   "source": [
    "舉例來說，我們可以直接把 `mathtool` 內的 `calculate` import 進來，並調用 `calculate` 內的函數"
   ]
  },
  {
   "cell_type": "code",
   "execution_count": null,
   "id": "6b2031e5",
   "metadata": {},
   "outputs": [],
   "source": [
    "from mathtool import calculate"
   ]
  },
  {
   "cell_type": "code",
   "execution_count": null,
   "id": "f3759338",
   "metadata": {},
   "outputs": [],
   "source": [
    "calculate.add(3, 5)"
   ]
  },
  {
   "cell_type": "markdown",
   "id": "856336c0",
   "metadata": {},
   "source": [
    "或是我們可以 import `calculate` 內的所有物件 (`add`, `mul`, `PI`)"
   ]
  },
  {
   "cell_type": "code",
   "execution_count": null,
   "id": "ed5c7fec",
   "metadata": {},
   "outputs": [],
   "source": [
    "from mathtool.calculate import *"
   ]
  },
  {
   "cell_type": "code",
   "execution_count": null,
   "id": "c547d6dc",
   "metadata": {},
   "outputs": [],
   "source": [
    "mul(x=PI, y=PI)"
   ]
  },
  {
   "cell_type": "markdown",
   "id": "389a0133",
   "metadata": {},
   "source": [
    "> 使用此方法時請小心，有可能會導致 module 或是 method 重複"
   ]
  },
  {
   "cell_type": "markdown",
   "id": "1eeb634b",
   "metadata": {},
   "source": [
    "---"
   ]
  },
  {
   "cell_type": "markdown",
   "id": "093d4c41",
   "metadata": {},
   "source": [
    "### Package 的種類\n",
    "Package 大致上可以分為以下 3 類:\n",
    "1. `Build-in package`: Python 內建的套件，不需要額外安裝即可使用，<font color='#77aaaa'>於任何位置的均可調用</font>\n",
    "2. `Site-package`: 第三方套件，須額外安裝，<font color='#77aaaa'>於任何位置的均可調用</font>，詳情見[install packages](#install_packages)\n",
    "3. `Self-defined package`: 自定義的套件 / 模組，<font color='#ff7777'>一般情況下，需在同樣目錄下才可以調用</font>"
   ]
  },
  {
   "cell_type": "markdown",
   "id": "b90bd152",
   "metadata": {},
   "source": [
    "<a id='install_packages'></a>\n",
    "### Install Packages\n",
    "通常我們會用一個名為 `pip` 的套件來幫助我們安裝、升級、移除、管理所有的 package，此 package 預設在你安裝 python 時就會被安裝上\n",
    "\n",
    "基本語法如下，你必須<font color='#ff7777'>在你的終端機 (Anaconda Prompt / Terminal) 執行這一段指令</font>而不是在 jupyter notebook 上執行\n",
    "```bash\n",
    "python -m pip install SomePackage\n",
    "pip install SomePackage\n",
    "```\n",
    "在執行這一段命令之後，python 會自動索引該 package 並未你安裝最新版的套件及其依賴套件（dependencies / requires）\n",
    "\n",
    "且需要有網路連線，否則 pip install 會顯示 Error\n",
    "\n",
    "你也可以在 [PyPI](https://pypi.org) 這個網站找尋你喜歡的 package 並下載\n",
    "\n",
    "> <font color='#44aa44'>在本章節我們不會用到第三方的套件，所以這邊不會詳細說明</font>"
   ]
  },
  {
   "cell_type": "markdown",
   "id": "6351d1fb",
   "metadata": {},
   "source": [
    "---"
   ]
  },
  {
   "cell_type": "markdown",
   "id": "5075e8dd",
   "metadata": {},
   "source": [
    "<a id='buildin_home'></a>\n",
    "### Build-in Packages (標準函式庫)\n",
    "Python 內建許多好用的函式庫，可以幫你完成常見的一些操作，以下我們會分幾個分類來介紹\n",
    "1. 檔案及系統操作 ([os](#pkg_os), [shutil](#pkg_shutil), [glob](#pkg_glob))\n",
    "2. 數學相關 ([math](#pkg_math), [random](#pkg_random), [statistics](#pkg_statistics))\n",
    "3. 時間相關 ([time](#pkg_time), [datetime](#pkg_datetime))\n",
    "4. 其他我覺得好用的 ([itertools](#pkg_itertools), [OrderedDict](#pkg_OrderedDict))"
   ]
  },
  {
   "cell_type": "markdown",
   "id": "2246ebc8",
   "metadata": {},
   "source": [
    "### 檔案及系統操作"
   ]
  },
  {
   "cell_type": "markdown",
   "id": "4c204016",
   "metadata": {},
   "source": [
    "<a id='pkg_os'></a>\n",
    "### os <font size=2>[back to package list](#buildin_home)</font>\n",
    "`os` 顧名思義是跟系統操作面有關，常用來做一些索引檔案的操作\n",
    "```python\n",
    "import os\n",
    "```\n",
    "> 不建議使用 `from os import *`，非常容易有函數名稱重複的問題，建議要用哪一個就 import 哪一個，否則就 import 整個 `os`\n",
    "\n",
    "\n",
    "1. <font face='monospace'>os.<font color='ffaa00'>__listdir__</font>(path=<font color='44aa44'>None</font>)</font>\n",
    "    - 列出 `path` 下的所有檔案及目錄\n",
    "    - `path`預設為 `None`，會列出當前執行目錄下的檔案及目錄\n",
    "    \n",
    "1. <font face='monospace'>os.<font color='ffaa00'>__makedirs__</font>(name, exist_ok=<font color='44aa44'>False</font>)</font>\n",
    "    - 刪除一個名為 `name` 的檔案，可使用<font color='77aaaa'>相對路徑</font>或<font color='77aaaa'>絕對路徑</font>\n",
    "    - `exist_ok` 預設為 `False`，意即若該資料夾已存在則會導致 Error，若希望資料夾已存在的情況下不重複建立，則將該引數設為 `True`\n",
    "    \n",
    "1. <font face='monospace'>os.<font color='ffaa00'>__remove__</font>(path)</font>\n",
    "    - 建立一個名為 `name` 的資料夾，可使用<font color='77aaaa'>相對路徑</font>或<font color='77aaaa'>絕對路徑</font>\n",
    "    - 只能刪除檔案，不可刪除資料夾\n",
    "    \n",
    "1. <font face='monospace'>os.<font color='77aaaa'>__path__</font>.<font color='ffaa00'>__isdir__</font>(s)</font>\n",
    "    - 檢查一個路徑是否為一個<font color='ff7777'>__已存在的目錄__</font>，是回傳 `True`，否則回傳 `False`\n",
    "    - 可使用<font color='77aaaa'>相對路徑</font>或<font color='77aaaa'>絕對路徑</font>\n",
    "    \n",
    "1. <font face='monospace'>os.<font color='77aaaa'>__path__</font>.<font color='ffaa00'>__isfile__</font>(path)</font>\n",
    "    - 檢查一個路徑是否為一個<font color='ff7777'>__已存在的檔案__</font>，是回傳 `True`，否則回傳 `False`\n",
    "    - 可使用<font color='77aaaa'>相對路徑</font>或<font color='77aaaa'>絕對路徑</font>\n",
    "    \n",
    "1. <font face='monospace'>os.<font color='77aaaa'>__path__</font>.<font color='ffaa00'>__join__</font>(a, *p)</font>\n",
    "    - 連接兩個或以上的部分路徑，每個 component 之間會以該作業系統的分隔符連接 (Windows: `\\`, MacOS: `/`)\n",
    "    > 當然你也可以直接用字串連接，但要小心不同作業系統的分隔符不同，可能導致錯誤\n",
    "    \n",
    "1. <font face='monospace'>os.<font color='77aaaa'>__path__</font>.<font color='ffaa00'>__basename__</font>(p)</font>\n",
    "    - 取出路徑的最後一個 component，例如輸入的路徑是一個檔案的絕對路徑，則只會取出最後的檔名部分\n",
    "    - 若輸入的是一個目錄的路徑，要小心若該路徑是以分隔符做結尾，則會取出空字串\n",
    "    \n",
    "1. <font face='monospace'>os.<font color='77aaaa'>__path__</font>.<font color='ffaa00'>__dirname__</font>(p)</font>\n",
    "    - 取出路徑所在的目錄位置，例如輸入的路徑是一個檔案的絕對路徑，則只會取出該檔案放置的目錄\n",
    "    \n",
    "1. <font face='monospace'>os.<font color='77aaaa'>__path__</font>.<font color='ffaa00'>__splitext__</font>(p)</font>\n",
    "    - 切分一個路徑的副檔名，回傳值為一個 `tuple`，分別為路徑的 `(副檔名以外的 component, 副檔名)`\n",
    "    - 通常可以搭配 `basename` 取出一個絕對路徑檔案的檔名及副檔名"
   ]
  },
  {
   "cell_type": "code",
   "execution_count": null,
   "id": "a2933166",
   "metadata": {},
   "outputs": [],
   "source": [
    "import os\n",
    "##### START Parctice #####\n",
    "pass\n",
    "#####  End  Parctice #####"
   ]
  },
  {
   "cell_type": "markdown",
   "id": "e09e59a6",
   "metadata": {},
   "source": [
    "<a id='pkg_shutil'></a>\n",
    "### shutil <font size=2>[back to package list](#buildin_home)</font>\n",
    "`shutil` 算是更進階的檔案操做，主要常用到他的 `複製` 及 `刪除`\n",
    "```python\n",
    "import shutil\n",
    "```\n",
    "> 不建議使用 `from shutil import *`，非常容易有函數名稱重複的問題，建議要用哪一個就 import 哪一個，否則就 import 整個 `shutil`\n",
    "\n",
    "\n",
    "1. <font face='monospace'>shutil.<font color='ffaa00'>__copy__</font>(src, dst)</font>\n",
    "    - 複製 `src` 到 `dst`，若 `dst` 是一個目錄，則會把該文件以同樣檔名複製到該目錄下，若 `dst` 是一個檔案，則會儲存為 `dst` 所指定的檔名\n",
    "    \n",
    "1. <font face='monospace'>shutil.<font color='ffaa00'>__copy2__</font>(src, dst)</font>\n",
    "    - 同 `shutil.copy`，但會連同 `metadata` 一同複製\n",
    "    \n",
    "1. <font face='monospace'>shutil.<font color='ffaa00'>__copytree__</font>(src, dst, copy_function=<font color='44aa44'>copy2</font>)</font>\n",
    "    - 複製 `src` 下的所有檔案及目錄到 `dst`，預設使用的 `copy_function` 為 `copy2`\n",
    "    \n",
    "1. <font face='monospace'>shutil.<font color='ffaa00'>__rmtree__</font>(path)</font>\n",
    "    - 刪除整個 `path` 目錄及其子目錄，無論裡面是否還存有檔案皆會刪除"
   ]
  },
  {
   "cell_type": "code",
   "execution_count": null,
   "id": "c6f2ba64",
   "metadata": {},
   "outputs": [],
   "source": [
    "import shutil\n",
    "##### START Parctice #####\n",
    "pass\n",
    "#####  End  Parctice #####"
   ]
  },
  {
   "cell_type": "markdown",
   "id": "eafbbdee",
   "metadata": {},
   "source": [
    "<a id='pkg_glob'></a>\n",
    "### glob <font size=2>[back to package list](#buildin_home)</font>\n",
    "`glob` 提供一個可使用萬用字元(`*`)來索引檔案的方式\n",
    "```python\n",
    "import glob\n",
    "```\n",
    "\n",
    "1. <font face='monospace'>glob.<font color='ffaa00'>__glob__</font>(pathname)</font>\n",
    "    - 跟 `os.listdir` 一樣可以列出該 `pathname` 底下的所有檔案，但支援萬用字元的表示法\n",
    "    - 舉例來說：`glob.glob('myData/*.txt')`，則只會列出以 `.txt` 結尾的檔案\n",
    "    - 與 `os.listdir` 不同的是，`os.listdir` 只會秀出目錄下的檔名，但 `glob.glob` 會連同 `pathname` 都一並加上"
   ]
  },
  {
   "cell_type": "code",
   "execution_count": null,
   "id": "8727a408",
   "metadata": {},
   "outputs": [],
   "source": [
    "import glob\n",
    "##### START Parctice #####\n",
    "pass\n",
    "#####  End  Parctice #####"
   ]
  },
  {
   "cell_type": "markdown",
   "id": "758e86d2",
   "metadata": {},
   "source": [
    "### 數學相關"
   ]
  },
  {
   "cell_type": "markdown",
   "id": "f4f489b9",
   "metadata": {},
   "source": [
    "<a id='pkg_math'></a>\n",
    "### math <font size=2>[back to package list](#buildin_home)</font>\n",
    "`math` 顧名思義提供幾乎你想得到數學函數、數學常數及許多數學操作，包含常見的指數函數、對數函數、三角函數等等應有盡有，所有你想得到的想不到的幾乎都有，以下我們介紹幾個比較常使用或是比較特別的\n",
    "```python\n",
    "import math\n",
    "```\n",
    "1. <font face='monospace'>math.<font color='ffaa00'>__ceil__</font>(x)</font>\n",
    "    - 回傳 $x$ 的無條件進位\n",
    "    - 無條件捨去用 <font face='monospace'>math.<font color='ffaa00'>__floor__</font>(x)</font>\n",
    "    \n",
    "1. <font face='monospace'>math.<font color='ffaa00'>__comb__</font>(n, k)</font>\n",
    "    - 回傳 $C^{n}_{k}$\n",
    "\n",
    "1. <font face='monospace'>math.<font color='ffaa00'>__pi__</font></font>\n",
    "    - 並不是一個函數，而是一個常數，回傳常數 $\\pi$ 至小數點後好多位\n",
    "    \n",
    "1. <font face='monospace'>math.<font color='ffaa00'>__e__</font></font>\n",
    "    - 並不是一個函數，而是一個常數，回傳常數 $e$ 至小數點後好多位\n",
    "    \n",
    "1. <font face='monospace'>math.<font color='ffaa00'>__sin__</font>(x)</font>\n",
    "    - 回傳 $\\sin x$，其中輸入的 `x` 必須是弧度量\n",
    "    \n",
    "1. <font face='monospace'>math.<font color='ffaa00'>__asin__</font>(x)</font>\n",
    "    - 回傳 $\\arcsin x$，其回傳值以弧度量表示\n",
    "    \n",
    "1. <font face='monospace'>math.<font color='ffaa00'>__exp__</font>(x)</font>\n",
    "    - 回傳 $e^{x}$\n",
    "    \n",
    "1. <font face='monospace'>math.<font color='ffaa00'>__log__</font>(x)</font>\n",
    "    - 回傳 $\\ln x$\n",
    "    \n",
    "1. <font face='monospace'>math.<font color='ffaa00'>__log2__</font>(x)</font>\n",
    "    - 回傳 $\\log_{2} x$\n",
    "    \n",
    "1. <font face='monospace'>math.<font color='ffaa00'>__log10__</font>(x)</font>\n",
    "    - 回傳 $\\log_{10} x$\n",
    "    \n",
    "1. <font face='monospace'>math.<font color='ffaa00'>__radians__</font>(x)</font>\n",
    "    - 輸入的 `x` 須為角度量，回傳 `x` 的弧度量\n",
    "    - 反之則用 <font face='monospace'>math.<font color='ffaa00'>__degrees__</font>(x)</font>\n",
    "    \n",
    "1. <font face='monospace'>math.<font color='ffaa00'>__gcd__</font>(*integers)</font>\n",
    "    - 回傳數入之任意數量整數的最大公因數\n",
    "    - 最小公倍數則用 <font face='monospace'>math.<font color='ffaa00'>__lcm__</font></font>\n",
    "    \n",
    "1. <font face='monospace'>math.<font color='ffaa00'>__inf__</font></font>\n",
    "    - 表無窮大，不是一個函數"
   ]
  },
  {
   "cell_type": "code",
   "execution_count": null,
   "id": "878a2ab7",
   "metadata": {},
   "outputs": [],
   "source": [
    "import math\n",
    "##### START Parctice #####\n",
    "pass\n",
    "#####  End  Parctice #####"
   ]
  },
  {
   "cell_type": "markdown",
   "id": "46fc1088",
   "metadata": {},
   "source": [
    "試定義函數 `loga`，其 `input` 為 (`a`, `x`)，`output` 為 $\\log_{a} x$"
   ]
  },
  {
   "cell_type": "code",
   "execution_count": null,
   "id": "837eea47",
   "metadata": {},
   "outputs": [],
   "source": [
    "##### START CODE #####\n",
    "pass\n",
    "#####  End  CODE #####"
   ]
  },
  {
   "cell_type": "markdown",
   "id": "0e94ad10",
   "metadata": {},
   "source": [
    "<a id='pkg_random'></a>\n",
    "### random <font size=2>[back to package list](#buildin_home)</font>\n",
    "`random` 顧名思義提供各種隨機的函數\n",
    "```python\n",
    "import random\n",
    "```\n",
    "\n",
    "1. <font face='monospace'>random.<font color='ffaa00'>__seed__</font>(a)</font>\n",
    "    - 初始化隨機種子碼。對於相同的種子碼，在每次隨機時會以相同的情況及順序依序被隨機出來\n",
    "    \n",
    "1. <font face='monospace'>random.<font color='ffaa00'>__randrange__</font>(start, stop=<font color='44aa44'>None</font>, step=<font color='44aa44'>1</font>)</font>\n",
    "    - 從指定的範圍內隨機回傳一個值，其指定範圍同 `range(start, stop, step)`\n",
    "    \n",
    "1. <font face='monospace'>random.<font color='ffaa00'>__randint__</font>(a, b)</font>\n",
    "    - 從指定的範圍內隨機回傳一個值，其指定範圍為 $a \\leq x \\leq b$，相當於使用 `randrange(a, b+1)`\n",
    "    \n",
    "1. <font face='monospace'>random.<font color='ffaa00'>__choice__</font>(seq)</font>\n",
    "    - 從指定的序列隨機回傳其中一個值\n",
    "    \n",
    "1. <font face='monospace'>random.<font color='ffaa00'>__choices__</font>(population, weights=<font color='44aa44'>None</font>, cum_weights=<font color='44aa44'>None</font>, k=<font color='44aa44'>1</font>)</font>\n",
    "    - 從指定的序列中<font color='ff7777'>「可重複的」</font>隨機取 `k` 個值\n",
    "    - `weights` 及 `cum_weights` 引數可以為該隨機值賦予權重\n",
    "    \n",
    "1. <font face='monospace'>random.<font color='ffaa00'>__sample__</font>(population, k, counts=<font color='44aa44'>None</font>)</font>\n",
    "    - 從指定的序列中<font color='ff7777'>「不可重複的」</font>隨機取 `k` 個值\n",
    "    - `counts` 引數可為序列指定重複的次數\n",
    "    \n",
    "1. <font face='monospace'>random.<font color='ffaa00'>__random__</font>()</font>\n",
    "    - 以均勻分配隨機回傳一個 [0, 1] 之間的浮點數\n",
    "    \n",
    "1. <font face='monospace'>random.<font color='ffaa00'>__gauss__</font>(mu, sigma)</font>\n",
    "    - 以高斯分配 $\\mathcal{N}(\\mu, \\sigma^2)$ 隨機回傳一個浮點數"
   ]
  },
  {
   "cell_type": "code",
   "execution_count": null,
   "id": "56c7a236",
   "metadata": {},
   "outputs": [],
   "source": [
    "# example of random seed\n",
    "random.seed(42)\n",
    "for _ in range(5):\n",
    "    print(random.random())"
   ]
  },
  {
   "cell_type": "code",
   "execution_count": null,
   "id": "eacbfa08",
   "metadata": {},
   "outputs": [],
   "source": [
    "# example of random sample with `counts`\n",
    "init_pokemon = ['傑尼龜', '小火龍', '妙蛙種子']\n",
    "random.sample(init_pokemon, k=3, counts=[5, 5, 1])"
   ]
  },
  {
   "cell_type": "code",
   "execution_count": null,
   "id": "d71ad2cb",
   "metadata": {},
   "outputs": [],
   "source": [
    "import random\n",
    "##### START Parctice #####\n",
    "pass\n",
    "#####  End  Parctice #####"
   ]
  },
  {
   "cell_type": "markdown",
   "id": "df76d74d",
   "metadata": {},
   "source": [
    "<a id='pkg_statistics'></a>\n",
    "### statistics <font size=2>[back to package list](#buildin_home)</font>\n",
    "`statistics` 提供許多常見的計算統計量的函數\n",
    "```python\n",
    "import statistics\n",
    "```\n",
    "\n",
    "1. <font face='monospace'>statistics.<font color='ffaa00'>__mean__</font>(data)</font>\n",
    "    - 回傳算術平均數\n",
    "    \n",
    "1. <font face='monospace'>statistics.<font color='ffaa00'>__median__</font>(data)</font>\n",
    "    - 回傳中位數\n",
    "    \n",
    "1. <font face='monospace'>statistics.<font color='ffaa00'>__mode__</font>(data)</font>\n",
    "    - 回傳眾數\n",
    "    \n",
    "1. <font face='monospace'>statistics.<font color='ffaa00'>__pstdev__</font>(data, mu=<font color='44aa44'>None</font>)</font>\n",
    "    - 回傳母體標準差\n",
    "    \n",
    "1. <font face='monospace'>statistics.<font color='ffaa00'>__stdev__</font>(data, xbar=<font color='44aa44'>None</font>)</font>\n",
    "    - 回傳樣本標準差"
   ]
  },
  {
   "cell_type": "code",
   "execution_count": null,
   "id": "8f418322",
   "metadata": {},
   "outputs": [],
   "source": [
    "import statistics\n",
    "##### START Parctice #####\n",
    "pass\n",
    "#####  End  Parctice #####"
   ]
  },
  {
   "cell_type": "markdown",
   "id": "43c11d7c",
   "metadata": {},
   "source": [
    "### 時間相關"
   ]
  },
  {
   "cell_type": "markdown",
   "id": "84090b0f",
   "metadata": {},
   "source": [
    "<a id='pkg_time'></a>\n",
    "### time <font size=2>[back to package list](#buildin_home)</font>\n",
    "`time` 提供許多時間相關的函數，包含顯示、計算等\n",
    "```python\n",
    "import time\n",
    "```\n",
    "\n",
    "1. <font face='monospace'>time.<font color='ffaa00'>__time__</font>(args)</font>\n",
    "    - 這個函數各位之前看過，用來記錄時間，會回傳當下的一個時間點\n",
    "    - 實際上是回傳從 `1970/1/1 00:00:00` 至今的秒數\n",
    "    - 可以配合兩個不同時間點的紀錄來計算時間差（單位：秒）\n",
    "    \n",
    "2. <font face='monospace'>time.<font color='ffaa00'>__ctime__</font>(seconds)</font>\n",
    "    - 將 `seconds` 轉換為本地時間，`seconds` 可以放入 `time.time()` 回傳得來的秒數\n",
    "    - 若不放入引數，則套用當前時間\n",
    "    \n",
    "3. <font face='monospace'>time.<font color='ffaa00'>__localtime__</font>(seconds)</font>\n",
    "    - 將放入的秒數轉換為 `struct_time` 格式的本地時間\n",
    "    - 若不放入引數，則套用當前時間\n",
    "    - `struct_time` 可直接直接取得年、月、日等訊息\n",
    "    \n",
    "4. <font face='monospace'>time.<font color='ffaa00'>__asctime__</font>([tuple])</font>\n",
    "    - 可以把 `struct_time` 轉換為字串形式\n",
    "    \n",
    "5. <font face='monospace'>time.<font color='ffaa00'>__mktime__</font>([tuple])</font>\n",
    "    - 與 `time.localtime()` 相反，可以把 struct_time 格式轉換爲秒數\n",
    "    \n",
    "6. <font face='monospace'>time.<font color='ffaa00'>__strftime__</font>(format, [tuple])</font>\n",
    "    - 將 `struct_time` 轉換為指定格式(`format`)的字串\n",
    "    - 格式對應可以參照 `help(time.strftime)` 說明，常見的格式為 `%Y-%m-%d %H:%M:%S`，對應的結果為 `2015-12-01 21:35:06`\n",
    "    - 若不輸入對應的 `struct_time`，則套用現在時間\n",
    "    \n",
    "7. <font face='monospace'>time.<font color='ffaa00'>__strptime__</font>(string, format)</font>\n",
    "    - 與 `time.strftime()` 相反，以指定的格式(`format`)解析一個時間字串(`string`)，並轉換為 `stuct_time` 格式\n",
    "    \n",
    "8. <font face='monospace'>time.<font color='ffaa00'>__sleep__</font>(seconds)</font>\n",
    "    - 顧名思義，讓程式睡一會兒"
   ]
  },
  {
   "cell_type": "code",
   "execution_count": null,
   "id": "c201b346",
   "metadata": {},
   "outputs": [],
   "source": [
    "import time\n",
    "##### START Parctice #####\n",
    "pass\n",
    "#####  End  Parctice #####"
   ]
  },
  {
   "cell_type": "markdown",
   "id": "188a9d50",
   "metadata": {},
   "source": [
    "<a id='pkg_datetime'></a>\n",
    "### datetime <font size=2>[back to package list](#buildin_home)</font>\n",
    "`datetime` 與 `time` 類似\n",
    "```python\n",
    "import datetime\n",
    "```\n",
    "\n",
    "<font face='monospace' color='77aaaa'>datetime</font> 大致上分為三個小模組\n",
    "1. <font face='monospace' color='ffaa00'>date</font>\n",
    "    - 處理日期相關的函數\n",
    "    - 使用的型態為 `datetime.date(year, month, day)`\n",
    "2. <font face='monospace' color='ffaa00'>time</font>\n",
    "    - 處理時間相關的函數\n",
    "    - 使用的型態為 `datetime.time(hour, minute, second, microsecond)`\n",
    "    - 較少使用，故這邊不多作介紹，有興趣可以到 [Python](https://docs.python.org/zh-tw/3/library/datetime.html#time-objects) 參閱\n",
    "3. <font face='monospace' color='ffaa00'>datetime</font>\n",
    "    - 處理日期＋時間相關的函數\n",
    "    - 使用的型態為 `datetime.datetime(year, month, day, hour, minute, second, microsecond)`\n",
    "\n",
    "---\n",
    "\n",
    "1. <font face='monospace'>datetime.<font color='77aaaa'>date.<font color='ffaa00'>__today__</font></font>()</font>\n",
    "    - 回傳今日日期，得到一個 `datetime.date` 物件\n",
    "    - 擁有 `year`、`month`、`day`、`weekday` 等，可以直接取得對應數值\n",
    "    - 可以使用 `date_object.strftime()` 轉換為指定格式字串（格式同 `time.strftime()`）\n",
    "    - 可以使用 `date_object.ctime()` 轉換為字串（格式同 `time.ctime()`）\n",
    "    \n",
    "1. <font face='monospace'>datetime.<font color='77aaaa'>datetime.<font color='ffaa00'>__now__</font></font>()</font>\n",
    "    - 回傳現在時間，得到一個 `datetime.datetime` 物件\n",
    "    - 除了 `date_object` 可用的以外， 還擁有 `hour`、`minute`、`second`、`microsecond` 可以直接取得對應數值\n",
    "    - 可以使用 `datetime_object.strftime()` 轉換為指定格式字串（格式同 `time.strftime()`）\n",
    "    - 可以使用 `datetime_object.ctime()` 轉換為字串（格式同 `time.ctime()`）"
   ]
  },
  {
   "cell_type": "code",
   "execution_count": null,
   "id": "171519c8",
   "metadata": {},
   "outputs": [],
   "source": [
    "import datetime\n",
    "##### START Parctice #####\n",
    "pass\n",
    "#####  End  Parctice #####"
   ]
  },
  {
   "cell_type": "markdown",
   "id": "8dad9ec4",
   "metadata": {},
   "source": [
    "### 其他我覺得好用的"
   ]
  },
  {
   "cell_type": "markdown",
   "id": "8a6fde98",
   "metadata": {},
   "source": [
    "<a id='pkg_itertools'></a>\n",
    "### itertools <font size=2>[back to package list](#buildin_home)</font>\n",
    "`itertools` 提供許多迭代相關的工具，這邊介紹幾個跟數學有關的，其餘可參考 [Python Document](https://docs.python.org/3/library/itertools.html)\n",
    "```python\n",
    "import itertools\n",
    "```\n",
    "\n",
    "1. <font face='monospace'>itertools.<font color='ffaa00'>__product__</font>(*iterables, repeat=<font color='44aa44'>1</font>)</font>\n",
    "    - 當 `iterables` 有多個且 `repeat` 為 1 時，即為卡氏積\n",
    "    - 當只有一個 `iterables` 且 `repeat` 為 1 以上時，即為重複排列\n",
    "    - 當 `iterables` 有多個且 `repeat` 大於 1 時，結果為：先做卡氏積，再以卡氏積的集合做重複排列\n",
    "    - 會回傳一個 `itertools.product` 物件，為可迭代物，可用 list(product_object) 即可瀏覽全部元素\n",
    "1. <font face='monospace'>itertools.<font color='ffaa00'>__permutations__</font>(iterable, r=<font color='44aa44'>None</font>)</font>\n",
    "    - 即一般排列，回傳輸入之 iterable 的 $P^n_r$ 的所有排列情形數\n",
    "    - `r` 預設為 `None`，結果即 $P^n_n$\n",
    "    \n",
    "1. <font face='monospace'>itertools.<font color='ffaa00'>__combinations__</font>(iterable, r)</font>\n",
    "    - 即一般組合，回傳輸入之 iterable 的 $P^n_r$ 的所有組合情形數\n",
    "    \n",
    "1. <font face='monospace'>itertools.<font color='ffaa00'>__combinations_with_replacement__</font>(iterable, r)</font>\n",
    "    - 即重複組合，回傳輸入之 iterable 的 $H^n_r$ 的所有組合情形數"
   ]
  },
  {
   "cell_type": "code",
   "execution_count": null,
   "id": "becab339",
   "metadata": {},
   "outputs": [],
   "source": [
    "import itertools\n",
    "##### START Parctice #####\n",
    "pass\n",
    "#####  End  Parctice #####"
   ]
  },
  {
   "cell_type": "markdown",
   "id": "f41b99b8",
   "metadata": {},
   "source": [
    "<a id='pkg_OrderedDict'></a>\n",
    "### OrderedDict <font size=2>[back to package list](#buildin_home)</font>\n",
    "`OrderedDict` 如其名，提供有序的字典。來自 `collections` 這個 package，`collections` 提供許多由先前介紹的基本資料結構所延伸的資料結構\n",
    "```python\n",
    "from collections import OrderedDict\n",
    "```\n",
    "\n",
    "1. <font face='monospace'>OrderedDict(dict)</font>\n",
    "    - 把一個字典轉換為有序的字典\n",
    "\n",
    "1. <font face='monospace'>OrderedDict.<font color='ffaa00'>__popitem__</font>(last=<font color='44aa44'>True</font>)</font>\n",
    "    - 如同 `list` 的 `pop`，當 `last` 為 `True` 時取出最尾端的元素，`False` 則取出最前端\n",
    "    - 回傳一個 `tuple` 為 `(key, value)`\n",
    "    \n",
    "1. <font face='monospace'>OrderedDict.<font color='ffaa00'>__pop__</font>(key[,default])</font>\n",
    "    - 如同 `list` 的 `remove`，取出對應的 `key` 所對應的 `value`，若有設定 default，當找不到 `key` 會回傳 `default`，否則會引發 `KeyError`"
   ]
  },
  {
   "cell_type": "code",
   "execution_count": null,
   "id": "4a98bde3",
   "metadata": {},
   "outputs": [],
   "source": [
    "from collections import OrderedDict\n",
    "##### START Parctice #####\n",
    "pass\n",
    "#####  End  Parctice #####"
   ]
  },
  {
   "cell_type": "code",
   "execution_count": null,
   "id": "cb542a5b",
   "metadata": {},
   "outputs": [],
   "source": []
  }
 ],
 "metadata": {
  "kernelspec": {
   "display_name": "Python 3 (ipykernel)",
   "language": "python",
   "name": "python3"
  },
  "language_info": {
   "codemirror_mode": {
    "name": "ipython",
    "version": 3
   },
   "file_extension": ".py",
   "mimetype": "text/x-python",
   "name": "python",
   "nbconvert_exporter": "python",
   "pygments_lexer": "ipython3",
   "version": "3.10.6"
  }
 },
 "nbformat": 4,
 "nbformat_minor": 5
}
