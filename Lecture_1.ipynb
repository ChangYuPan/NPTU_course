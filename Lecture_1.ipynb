{
 "cells": [
  {
   "cell_type": "markdown",
   "metadata": {},
   "source": [
    "<font color='#77aaaa' size=40> Environment </font>"
   ]
  },
  {
   "cell_type": "markdown",
   "metadata": {},
   "source": [
    "> Install Python with Anaconda [[Download]](https://www.anaconda.com/products/individual)\n",
    "\n",
    "### Get started by Anaconda Navigator\n",
    "![Anaconda Navigator](images/Anaconda_Navigator.png)\n",
    "\n",
    "### Get started by Anaconda Prompt (Windows)\n",
    "[[image source]](https://www.google.com/url?sa=i&url=https%3A%2F%2Fdocs.anaconda.com%2Fanaconda%2Finstall%2Fverify-install%2F&psig=AOvVaw3wjLuNwb1QeC_33Q4iu6U3&ust=1646128542546000&source=images&cd=vfe&ved=0CAsQjRxqFwoTCMi13OqQovYCFQAAAAAdAAAAABAD)\n",
    "![windos_anaconda_prompt](images/win_anaconda_prompt.png)\n",
    "\n",
    "### Get started by Terminal (MacOS)\n",
    "![MacOS_Terminal](images/Terminal.png)"
   ]
  },
  {
   "cell_type": "markdown",
   "metadata": {},
   "source": [
    "### Remark of Jupyter Notebook\n",
    "- `shift`/`ctrl` + `enter` to execute a cell\n",
    "- Change to edit mode: Double click or press `enter`\n",
    "- Change to command mode: Press `Esc`\n",
    "- Press `H` in command mode to see the shortcuts\n",
    "- Press `P` in command mode to search more command\n",
    "\n",
    "##### Useful shortcut\n",
    "- `A` (command mode): Add a cell above\n",
    "- `B` (command mode): Add a cell below\n",
    "- `X` (command mode): cut a cell\n",
    "- `C` (command mode): copy a cell\n",
    "- `V` (command mode): paste a cell\n",
    "- `Z` (command mode): undo cell deletion\n",
    "- `D, D` (command mode): delete a cell\n",
    "---"
   ]
  },
  {
   "cell_type": "markdown",
   "metadata": {},
   "source": [
    "<font color='#77aaaa' size=40> Python </font>"
   ]
  },
  {
   "cell_type": "markdown",
   "metadata": {},
   "source": [
    "### Variable\n",
    "\n",
    "`Definition`\n",
    "- Start with __letters__ or __underscore__\n",
    "- __Letters__, __digits__ and __underscore__ are acceptable\n",
    "- Case sensitive\n",
    "\n",
    "`Example`\n",
    "- x\n",
    "- Num\n",
    "- \\_count\n",
    "\n",
    "`Counter example`\n",
    "- 4Class\n",
    "- A@b\n",
    "\n",
    "> There are lots of __keyword__ in python that you can't use as a variable\n",
    "```python\n",
    "if, elif, else, for, while, list, dict, set, str, etc.\n",
    "```\n",
    "\n",
    "> We're used to naming variable meaningfully and following the \"naming convention\".\n",
    "Generally, we use `UpperCamelCase` for class name, `CAPITALIZED_WITH_UNDERSCORES` for constant and `lowercase_separated_by_underscores` for the others.[[source]](https://zh.wikipedia.org/wiki/%E5%91%BD%E5%90%8D%E8%A7%84%E5%88%99_(%E7%A8%8B%E5%BA%8F%E8%AE%BE%E8%AE%A1))  \n",
    "For example, if we want to name a variable for record number of pokemon\n",
    "- number_pokemon\n",
    "- num_pokemon\n",
    "- numPokemon (lower camel case, 小駝峰式命名法)\n",
    "- NumPokemon (upper camel case, 大駝峰式命名法)\n",
    "\n",
    "---"
   ]
  },
  {
   "cell_type": "markdown",
   "metadata": {},
   "source": [
    "### Data type\n",
    "- str: String. Use single/double quotation\n",
    "- Integra: int\n",
    "- float: float (double precision)\n",
    "- bool: True / False\n",
    "- Nonetype: None\n",
    "\n",
    "##### Assign value\n",
    "```python\n",
    "# str\n",
    "name = 'John is.'\n",
    "# int\n",
    "rank = 3\n",
    "# float\n",
    "average = 86.34\n",
    "# bool\n",
    "is_rich = False\n",
    "# Nonetype\n",
    "nothing = None\n",
    "```\n",
    "> Use the key word `type` to get a variable's data type"
   ]
  },
  {
   "cell_type": "code",
   "execution_count": null,
   "metadata": {},
   "outputs": [],
   "source": [
    "# str\n",
    "name = 'John is.'\n",
    "# int\n",
    "rank = 3\n",
    "# float\n",
    "average = 86.34\n",
    "# bool\n",
    "is_rich = False\n",
    "# Nonetype\n",
    "nothing = None\n",
    "# get type\n",
    "type(name), type(rank), type(average), type(is_rich), type(nothing)"
   ]
  },
  {
   "cell_type": "markdown",
   "metadata": {},
   "source": [
    "> Change data type with the corresponding function\n",
    "```python\n",
    "str(), int(), float(), bool()\n",
    "```"
   ]
  },
  {
   "cell_type": "code",
   "execution_count": null,
   "metadata": {},
   "outputs": [],
   "source": [
    "str(10.34)"
   ]
  },
  {
   "cell_type": "code",
   "execution_count": null,
   "metadata": {},
   "outputs": [],
   "source": [
    "int(10.34)"
   ]
  },
  {
   "cell_type": "code",
   "execution_count": null,
   "metadata": {},
   "outputs": [],
   "source": [
    "float('10.34')"
   ]
  },
  {
   "cell_type": "markdown",
   "metadata": {},
   "source": [
    "### Operators"
   ]
  },
  {
   "cell_type": "markdown",
   "metadata": {},
   "source": [
    "##### Arithmetic operator 算術運算子\n",
    "- addition `(+)`\n",
    "- subtraction `(-)`\n",
    "- multiplication `(*)`\n",
    "- division (`/)`\n",
    "- mod `(%)`\n",
    "- quotient `(//)`\n",
    "- power `(**)`\n",
    "\n",
    "> `^` means `power` in some language, but not in Python"
   ]
  },
  {
   "cell_type": "code",
   "execution_count": null,
   "metadata": {},
   "outputs": [],
   "source": [
    "# mod\n",
    "10 % 3"
   ]
  },
  {
   "cell_type": "code",
   "execution_count": null,
   "metadata": {},
   "outputs": [],
   "source": [
    "# quotient\n",
    "10 // 3"
   ]
  },
  {
   "cell_type": "code",
   "execution_count": null,
   "metadata": {},
   "outputs": [],
   "source": [
    "# power\n",
    "10 ** 3"
   ]
  },
  {
   "cell_type": "markdown",
   "metadata": {},
   "source": [
    "##### Arithmetic operator of String\n",
    "- addition (+)"
   ]
  },
  {
   "cell_type": "code",
   "execution_count": null,
   "metadata": {},
   "outputs": [],
   "source": [
    "'Hello ' + 'world' + '!'"
   ]
  },
  {
   "cell_type": "markdown",
   "metadata": {},
   "source": [
    "##### Comparison operator 比較運算子\n",
    "- greater than (>)\n",
    "- less than (<)\n",
    "- equal to (==)\n",
    "- not equal to (!=)\n",
    "- greater than or equal to (>=)\n",
    "- less than or equal to (<=)"
   ]
  },
  {
   "cell_type": "code",
   "execution_count": null,
   "metadata": {},
   "outputs": [],
   "source": [
    "# greater than\n",
    "10 > 3"
   ]
  },
  {
   "cell_type": "code",
   "execution_count": null,
   "metadata": {},
   "outputs": [],
   "source": [
    "# less than or equal to\n",
    "10 <= 3"
   ]
  },
  {
   "cell_type": "code",
   "execution_count": null,
   "metadata": {},
   "outputs": [],
   "source": [
    "# not equal to\n",
    "10 != 3"
   ]
  },
  {
   "cell_type": "markdown",
   "metadata": {},
   "source": [
    "##### Logical operators 邏輯運算子\n",
    "- and\n",
    "- or\n",
    "- not"
   ]
  },
  {
   "cell_type": "code",
   "execution_count": null,
   "metadata": {},
   "outputs": [],
   "source": [
    "# and\n",
    "5 > 3 and 6 == 5"
   ]
  },
  {
   "cell_type": "code",
   "execution_count": null,
   "metadata": {},
   "outputs": [],
   "source": [
    "# or\n",
    "5 > 3 or 6 == 5"
   ]
  },
  {
   "cell_type": "code",
   "execution_count": null,
   "metadata": {},
   "outputs": [],
   "source": [
    "# not\n",
    "not 5 > 3"
   ]
  },
  {
   "cell_type": "markdown",
   "metadata": {},
   "source": [
    "> 單純只有一個數字的 boolean 值：除了 0 以外的數字皆為 `True`，0 則為 `False`"
   ]
  },
  {
   "cell_type": "code",
   "execution_count": null,
   "metadata": {},
   "outputs": [],
   "source": [
    "bool(0), bool(3)"
   ]
  },
  {
   "cell_type": "markdown",
   "metadata": {},
   "source": [
    "##### Assignment operator\n",
    "We can assign value with an operator. For example, we want to assign a number `x` equal to `x + 5`.<br>\n",
    "Both of the following statement are avaliable.<br>\n",
    "```python\n",
    "x = x + 5\n",
    "x += 5\n",
    "```"
   ]
  },
  {
   "cell_type": "code",
   "execution_count": null,
   "metadata": {},
   "outputs": [],
   "source": [
    "x = 3\n",
    "x += 5\n",
    "x"
   ]
  },
  {
   "cell_type": "markdown",
   "metadata": {},
   "source": [
    "### Input and Output\n",
    "Use `input()` to get user's typing  \n",
    "Use `print()` to show the value"
   ]
  },
  {
   "cell_type": "code",
   "execution_count": null,
   "metadata": {},
   "outputs": [],
   "source": [
    "score = input('Please enter a score (0 ~ 100): ')"
   ]
  },
  {
   "cell_type": "code",
   "execution_count": null,
   "metadata": {},
   "outputs": [],
   "source": [
    "print(score)"
   ]
  },
  {
   "cell_type": "code",
   "execution_count": null,
   "metadata": {},
   "outputs": [],
   "source": [
    "type(score)"
   ]
  },
  {
   "cell_type": "markdown",
   "metadata": {},
   "source": [
    "> Variable which catch the return value of `input()` is always string.\n",
    "You can use `eval()` to change the type automatically if the return value of input is numerical."
   ]
  },
  {
   "cell_type": "code",
   "execution_count": null,
   "metadata": {},
   "outputs": [],
   "source": [
    "score = eval(input('Please enter a score (0 ~ 100): '))\n",
    "print(score)\n",
    "print(type(score))"
   ]
  },
  {
   "cell_type": "markdown",
   "metadata": {},
   "source": [
    "##### Formatted Output\n",
    "There are two way to foramt string in Python\n",
    "- String.Format Method\n",
    "- f-string"
   ]
  },
  {
   "cell_type": "markdown",
   "metadata": {},
   "source": [
    "##### String.Format Method\n",
    "The basic syntax is\n",
    "```python\n",
    "'text{}'.format(value)\n",
    "```\n",
    "Then the value will replace the placeholder."
   ]
  },
  {
   "cell_type": "code",
   "execution_count": null,
   "metadata": {},
   "outputs": [],
   "source": [
    "pokemon = '綠毛蟲'\n",
    "text = 'My favorite Pokemon is {}.'.format(pokemon)\n",
    "print(text)"
   ]
  },
  {
   "cell_type": "code",
   "execution_count": null,
   "metadata": {},
   "outputs": [],
   "source": [
    "pokemon1 = '綠毛蟲'\n",
    "pokemon2 = '暴鯉龍'\n",
    "text = 'I have {}, but my favorite Pokemon is {}.'.format(pokemon1, pokemon2)\n",
    "print(text)"
   ]
  },
  {
   "cell_type": "markdown",
   "metadata": {},
   "source": [
    "> You can add index numbers into the placeholders to reorder values. (started with 0)"
   ]
  },
  {
   "cell_type": "code",
   "execution_count": null,
   "metadata": {},
   "outputs": [],
   "source": [
    "pokemon1 = '綠毛蟲'\n",
    "pokemon2 = '暴鯉龍'\n",
    "text = 'I have {1}, but my favorite Pokemon is {0}.'.format(pokemon1, pokemon2)\n",
    "print(text)"
   ]
  },
  {
   "cell_type": "markdown",
   "metadata": {},
   "source": [
    "> use `''' '''` can type string with multiple lines."
   ]
  },
  {
   "cell_type": "code",
   "execution_count": null,
   "metadata": {},
   "outputs": [],
   "source": [
    "item1 = 'pen'\n",
    "item2 = 'apple'\n",
    "item3 = 'pine'\n",
    "text = '''\n",
    "I have a {0}.\n",
    "I have an {1}.\n",
    "Uh! {1}{0}.\n",
    "I have a {0}.\n",
    "I have a {2}{1}.\n",
    "Uh! {2}{1}{0}.\n",
    "{1}{0}, {2}{1}{0}\n",
    "Uh! {0}{2}{1}{1}{0}.\n",
    "'''\n",
    "print(text.format(item1, item2, item3))"
   ]
  },
  {
   "cell_type": "markdown",
   "metadata": {},
   "source": [
    "##### f-string\n",
    "The basic syntax is\n",
    "```python\n",
    "f'text{value}'\n",
    "```\n",
    "Then the value will replace the placeholder."
   ]
  },
  {
   "cell_type": "code",
   "execution_count": null,
   "metadata": {},
   "outputs": [],
   "source": [
    "# string\n",
    "pokemon1 = '綠毛蟲'\n",
    "pokemon2 = '暴鯉龍'\n",
    "text = f'I have {pokemon1}, but my favorite Pokemon is {pokemon2}.'\n",
    "print(text)"
   ]
  },
  {
   "cell_type": "code",
   "execution_count": null,
   "metadata": {},
   "outputs": [],
   "source": [
    "# numbers\n",
    "pokemon = '綠毛蟲'\n",
    "height = 0.3 # (m)\n",
    "weight = 2.9 # (kg)\n",
    "text = f'I have {pokemon}.Height = {height}(m), weight = {weight}(kg).'\n",
    "print(text)"
   ]
  },
  {
   "cell_type": "markdown",
   "metadata": {},
   "source": [
    "### Format String & Numbers\n",
    "Specify the number of digits and the number of decimals in placeholders.\n",
    "The basic syntax is\n",
    "```python\n",
    "f'{variable:5.2f}'\n",
    "```\n",
    "Means that this placeholder shows a floating point with 5 digits width and 2 decimals.  \n",
    "<br>\n",
    "<div>\n",
    "    <font color='#ff7777'>[Remark]</font><br>\n",
    "    1. Point in floating point counts 1 digits.<br>\n",
    "    2. The number of digits wiil be omitted if the numebrs use more digits than your assignment.<br>\n",
    "</div>"
   ]
  },
  {
   "cell_type": "code",
   "execution_count": null,
   "metadata": {},
   "outputs": [],
   "source": [
    "pokemon = '綠毛蟲'\n",
    "height = 0.3 # (m)\n",
    "weight = 2.9 # (kg)\n",
    "text = f'I have {pokemon}.Height = {height:6.3f}(m), weight = {weight:.2f}(kg).'\n",
    "print(text)"
   ]
  },
  {
   "cell_type": "markdown",
   "metadata": {},
   "source": [
    "> 1. The number of digits can be omitted.\n",
    "2. You can add 0 in front of the number of digits to fill 0 to the left.\n",
    "3. Use `d` to assign integers and `s` to string."
   ]
  },
  {
   "cell_type": "code",
   "execution_count": null,
   "metadata": {},
   "outputs": [],
   "source": [
    "pokemon = '暴鯉龍'\n",
    "height = 6.5 # (m)\n",
    "weight = 235 # (kg)\n",
    "text = f'I have {pokemon:5s}.Height = {height:05.2f}(m), weight = {weight:05d}(kg).'\n",
    "print(text)"
   ]
  },
  {
   "cell_type": "code",
   "execution_count": null,
   "metadata": {},
   "outputs": [],
   "source": [
    "# String.format version\n",
    "pokemon = '暴鯉龍'\n",
    "height = 6.5 # (m)\n",
    "weight = 235 # (kg)\n",
    "text = 'I have {:5s}.Height = {:05.2f}(m), weight = {:05d}(kg).'.format(pokemon, height, weight)\n",
    "print(text)"
   ]
  },
  {
   "cell_type": "markdown",
   "metadata": {},
   "source": [
    "### String format : Align center/right/left\n",
    "1. `^`: align center\n",
    "2. `>`: align left\n",
    "3. `<`: align right"
   ]
  },
  {
   "cell_type": "code",
   "execution_count": null,
   "metadata": {},
   "outputs": [],
   "source": [
    "pokemon1 = '綠毛蟲'\n",
    "height1 = 0.3 # (m)\n",
    "weight1 = 2.9 # (kg)\n",
    "pokemon2 = '暴鯉龍'\n",
    "height2 = 6.5 # (m)\n",
    "weight2 = 235 # (kg)\n",
    "text = 'Name:{:^6s}| Height = {:>8.3f}(m), weight = {:<8.3f}(kg).'"
   ]
  },
  {
   "cell_type": "code",
   "execution_count": null,
   "metadata": {},
   "outputs": [],
   "source": [
    "print(text.format(pokemon1, height1, weight1))\n",
    "print(text.format(pokemon2, height2, weight2))"
   ]
  },
  {
   "cell_type": "markdown",
   "metadata": {},
   "source": [
    "> There are lots of tricks for formatting string. `Google` is our best friend.\n",
    "\n",
    "[[image source: captain]](https://images.app.goo.gl/iPkxeSXx1syMFUQ87)\n",
    "[[image source: google]](https://images.app.goo.gl/xgxrVPVZXZo1YtYr8)\n",
    "<img src='images/onYourLeft.jpg' alt=\"On your left\" style=\"width:400px;\"/>"
   ]
  },
  {
   "cell_type": "markdown",
   "metadata": {},
   "source": [
    "### Exercise 1-1[[source]](https://www.tqc.org.tw/user/Example/B973D99B-4C85-44B2-9133-BD34827395B4.pdf)\n",
    "設計說明\n",
    "```\n",
    "試撰寫一程式，輸入四個分別含有小數１到４位的浮點數，\n",
    "然後將這四個浮點數以欄寬為７，每列印兩個的方式，先列印向右靠齊，再列印向左靠齊，\n",
    "左右皆以直線｜（Vertival line）作為邊界且兩數中間以：（冒號）隔開。\n",
    "其中，輸出浮點數到小數點後第二位。\n",
    "```\n",
    "範例輸入\n",
    "```\n",
    "23.12\n",
    "359.3\n",
    "100.4617\n",
    "564.329\n",
    "```\n",
    "範例輸出\n",
    "```\n",
    "|  23.12: 359.30|\n",
    "| 100.46: 564.33|\n",
    "|23.12  :359.30 |\n",
    "|100.46 :564.33 |\n",
    "```"
   ]
  },
  {
   "cell_type": "code",
   "execution_count": null,
   "metadata": {},
   "outputs": [],
   "source": []
  }
 ],
 "metadata": {
  "kernelspec": {
   "display_name": "Python 3",
   "language": "python",
   "name": "python3"
  },
  "language_info": {
   "codemirror_mode": {
    "name": "ipython",
    "version": 3
   },
   "file_extension": ".py",
   "mimetype": "text/x-python",
   "name": "python",
   "nbconvert_exporter": "python",
   "pygments_lexer": "ipython3",
   "version": "3.7.6"
  }
 },
 "nbformat": 4,
 "nbformat_minor": 4
}
