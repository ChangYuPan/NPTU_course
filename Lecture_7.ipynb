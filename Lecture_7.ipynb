{
 "cells": [
  {
   "cell_type": "markdown",
   "id": "48f7e901",
   "metadata": {},
   "source": [
    "<a id='top'></a>\n",
    "<font color='#77aaaa' size=40> Class(類別)</font>"
   ]
  },
  {
   "cell_type": "markdown",
   "id": "973b7d51",
   "metadata": {},
   "source": [
    "<a id='class'></a>\n",
    "### Class (類別)\n",
    "<font color='#ff7777' face='monospace'>Q: 什麼是 Class（What）?</font><br>\n",
    "<font face='monospace'>\n",
    "    A: <br>\n",
    "    Class 提供了一種結合資料與功能的手段。建立一個 class 將會新增一個物件的<font color='#77aaaa'>型別 (type)</font>，並且允許建立該型別的新<font color='#77aaaa'>實例 (instance)</font>。每一個 class 實例可以擁有一些維持該實例狀態的<font color='#77aaaa'>屬性 (attribute)</font>。Class 實例也可以有一些（由其 class 所定義的）<font color='#77aaaa'>method（方法）</font>，用於修改該實例的狀態。\n",
    "</font><br>\n",
    "<font face='monospace' size=2>(取自[Python documentation](https://docs.python.org/zh-tw/3/tutorial/classes.html))</font><br>\n",
    "\n",
    "<font color='#ff7777' face='monospace'>Q: 為什麼需要 Class（Why）?</font><br>\n",
    "<font face='monospace'>\n",
    "    A: <br>\n",
    "    類別在 Python 中是一種用來描述對象的工具。對象是程序中的基本單位，它可以包含資料 (屬性) 和行為 (方法)。類別就是用來定義這些對象的模板。類別還可以用來封裝資料和行為，使得程式碼更加清晰易讀。當你在寫程式時，你可以將相關的資料和行為放在同一個類別中，這樣就能更加清楚地看出這些資料和行為之間的關係，並且可以更加有效地管理這些資料和行為。\n",
    "</font><br>\n",
    "<font face='monospace' size=2>(取自[ChatGPT 的回答](https://chat.openai.com/chat))</font><br>\n",
    "\n",
    "<font color='#ff7777' face='monospace'>Q: 什麼時候需要 Class（When）?</font><br>\n",
    "<font face='monospace'>\n",
    "    A:<br>\n",
    "    其實在 Python 中的所有「物件」都可以視為是某個類別或是其實例，在某些情況下我們會需要客製化這樣一個類別，來達成該類別之間或是至跨類別之間的互動，類別讓我們得以在 Python 中實現物件與物件的互動，也就是常聽到的「<font color='#77aaaa' face='monospace'>物件導向程式設計 (<font color='#ffaa00'>__O__</font>bject-<font color='#ffaa00'>__O__</font>riented <font color='#ffaa00'>__P__</font>rogramming)</font>」\n",
    "</font><br>"
   ]
  },
  {
   "cell_type": "markdown",
   "id": "267b702d",
   "metadata": {},
   "source": [
    "<a id='index'></a>\n",
    "我們大概會分成以下分類來介紹\n",
    "\n",
    "1. 基本語法 ([Go](#basic_syntax))\n",
    "2. 建構子 (Constructor) \\_\\_init\\_\\_ & \\_\\_雙底線方法\\_\\_([Go](#double_underscore))\n",
    "3. 繼承 (Inheritance) ([Go](#inheritance))\n",
    "4. [classmethod](https://docs.python.org/zh-tw/3/library/functions.html#classmethod) & [staticmethod](https://docs.python.org/zh-tw/3/library/functions.html#staticmethod) & [property](https://docs.python.org/zh-tw/3/library/functions.html#property) (這個不多作介紹，有興趣可以自行估狗，超連結為 Python documentation)"
   ]
  },
  {
   "cell_type": "markdown",
   "id": "82f829fd",
   "metadata": {},
   "source": [
    "<a id='basic_syntax'></a>\n",
    "### 基本語法\n",
    "\n",
    "如同先前提到的，其實像 python 中的字串(str)、串列(list)等，都是一個類別，有點像通稱那樣，而所謂的實例(instance)即是該類別實體化的一個物件。<br>\n",
    "\n",
    "舉例來說，「學生」是一個類別，一個班級內所有人都屬於「學生」這個類別，而每一個獨立的人則是「學生」這個類別實體化的「物件」，我們就稱為實例(instance)<br>\n",
    "\n",
    "- <font color='#ffaa00' face='monospace'>類別屬性</font><br>\n",
    "對於類別來說會有其特有的屬性，我們稱為<font color='#ffaa00' face='monospace'>類別屬性</font>，<font color='#ff7777' face='monospace'>所有該類別的實體都一起共用</font>。例如所屬的學校都是 NPTU。<br>\n",
    "\n",
    "\n",
    "- <font color='#ffaa00' face='monospace'>實體屬性</font><br>\n",
    "而對於實體來說，也會具有其實體的屬性，<font color='#ff7777' face='monospace'>實體之間可能相異且不共用</font>，稱為<font color='#ffaa00' face='monospace'>實體屬性</font>。例如班上的學生都有各自的名字。<br>\n",
    "\n",
    "\n",
    "基本語法 ＆ 定義方式如下<br>\n",
    "\n",
    "```python\n",
    "class MyStudent: # 通常 class 名稱常見使用 UpperCamelCase (大駝峰式命名法)\n",
    "    # 底下這些稱為屬性 (attribute)\n",
    "    year = 2022\n",
    "    school = 'NPTU'\n",
    "    subject = 'Python'\n",
    "    \n",
    "    # 底下這些稱為方法 (method)，可以理解為就是定義在類別中的函數\n",
    "    def print_info(self): # self 指的是 instance 本身，詳見建構子\n",
    "        info = f'''\n",
    "        year: {self.year}\n",
    "        school: {self.school}\n",
    "        subject: {self.subject}\n",
    "        '''\n",
    "        print(info)\n",
    "        \n",
    "    def change_year(self, year):\n",
    "        self.year = year\n",
    "```\n",
    "\n",
    "創建實例基本語法如下\n",
    "```python\n",
    "student1 = MyStudent()\n",
    "student2 = MyStudent()\n",
    "```"
   ]
  },
  {
   "cell_type": "code",
   "execution_count": null,
   "id": "fe272a25",
   "metadata": {},
   "outputs": [],
   "source": [
    "##### START Parctice #####\n",
    "pass\n",
    "#####  End  Parctice #####"
   ]
  },
  {
   "cell_type": "markdown",
   "id": "79e9b425",
   "metadata": {},
   "source": [
    "[back to index](#index)\n",
    "\n",
    "---"
   ]
  },
  {
   "cell_type": "markdown",
   "id": "360cfeae",
   "metadata": {},
   "source": [
    "<a id='double_underscore'></a>\n",
    "### 建構子 (Constructor) \\_\\_init\\_\\_ & \\_\\_雙底線方法\\_\\_\n",
    "\n",
    "建構子（Constructor）是當一個 instance 被創建時會被調用的方法（method），該方法即是 <font color='#ffaa00' face='monospace'>__\\_\\_init\\_\\___</font>。<br>\n",
    "\n",
    "我們可以透過覆寫這個方法，把我們希望初始化實例得時候要做的事情寫在裡面<br>\n",
    "\n",
    "基本語法如下\n",
    "```python\n",
    "class MyStudent: # 通常 class 名稱常見使用 UpperCamelCase (大駝峰式命名法)\n",
    "    # 底下這些稱為屬性 (attribute)\n",
    "    year = 2022\n",
    "    school = 'NPTU'\n",
    "    subject = 'Python'\n",
    "    \n",
    "    # 底下這些稱為方法 (method)，可以理解為就是定義在類別中的函數\n",
    "    def __init__(self, name):\n",
    "        self.name = name\n",
    "        self.print_info()\n",
    "    \n",
    "    def print_info(self): # self 指的是 instance 本身，詳見建構子\n",
    "        info = f'''\n",
    "        name: {self.name}\n",
    "        year: {self.year}\n",
    "        school: {self.school}\n",
    "        subject: {self.subject}\n",
    "        '''\n",
    "        print(info)\n",
    "        \n",
    "    def change_year(self, year):\n",
    "        self.year = year\n",
    "```"
   ]
  },
  {
   "cell_type": "markdown",
   "id": "6d837102",
   "metadata": {},
   "source": [
    "<font color='#ff7777' face='monospace'>[Remark]</font>\n",
    "1. <font color='#ffaa00' face='monospace'>__\\_\\_init\\_\\___</font> 必須包含一個參數 <font color='#44aa44' face='monospace'>self</font>，<font color='#44aa44' face='monospace'>self</font> 代表的是 instance 本身，而其他所有的方法也都必須包含 <font color='#44aa44' face='monospace'>self</font> 這個參數（除了 [classmethod & staticmethod]((#method_type))），且必須放在第一個。\n",
    "\n",
    "2. 於實例方法中定義的屬性皆為實例屬性\n",
    "\n",
    "3. 在類別內使用屬性或調用方法需要用 <font color='#44aa44' face='monospace'>self</font> 開頭以「點分隔」的方式呼叫\n",
    "\n",
    "4. 雖然實例方法必定有 <font color='#44aa44' face='monospace'>self</font> 這個參數，但調用實例方法時不需要傳入該引數，如上方範例所示，我們在 <font color='#ffaa00' face='monospace'>__\\_\\_init\\_\\___</font> 中調用 `print_info` 這個 method 時並沒有傳入引數。\n",
    "\n",
    "5. 與上述同理，創建實例時亦不需要傳入 <font color='#44aa44' face='monospace'>self</font> 這個引數，只需傳入剩餘的引數即可"
   ]
  },
  {
   "cell_type": "code",
   "execution_count": null,
   "id": "90d3411a",
   "metadata": {},
   "outputs": [],
   "source": [
    "##### START Parctice #####\n",
    "pass\n",
    "#####  End  Parctice #####"
   ]
  },
  {
   "cell_type": "markdown",
   "id": "47fae0ed",
   "metadata": {},
   "source": [
    "> 除了上述提到的建構子以外，Python 還有許多以雙底線開頭結尾的保留字，所以變數命名儘量不要以此方式命名\n",
    "\n",
    "常見的有：\n",
    "\n",
    "1. <font color='#ffaa00' face='monospace'>__\\_\\_str\\_\\___</font>: 使用 `print` 會顯示的結果，必須回傳字串\n",
    "\n",
    "2. <font color='#ffaa00' face='monospace'>__\\_\\_repr\\_\\___</font>: 表示 'representation'，直接印出變數會顯示的結果，必須回傳字串，有些時候會直接調用 <font color='#ffaa00' face='monospace'>__\\_\\_str\\_\\___</font> 的結果回傳\n",
    "\n",
    "3. <font color='#ffaa00' face='monospace'>__\\_\\_dict\\_\\___</font>: 會回傳一個 `dict`，內容為該實例相關的屬性及方法\n",
    "\n",
    "4. <font color='#ffaa00' face='monospace'>__\\_\\_getitem\\_\\___(self, idx)</font>: 是一個 method，且包含一個參數（變數名稱可自訂），當有定義此方法時，可以對實例進行索引，索引回傳的內容就由此方法定義"
   ]
  },
  {
   "cell_type": "markdown",
   "id": "a1435a15",
   "metadata": {},
   "source": [
    "例如我們可以將原本的 `print_info` 改寫到 `__str__` 中，則我們就可以用 `print` 顯示出該資訊"
   ]
  },
  {
   "cell_type": "code",
   "execution_count": null,
   "id": "5b21b997",
   "metadata": {},
   "outputs": [],
   "source": [
    "##### START your code #####\n",
    "pass\n",
    "#####  End  ypur code #####"
   ]
  },
  {
   "cell_type": "markdown",
   "id": "e939d5cb",
   "metadata": {},
   "source": [
    "> 有了以上的內容，我們已經可以將我們先前定義的矩陣改寫為類別的形式，真正創造出一個新的資料型態 `Matrix` !!! ヽ(✿ﾟ▽ﾟ)ノ"
   ]
  },
  {
   "cell_type": "code",
   "execution_count": null,
   "id": "0aab8bbd",
   "metadata": {},
   "outputs": [],
   "source": [
    "##### START your code #####\n",
    "class Matrix:\n",
    "    test = 3\n",
    "    '''Implement class `Matrix` with some basic functions.'''\n",
    "    def __init__(self, data):\n",
    "        self.test = 2\n",
    "        '''Set instance attribute `data` with the return value of method `_is_matrix`'''\n",
    "        pass\n",
    "    \n",
    "    def _is_matrix(self, data):\n",
    "        '''Return data if input data is legal else raise NotAMatrixError with reason'''\n",
    "        pass\n",
    "    \n",
    "    def size(self):\n",
    "        '''Return the matrix size (`get_size` function in matrix.py)'''\n",
    "        pass\n",
    "        \n",
    "    def min(self):\n",
    "        '''Return the matrix minimum (`get_min` function in matrix.py)'''\n",
    "        pass\n",
    "    \n",
    "    def max(self):\n",
    "        '''Return the matrix maximum (`get_max` function in matrix.py)'''\n",
    "        pass\n",
    "    \n",
    "    def T(self):\n",
    "        '''Return the transpose matrix(`mtx_transpose` function in matrix.py)'''\n",
    "        pass\n",
    "    \n",
    "    def __str__(self):\n",
    "        '''\n",
    "        Return the good look matrix in following format\n",
    "        \n",
    "        |         |\n",
    "        | 1  2  3 |\n",
    "        | 4  5  6 |\n",
    "        |         |\n",
    "        '''\n",
    "        pass\n",
    "    \n",
    "    def __repr__(self):\n",
    "        '''Return the value which is `__str__` returned'''\n",
    "        return self.__str__()\n",
    "    \n",
    "    def __getitem__(self, idx):\n",
    "        '''Return the idx-th column as a nx1 matrix'''\n",
    "        pass\n",
    "#####  End  ypur code #####"
   ]
  },
  {
   "cell_type": "code",
   "execution_count": null,
   "id": "5967a8a2",
   "metadata": {},
   "outputs": [],
   "source": [
    "mtx1 = [\n",
    "    [-0.5, 2, 3], \n",
    "    [4, 5, 6.5],\n",
    "]\n",
    "mtx2 = [\n",
    "    [1, -1, 1], \n",
    "    [-1, 1, -1],\n",
    "]\n",
    "A = Matrix(mtx1)\n",
    "B = Matrix(mtx2)"
   ]
  },
  {
   "cell_type": "code",
   "execution_count": null,
   "id": "9d1d15f8",
   "metadata": {},
   "outputs": [],
   "source": []
  },
  {
   "cell_type": "code",
   "execution_count": null,
   "id": "19944682",
   "metadata": {},
   "outputs": [],
   "source": []
  },
  {
   "cell_type": "markdown",
   "id": "9b145616",
   "metadata": {},
   "source": [
    "[back to index](#index)\n",
    "\n",
    "---"
   ]
  },
  {
   "cell_type": "markdown",
   "id": "5b226fd4",
   "metadata": {},
   "source": [
    "<a id='inheritance'></a>\n",
    "### 繼承 (Inheritance)\n",
    "繼承允許我們創造一個「衍生類別」，去繼承一個已存在的類別的所有屬性及方法。<br>\n",
    "\n",
    "在這個情況下，我們稱衍生類別為「<font color='#77aaaa' face='monospace'>子類別（subclass）</font>」，而被繼承的類別稱為「<font color='#77aaaa' face='monospace'>父類別（parent class）</font>」。<br>\n",
    "\n",
    "簡單來說，我可以用子類別的 instance 去呼叫父類別的屬性及方法，也可以覆寫（override）該方法，<br>\n",
    "\n",
    "當子類別呼叫一個 屬性/方法 時，會優先搜索子類別自己是否有定義，若有定義就用自己的，否則就去搜尋父類別的。<br>\n",
    "\n",
    "> 類別屬性與實例屬性也有類似的關係，一個 instance 呼叫屬性時會優先搜索實例屬性，若不存在則會改為搜索類別屬性"
   ]
  },
  {
   "cell_type": "markdown",
   "id": "87762d71",
   "metadata": {},
   "source": [
    "有這層關係我們就可以建立一個向量類別，作為矩陣的衍生類別，因為向量廣義上來說也是一個 $m \\times 1$ 或是 $1 \\times n$ 的矩陣<br>\n",
    "\n",
    "所以我們這邊定義向量類別 `Vector`，其輸入一樣是一個 `2d-list` 但我們限制他其中一個方向的長度必須是 1。<br>"
   ]
  },
  {
   "cell_type": "code",
   "execution_count": null,
   "id": "5a358a3c",
   "metadata": {},
   "outputs": [],
   "source": [
    "class Vector(Matrix):    \n",
    "    def __init__(self, data):\n",
    "        # 在子類別的初始化過程也必須呼叫父類別的初始化\n",
    "        # Python 提供一個 `super()` 的語法來解決較為複雜的父類別初始化過程\n",
    "        super().__init__(data=data)\n",
    "        \n",
    "    def _is_matrix(self, data):\n",
    "        if len(data) != 1 and len(data[0]) != 1:\n",
    "            raise NotAVectorError('Must be a 2-d list with shape (1, n) or (m, 1).')\n",
    "        return super()._is_matrix(data)\n",
    "    \n",
    "    def __getitem__(self, idx):\n",
    "        '''Return the idx-th element'''\n",
    "        return self.data[idx]"
   ]
  },
  {
   "cell_type": "code",
   "execution_count": null,
   "id": "875ab681",
   "metadata": {},
   "outputs": [],
   "source": [
    "##### START Parctice #####\n",
    "pass\n",
    "#####  End  Parctice #####"
   ]
  },
  {
   "cell_type": "code",
   "execution_count": null,
   "id": "e2a7da98",
   "metadata": {},
   "outputs": [],
   "source": []
  }
 ],
 "metadata": {
  "kernelspec": {
   "display_name": "Python 3 (ipykernel)",
   "language": "python",
   "name": "python3"
  },
  "language_info": {
   "codemirror_mode": {
    "name": "ipython",
    "version": 3
   },
   "file_extension": ".py",
   "mimetype": "text/x-python",
   "name": "python",
   "nbconvert_exporter": "python",
   "pygments_lexer": "ipython3",
   "version": "3.10.6"
  }
 },
 "nbformat": 4,
 "nbformat_minor": 5
}
