{
 "cells": [
  {
   "cell_type": "markdown",
   "metadata": {},
   "source": [
    "### Exercise 1-1[[source]](https://www.tqc.org.tw/user/Example/B973D99B-4C85-44B2-9133-BD34827395B4.pdf)\n",
    "設計說明\n",
    "```\n",
    "試撰寫一程式，輸入四個分別含有小數１到４位的浮點數，\n",
    "然後將這四個浮點數以欄寬為７，每列印兩個的方式，先列印向右靠齊，再列印向左靠齊，\n",
    "左右皆以直線｜（Vertival line）作為邊界且兩數中間以：（冒號）隔開。\n",
    "其中，輸出浮點數到小數點後第二位。\n",
    "```\n",
    "範例輸入\n",
    "```\n",
    "23.12\n",
    "359.3\n",
    "100.4617\n",
    "564.329\n",
    "```\n",
    "範例輸出\n",
    "```\n",
    "|  23.12: 359.30|\n",
    "| 100.46: 564.33|\n",
    "|23.12  :359.30 |\n",
    "|100.46 :564.33 |\n",
    "```"
   ]
  },
  {
   "cell_type": "markdown",
   "metadata": {},
   "source": [
    "### Exercise 2-1\n",
    "設計說明\n",
    "```\n",
    "試定義一數字不重複之 list，移除最大值與最小值後計算平均值\n",
    "輸出之平均值顯示至小數點後兩位\n",
    "```\n",
    "範例輸入\n",
    "```\n",
    "a = [90, 80.5, 65, 98, 30, 77.5, 100]\n",
    "```\n",
    "範例輸出\n",
    "```\n",
    "avg = 82.20\n",
    "```"
   ]
  },
  {
   "cell_type": "markdown",
   "metadata": {},
   "source": [
    "### Exercise 2-2\n",
    "設計說明\n",
    "```\n",
    "試利用 list 定義如下矩陣\n",
    "並輸出該矩陣的最大值及最小值（用索引方式取值）\n",
    "```\n",
    "$\n",
    "\\begin{bmatrix}\n",
    "    4 & 9 & 2\\\\\n",
    "    3 & 5 & 7\\\\\n",
    "    8 & 1 & 6\n",
    "\\end{bmatrix}\n",
    "$\n",
    "\n",
    "範例輸入\n",
    "```\n",
    "無\n",
    "```\n",
    "範例輸出\n",
    "```\n",
    "min = 1, max = 9\n",
    "```"
   ]
  },
  {
   "cell_type": "code",
   "execution_count": null,
   "metadata": {},
   "outputs": [],
   "source": []
  },
  {
   "cell_type": "code",
   "execution_count": null,
   "metadata": {},
   "outputs": [],
   "source": []
  }
 ],
 "metadata": {
  "kernelspec": {
   "display_name": "Python 3",
   "language": "python",
   "name": "python3"
  },
  "language_info": {
   "codemirror_mode": {
    "name": "ipython",
    "version": 3
   },
   "file_extension": ".py",
   "mimetype": "text/x-python",
   "name": "python",
   "nbconvert_exporter": "python",
   "pygments_lexer": "ipython3",
   "version": "3.7.6"
  }
 },
 "nbformat": 4,
 "nbformat_minor": 4
}
